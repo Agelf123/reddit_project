{
 "cells": [
  {
   "cell_type": "code",
   "execution_count": 177,
   "metadata": {},
   "outputs": [],
   "source": [
    "import pandas as pd\n",
    "pd.options.display.max_rows = 999\n",
    "pd.options.display.max_columns = 999\n",
    "import matplotlib.pyplot as plt\n",
    "import wordninja\n",
    "import regex as re\n",
    "from nltk.stem import WordNetLemmatizer\n",
    "from nltk.tokenize import RegexpTokenizer\n",
    "from nltk.tokenize import word_tokenize\n",
    "import pandas as pd\n",
    "from sklearn.model_selection import train_test_split, GridSearchCV\n",
    "from sklearn.pipeline import Pipeline\n",
    "from sklearn.linear_model import LogisticRegression\n",
    "from sklearn.feature_extraction.text import CountVectorizer, TfidfVectorizer\n",
    "from sklearn.feature_extraction.stop_words import ENGLISH_STOP_WORDS as stopwords\n",
    "from nltk.corpus import stopwords"
   ]
  },
  {
   "cell_type": "code",
   "execution_count": 165,
   "metadata": {},
   "outputs": [],
   "source": [
    "l_data = pd.read_csv('../data/liberal_results_df.csv')\n",
    "c_data = pd.read_csv('../data/conservative_results.csv')               \n"
   ]
  },
  {
   "cell_type": "code",
   "execution_count": 166,
   "metadata": {},
   "outputs": [],
   "source": [
    "l_data.drop(l_data.index[[1741]], inplace=True)# during eda it was discovered that this cell contained unusable data.\n"
   ]
  },
  {
   "cell_type": "code",
   "execution_count": 167,
   "metadata": {},
   "outputs": [],
   "source": [
    "l_data['selftext'] = l_data['selftext'].fillna('[removed]')\n",
    "c_data['selftext'] = c_data['selftext'].fillna('[removed]')# fill empty columns with removed \n"
   ]
  },
  {
   "cell_type": "code",
   "execution_count": 168,
   "metadata": {},
   "outputs": [],
   "source": [
    "l_data['selftext'] = l_data['selftext'].apply(lambda x : x.replace('[removed]',''))\n",
    "c_data['selftext'] = c_data['selftext'].apply(lambda x : x.replace('[removed]',''))#remove empty columns\n"
   ]
  },
  {
   "cell_type": "code",
   "execution_count": 169,
   "metadata": {},
   "outputs": [],
   "source": [
    "l_data['fulltext'] = l_data['title'] + ' ' + l_data['selftext']\n",
    "c_data['fulltext'] = c_data['title'] + ' ' + c_data['selftext']# combine text from title and selftext\n"
   ]
  },
  {
   "cell_type": "code",
   "execution_count": 170,
   "metadata": {},
   "outputs": [],
   "source": [
    "c_categorical_nums = {\"subreddit\": {'Conservative': 1}}#make classification categories\n",
    "l_categorical_nums = {\"subreddit\": {'Liberal': 0}}\n",
    "c_data.replace(c_categorical_nums, inplace=True)\n",
    "l_data.replace(l_categorical_nums, inplace=True)"
   ]
  },
  {
   "cell_type": "code",
   "execution_count": 174,
   "metadata": {},
   "outputs": [],
   "source": [
    "def get_len(post):\n",
    "    return len(post.split())\n",
    "l_data['post_len'] = l_data['fulltext'].map(get_len)# create a column that has the length of the posts\n",
    "c_data['post_len'] = c_data['fulltext'].map(get_len)\n",
    "#courtesy of markel jones-francis"
   ]
  },
  {
   "cell_type": "code",
   "execution_count": 298,
   "metadata": {},
   "outputs": [],
   "source": [
    "l_data['author'] = l_data['author'].apply(lambda x : x.replace('[deleted]',' '))\n",
    "c_data['author'] = c_data['author'].apply(lambda x : x.replace('[deleted]',' '))# delete empty author entries\n"
   ]
  },
  {
   "cell_type": "code",
   "execution_count": null,
   "metadata": {},
   "outputs": [],
   "source": []
  },
  {
   "cell_type": "code",
   "execution_count": 139,
   "metadata": {},
   "outputs": [],
   "source": [
    "def remove_links_lower_and_nums(data,col):\n",
    "    string = []\n",
    "    letters = []\n",
    "    remove_links = []\n",
    "    lower = []\n",
    "    for i in data[col]:\n",
    "        string.append(str(i))\n",
    "    for j in string:\n",
    "        letters.append(re.sub(r'[^A-Za-z0-9 ]+', \"\", j))#remove letters and number\n",
    "    for k in letters:\n",
    "        remove_links.append(re.sub(r'(https|http)?:\\/\\/(\\w|\\.|\\/|\\?|\\=|\\&|\\%)*\\b','',k))#remove links\n",
    "    return lower\n",
    "    l_data['fulltext'] = remove_links_lower_and_nums(l_data,'fulltext')\n",
    "    c_data['fulltext'] = remove_links_lower_and_nums(c_data,'fulltext')\n",
    "\n"
   ]
  },
  {
   "cell_type": "code",
   "execution_count": 140,
   "metadata": {},
   "outputs": [],
   "source": [
    "def make_str_remove_non_letters_lower(data,col):\n",
    "    string = []\n",
    "    for i in data[col]:\n",
    "        string.append(str(i))\n",
    "    long_words = []\n",
    "    for i in string:\n",
    "        long_words.append(re.sub(r'/.{20,}/','',i))#remove words longer than 20 chars\n",
    "    lower = []\n",
    "    for i in long_words:\n",
    "        lower.append(i.lower())\n",
    "    return lower\n",
    "l_data['fulltext'] = make_str_remove_non_letters_lower(l_data,'fulltext')\n",
    "c_data['fulltext'] = make_str_remove_non_letters_lower(c_data,'fulltext')\n",
    "\n",
    "    \n"
   ]
  },
  {
   "cell_type": "code",
   "execution_count": 141,
   "metadata": {},
   "outputs": [],
   "source": [
    "def remove_nums(data,col):# during eda we discovered that a lot of numeric columns has corrupted or non valuble data\n",
    "    data[col] = data[col].str.replace(r'\\d+','')\n",
    "remove_nums(c_data,'fulltext')\n",
    "remove_nums(l_data,'fulltext')"
   ]
  },
  {
   "cell_type": "code",
   "execution_count": 142,
   "metadata": {},
   "outputs": [],
   "source": [
    "def remove_underscores(data,col):# during eda we discovered that underscores were corrupting the values\n",
    "    data[col] = data[col].str.replace('_',' ')\n",
    "remove_underscores(c_data,'fulltext')\n",
    "remove_underscores(l_data,'fulltext')"
   ]
  },
  {
   "cell_type": "code",
   "execution_count": 148,
   "metadata": {},
   "outputs": [],
   "source": [
    "def remove_link_words(data,col): # during eda we discovered that underscores were corrupting the values\n",
    "    data[col] = data[col].str.replace('https','')\n",
    "    data[col] = data[col].str.replace('http','')\n",
    "remove_link_words(c_data,'fulltext')\n",
    "remove_link_words(l_data,'fulltext')"
   ]
  },
  {
   "cell_type": "code",
   "execution_count": 149,
   "metadata": {},
   "outputs": [],
   "source": [
    "cvec = CountVectorizer(analyzer = \"word\",\n",
    "                             tokenizer = None,\n",
    "                             preprocessor = None,\n",
    "                             stop_words = 'english',\n",
    "                       \n",
    "                             max_features = 50000)"
   ]
  },
  {
   "cell_type": "code",
   "execution_count": 150,
   "metadata": {},
   "outputs": [],
   "source": [
    "l_data = cvec.fit_transform(l_data['fulltext'])\n",
    "l_df = pd.DataFrame(l_data.toarray(),\n",
    "                          columns=cvec.get_feature_names())\n"
   ]
  },
  {
   "cell_type": "code",
   "execution_count": 151,
   "metadata": {},
   "outputs": [],
   "source": [
    "c_data = cvec.fit_transform(c_data['fulltext'])\n",
    "c_df = pd.DataFrame(c_data.toarray(),\n",
    "                          columns=cvec.get_feature_names())"
   ]
  },
  {
   "cell_type": "code",
   "execution_count": 289,
   "metadata": {},
   "outputs": [
    {
     "data": {
      "image/png": "[encoded data removed]",
      "text/plain": [
       "<Figure size 432x288 with 1 Axes>"
      ]
     },
     "metadata": {
      "needs_background": "light"
     },
     "output_type": "display_data"
    }
   ],
   "source": [
    "c_df.sum()[c_df.sum()>=150].sort_values(ascending=False).plot(kind='barh');"
   ]
  },
  {
   "cell_type": "code",
   "execution_count": 290,
   "metadata": {},
   "outputs": [
    {
     "data": {
      "image/png": "[encoded data removed]",
      "text/plain": [
       "<Figure size 432x288 with 1 Axes>"
      ]
     },
     "metadata": {
      "needs_background": "light"
     },
     "output_type": "display_data"
    }
   ],
   "source": [
    "l_df.sum()[l_df.sum()>=150].sort_values(ascending=False).plot(kind='barh');"
   ]
  },
  {
   "cell_type": "code",
   "execution_count": 288,
   "metadata": {},
   "outputs": [
    {
     "data": {
      "text/plain": [
       "Text(12, 0, 'Average Length of a Post 61.5 Char')"
      ]
     },
     "execution_count": 288,
     "metadata": {},
     "output_type": "execute_result"
    },
    {
     "data": {
      "image/png": "[encoded data removed]",
      "text/plain": [
       "<Figure size 432x288 with 1 Axes>"
      ]
     },
     "metadata": {
      "needs_background": "light"
     },
     "output_type": "display_data"
    }
   ],
   "source": [
    "(c_data['post_len'].plot()) \n",
    "plt.xlabel(' Number of Posts')\n",
    "plt.ylabel('Post Length')\n",
    "plt.axvline(x=(c_data['post_len'].mean()),color = 'r')\n",
    "plt.text(12,0, 'Average Length of a Post 61.5 Char',rotation=90)"
   ]
  },
  {
   "cell_type": "code",
   "execution_count": 286,
   "metadata": {},
   "outputs": [
    {
     "data": {
      "image/png": "[encoded data removed]",
      "text/plain": [
       "<Figure size 432x288 with 1 Axes>"
      ]
     },
     "metadata": {
      "needs_background": "light"
     },
     "output_type": "display_data"
    },
    {
     "data": {
      "text/plain": [
       "<Figure size 720x1296 with 0 Axes>"
      ]
     },
     "metadata": {},
     "output_type": "display_data"
    }
   ],
   "source": [
    "(l_data['post_len'].plot()) \n",
    "plt.xlabel(' Number of Posts')\n",
    "plt.ylabel('Post Length')\n",
    "plt.axvline(x=(l_data['post_len'].mean()),color = 'r')\n",
    "plt.text(12,0, 'Average Length of a Post 57.2 Characters',rotation=90)\n",
    "plt.figure(figsize=(10,18))\n",
    "plt.show()"
   ]
  },
  {
   "cell_type": "code",
   "execution_count": 262,
   "metadata": {},
   "outputs": [
    {
     "data": {
      "text/plain": [
       "156"
      ]
     },
     "execution_count": 262,
     "metadata": {},
     "output_type": "execute_result"
    }
   ],
   "source": [
    "from better_profanity import profanity\n",
    "def profanity_counter(data,col):\n",
    "    counter = 0\n",
    "    for i in data[col]:\n",
    "        if profanity.contains_profanity(i) == True:\n",
    "            counter += 1\n",
    "    return counter\n",
    "l_swear = profanity_counter(l_data,'fulltext')\n",
    "c_swear = profanity_counter(c_data,'fulltext')   \n",
    "\n",
    "l_swear"
   ]
  },
  {
   "cell_type": "code",
   "execution_count": 268,
   "metadata": {},
   "outputs": [
    {
     "data": {
      "image/png": "[encoded data removed]",
      "text/plain": [
       "<Figure size 432x288 with 1 Axes>"
      ]
     },
     "metadata": {
      "needs_background": "light"
     },
     "output_type": "display_data"
    }
   ],
   "source": [
    "x = ['Conservative', 'Liberal']\n",
    "y = [76,156]\n",
    "plt.bar(x,y,color = 'r');\n",
    "plt.ylabel('Swear Word Usage')\n",
    "plt.title('Swear Word Usage By Political Afilliation');"
   ]
  },
  {
   "cell_type": "code",
   "execution_count": 341,
   "metadata": {},
   "outputs": [
    {
     "data": {
      "text/plain": [
       "{'',\n",
       " '6E1DE647E76DF71D',\n",
       " 'AlbertMendez442',\n",
       " 'BlightBorn',\n",
       " 'Careless_Mix',\n",
       " 'Diylion',\n",
       " 'Teroaego',\n",
       " 'chrcke23',\n",
       " 'jorge921995',\n",
       " 'mayatalluluh',\n",
       " 'megafatdingus',\n",
       " 'outofTheirclosetToo',\n",
       " 'puncakeking89',\n",
       " 'sgar589',\n",
       " 'sparklepig7',\n",
       " 'xxNarutozumaki6699xx'}"
      ]
     },
     "execution_count": 341,
     "metadata": {},
     "output_type": "execute_result"
    }
   ],
   "source": [
    "def get_prolific_authors(dat,col):\n",
    "    prolific_authors = []\n",
    "    \n",
    "    for i in c_data['author']:\n",
    "        for j in l_data['author']:\n",
    "            if i==j:\n",
    "                prolific_authors.append(i)\n",
    "    authors = set(prolific_authors)\n",
    "for i in authors:\n",
    "    l_authors_df = l_data[l_data['author'] == i]\n",
    "l_authors_df\n",
    "for i in authors:\n",
    "    c_authors_df = c_data[c_data['author'] == i]\n",
    "\n",
    "authors"
   ]
  },
  {
   "cell_type": "code",
   "execution_count": null,
   "metadata": {},
   "outputs": [],
   "source": [
    "X = full_df['fulltext']\n",
    "y = full_df['subreddit']"
   ]
  },
  {
   "cell_type": "code",
   "execution_count": null,
   "metadata": {},
   "outputs": [],
   "source": [
    "X_train, X_test, y_train, y_test = train_test_split(X,\n",
    "                                                    y,\n",
    "                                                    test_size=0.33,\n",
    "                                                    stratify=y,\n",
    "                                                    random_state=42)"
   ]
  }
 ],
 "metadata": {
  "kernelspec": {
   "display_name": "Python 3",
   "language": "python",
   "name": "python3"
  },
  "language_info": {
   "codemirror_mode": {
    "name": "ipython",
    "version": 3
   },
   "file_extension": ".py",
   "mimetype": "text/x-python",
   "name": "python",
   "nbconvert_exporter": "python",
   "pygments_lexer": "ipython3",
   "version": "3.7.4"
  }
 },
 "nbformat": 4,
 "nbformat_minor": 2
}
