{
 "cells": [
  {
   "cell_type": "markdown",
   "metadata": {},
   "source": [
    "# Politics On Reddit:  A Journey Into the Dark Side of the America Political Landscape\n",
    "By: Aryeh Gelfand(https://git.generalassemb.ly/aryehgelfand)"
   ]
  },
  {
   "cell_type": "markdown",
   "metadata": {},
   "source": [
    "## Problem Statement"
   ]
  },
  {
   "cell_type": "markdown",
   "metadata": {},
   "source": [
    "AmericanPolitics Debate.com is having a massive problem. A hacker broke into their system and mixed up the files for the Liberal and Conservative Political Discussion groups. I have been tasked with creating a model that can input text from the mixed up group and output an accurate prediction about which group it came from. "
   ]
  },
  {
   "cell_type": "markdown",
   "metadata": {},
   "source": [
    "##  Executive Summary"
   ]
  },
  {
   "cell_type": "markdown",
   "metadata": {},
   "source": [
    "I used data scraped from reddit.com. Specifically the subreddits, r/Conservative and r/The Liberal. In cleaning and modeling the data, I gained valuable insight into the patterns of liberal and conservative discussion groups and those who particpate in them. I was able to answer questions like: \n",
    "who uses more profanity?\n",
    "which group has livelier discssions? \n",
    "who has longer posts? \n",
    "what topics do each discuss? \n",
    "The more I dug into this data, the more it became clear tht the groups followed different patterns of behavior. Delving into the similarities and differences is what made this an interesting project for me. \n",
    "\n",
    "At the end, the role of moderation in determining the contents and direction of these discussion groups cannot be overstated. they could even be considered the most important factor."
   ]
  },
  {
   "cell_type": "markdown",
   "metadata": {},
   "source": [
    "## Table of Contents"
   ]
  },
  {
   "cell_type": "markdown",
   "metadata": {},
   "source": [
    "1. [Loading Data](#Loading-Data)\n",
    "2. [Data Cleaning](#Data-Cleaning)\n",
    "3. [EDA](#EDA)\n",
    "4. [Modeling](#Modeling )\n",
    "5. [Model Prep](#Model-Prep )\n",
    "   1. [Baseline Model](#Baseline-Model)\n",
    "   2. [Logistic Regression](#Logistic-Regression)\n",
    "   3. [KNnearest Neighbors](#KNnearest-Neighbors)\n",
    "   4. [Decision Trees](#Forest-Forest)\n",
    "   5. [Random Forest](#Model-Selection)\n",
    "   6. [ADABoost](#ADABoost)\n",
    "   7. [SVC](#SVC)\n",
    "6. [Model Selection](#Model-Selection)\n",
    "7. [Model Evaluation](#Model-Evaluation)\n",
    "8. [Conclusions/Recommendations](#Conclusions/Recommendations)\n",
    "9. [Data Dictionary](#Data-Dictionary)\n",
    "10. [References](#References)"
   ]
  },
  {
   "cell_type": "markdown",
   "metadata": {},
   "source": [
    "## Loading Data"
   ]
  },
  {
   "cell_type": "code",
   "execution_count": 1,
   "metadata": {},
   "outputs": [],
   "source": [
    "import pandas as pd\n",
    "import numpy as np\n",
    "pd.options.display.max_rows = 999\n",
    "pd.options.display.max_columns = 999\n",
    "import matplotlib.pyplot as plt\n",
    "import wordninja\n",
    "from sklearn.metrics import confusion_matrix\n",
    "import regex as re\n",
    "from nltk.stem import WordNetLemmatizer\n",
    "from nltk.tokenize import RegexpTokenizer\n",
    "from nltk.tokenize import word_tokenize\n",
    "import nltk\n",
    "import pandas as pd\n",
    "from sklearn.metrics import accuracy_score, precision_score, recall_score\n",
    "from sklearn.preprocessing import StandardScaler\n",
    "from sklearn.neighbors import KNeighborsClassifier\n",
    "from sklearn.preprocessing import MinMaxScaler, MaxAbsScaler\n",
    "from sklearn.model_selection import train_test_split, GridSearchCV,cross_val_score\n",
    "from sklearn.pipeline import Pipeline\n",
    "from sklearn.tree import DecisionTreeClassifier\n",
    "from sklearn.ensemble import BaggingClassifier\n",
    "from sklearn.ensemble import RandomForestClassifier, ExtraTreesClassifier\n",
    "from sklearn.ensemble import GradientBoostingClassifier, AdaBoostClassifier, VotingClassifier\n",
    "from sklearn.svm import SVC\n",
    "\n",
    "\n",
    "from sklearn.linear_model import LogisticRegression\n",
    "from sklearn.feature_extraction.text import CountVectorizer, TfidfVectorizer,TfidfTransformer\n",
    "from sklearn.feature_extraction.stop_words import ENGLISH_STOP_WORDS as stopwords\n",
    "from nltk.corpus import stopwords"
   ]
  },
  {
   "cell_type": "markdown",
   "metadata": {},
   "source": [
    "## Data Cleaning"
   ]
  },
  {
   "cell_type": "markdown",
   "metadata": {},
   "source": [
    "We should be able to answer the problem statement and create an accurate model with the data that we have. The only issue may be in determining if the data is too similiar "
   ]
  },
  {
   "cell_type": "code",
   "execution_count": 2,
   "metadata": {},
   "outputs": [
    {
     "data": {
      "text/plain": [
       "(1422, 9)"
      ]
     },
     "execution_count": 2,
     "metadata": {},
     "output_type": "execute_result"
    }
   ],
   "source": [
    "l_data = pd.read_csv('../data/liberal_results_df.csv')\n",
    "c_data = pd.read_csv('../data/conservative_results.csv')               \n",
    "\n",
    "c_data.shape"
   ]
  },
  {
   "cell_type": "markdown",
   "metadata": {},
   "source": [
    "Data was collected from the Reddit API and has 9 columns.\n"
   ]
  },
  {
   "cell_type": "code",
   "execution_count": 3,
   "metadata": {},
   "outputs": [
    {
     "data": {
      "text/html": [
       "<div>\n",
       "<style scoped>\n",
       "    .dataframe tbody tr th:only-of-type {\n",
       "        vertical-align: middle;\n",
       "    }\n",
       "\n",
       "    .dataframe tbody tr th {\n",
       "        vertical-align: top;\n",
       "    }\n",
       "\n",
       "    .dataframe thead th {\n",
       "        text-align: right;\n",
       "    }\n",
       "</style>\n",
       "<table border=\"1\" class=\"dataframe\">\n",
       "  <thead>\n",
       "    <tr style=\"text-align: right;\">\n",
       "      <th></th>\n",
       "      <th>title</th>\n",
       "      <th>selftext</th>\n",
       "      <th>subreddit</th>\n",
       "      <th>created_utc</th>\n",
       "      <th>author</th>\n",
       "      <th>num_comments</th>\n",
       "      <th>score</th>\n",
       "      <th>is_self</th>\n",
       "      <th>timestamp</th>\n",
       "    </tr>\n",
       "  </thead>\n",
       "  <tbody>\n",
       "    <tr>\n",
       "      <th>0</th>\n",
       "      <td>What do you think of men’s rights?</td>\n",
       "      <td>[removed]</td>\n",
       "      <td>Liberal</td>\n",
       "      <td>1582944269</td>\n",
       "      <td>Benjaminmalchow</td>\n",
       "      <td>0</td>\n",
       "      <td>1</td>\n",
       "      <td>True</td>\n",
       "      <td>2020-02-28</td>\n",
       "    </tr>\n",
       "    <tr>\n",
       "      <th>1</th>\n",
       "      <td>Just a thought</td>\n",
       "      <td>[removed]</td>\n",
       "      <td>Liberal</td>\n",
       "      <td>1582948063</td>\n",
       "      <td>redneckfarmdude</td>\n",
       "      <td>0</td>\n",
       "      <td>1</td>\n",
       "      <td>True</td>\n",
       "      <td>2020-02-28</td>\n",
       "    </tr>\n",
       "    <tr>\n",
       "      <th>2</th>\n",
       "      <td>Screw Conservatives</td>\n",
       "      <td>[removed]</td>\n",
       "      <td>Liberal</td>\n",
       "      <td>1582955795</td>\n",
       "      <td>sparklepig7</td>\n",
       "      <td>0</td>\n",
       "      <td>1</td>\n",
       "      <td>True</td>\n",
       "      <td>2020-02-29</td>\n",
       "    </tr>\n",
       "    <tr>\n",
       "      <th>3</th>\n",
       "      <td>So far I’ve stumped everyone with this question:</td>\n",
       "      <td>[removed]</td>\n",
       "      <td>Liberal</td>\n",
       "      <td>1582982284</td>\n",
       "      <td>CloudofAVALANCHE</td>\n",
       "      <td>0</td>\n",
       "      <td>1</td>\n",
       "      <td>True</td>\n",
       "      <td>2020-02-29</td>\n",
       "    </tr>\n",
       "    <tr>\n",
       "      <th>4</th>\n",
       "      <td>I want to become more well-versed.</td>\n",
       "      <td>[removed]</td>\n",
       "      <td>Liberal</td>\n",
       "      <td>1582985920</td>\n",
       "      <td>the_shrimp_boi</td>\n",
       "      <td>0</td>\n",
       "      <td>1</td>\n",
       "      <td>True</td>\n",
       "      <td>2020-02-29</td>\n",
       "    </tr>\n",
       "  </tbody>\n",
       "</table>\n",
       "</div>"
      ],
      "text/plain": [
       "                                              title   selftext subreddit  \\\n",
       "0                What do you think of men’s rights?  [removed]   Liberal   \n",
       "1                                    Just a thought  [removed]   Liberal   \n",
       "2                               Screw Conservatives  [removed]   Liberal   \n",
       "3  So far I’ve stumped everyone with this question:  [removed]   Liberal   \n",
       "4                I want to become more well-versed.  [removed]   Liberal   \n",
       "\n",
       "   created_utc            author  num_comments  score  is_self   timestamp  \n",
       "0   1582944269   Benjaminmalchow             0      1     True  2020-02-28  \n",
       "1   1582948063   redneckfarmdude             0      1     True  2020-02-28  \n",
       "2   1582955795       sparklepig7             0      1     True  2020-02-29  \n",
       "3   1582982284  CloudofAVALANCHE             0      1     True  2020-02-29  \n",
       "4   1582985920    the_shrimp_boi             0      1     True  2020-02-29  "
      ]
     },
     "execution_count": 3,
     "metadata": {},
     "output_type": "execute_result"
    }
   ],
   "source": [
    "l_data.head()"
   ]
  },
  {
   "cell_type": "code",
   "execution_count": 4,
   "metadata": {},
   "outputs": [
    {
     "data": {
      "text/html": [
       "<div>\n",
       "<style scoped>\n",
       "    .dataframe tbody tr th:only-of-type {\n",
       "        vertical-align: middle;\n",
       "    }\n",
       "\n",
       "    .dataframe tbody tr th {\n",
       "        vertical-align: top;\n",
       "    }\n",
       "\n",
       "    .dataframe thead th {\n",
       "        text-align: right;\n",
       "    }\n",
       "</style>\n",
       "<table border=\"1\" class=\"dataframe\">\n",
       "  <thead>\n",
       "    <tr style=\"text-align: right;\">\n",
       "      <th></th>\n",
       "      <th>title</th>\n",
       "      <th>selftext</th>\n",
       "      <th>subreddit</th>\n",
       "      <th>created_utc</th>\n",
       "      <th>author</th>\n",
       "      <th>num_comments</th>\n",
       "      <th>score</th>\n",
       "      <th>is_self</th>\n",
       "      <th>timestamp</th>\n",
       "    </tr>\n",
       "  </thead>\n",
       "  <tbody>\n",
       "    <tr>\n",
       "      <th>0</th>\n",
       "      <td>I think it’s important to criticize the White ...</td>\n",
       "      <td>[removed]</td>\n",
       "      <td>Conservative</td>\n",
       "      <td>1582934831</td>\n",
       "      <td>T0mThomas</td>\n",
       "      <td>0</td>\n",
       "      <td>1</td>\n",
       "      <td>True</td>\n",
       "      <td>2020-02-28</td>\n",
       "    </tr>\n",
       "    <tr>\n",
       "      <th>1</th>\n",
       "      <td>What hot topic policy debates are ongoing with...</td>\n",
       "      <td>[removed]</td>\n",
       "      <td>Conservative</td>\n",
       "      <td>1582935206</td>\n",
       "      <td>reevener</td>\n",
       "      <td>0</td>\n",
       "      <td>1</td>\n",
       "      <td>True</td>\n",
       "      <td>2020-02-28</td>\n",
       "    </tr>\n",
       "    <tr>\n",
       "      <th>2</th>\n",
       "      <td>Blast from the past....</td>\n",
       "      <td>[removed]</td>\n",
       "      <td>Conservative</td>\n",
       "      <td>1582935790</td>\n",
       "      <td>Philip_Glasssss</td>\n",
       "      <td>0</td>\n",
       "      <td>1</td>\n",
       "      <td>True</td>\n",
       "      <td>2020-02-28</td>\n",
       "    </tr>\n",
       "    <tr>\n",
       "      <th>3</th>\n",
       "      <td>Imagine Bernie VS Trump</td>\n",
       "      <td>[removed]</td>\n",
       "      <td>Conservative</td>\n",
       "      <td>1582937341</td>\n",
       "      <td>S1SSYL1GHTN1NG</td>\n",
       "      <td>0</td>\n",
       "      <td>1</td>\n",
       "      <td>True</td>\n",
       "      <td>2020-02-28</td>\n",
       "    </tr>\n",
       "    <tr>\n",
       "      <th>4</th>\n",
       "      <td>'Islamophobia' Is Not A Real Word</td>\n",
       "      <td>[removed]</td>\n",
       "      <td>Conservative</td>\n",
       "      <td>1582937694</td>\n",
       "      <td>SpeedForceNirvana</td>\n",
       "      <td>0</td>\n",
       "      <td>1</td>\n",
       "      <td>True</td>\n",
       "      <td>2020-02-28</td>\n",
       "    </tr>\n",
       "  </tbody>\n",
       "</table>\n",
       "</div>"
      ],
      "text/plain": [
       "                                               title   selftext     subreddit  \\\n",
       "0  I think it’s important to criticize the White ...  [removed]  Conservative   \n",
       "1  What hot topic policy debates are ongoing with...  [removed]  Conservative   \n",
       "2                            Blast from the past....  [removed]  Conservative   \n",
       "3                            Imagine Bernie VS Trump  [removed]  Conservative   \n",
       "4                  'Islamophobia' Is Not A Real Word  [removed]  Conservative   \n",
       "\n",
       "   created_utc             author  num_comments  score  is_self   timestamp  \n",
       "0   1582934831          T0mThomas             0      1     True  2020-02-28  \n",
       "1   1582935206           reevener             0      1     True  2020-02-28  \n",
       "2   1582935790    Philip_Glasssss             0      1     True  2020-02-28  \n",
       "3   1582937341     S1SSYL1GHTN1NG             0      1     True  2020-02-28  \n",
       "4   1582937694  SpeedForceNirvana             0      1     True  2020-02-28  "
      ]
     },
     "execution_count": 4,
     "metadata": {},
     "output_type": "execute_result"
    }
   ],
   "source": [
    "c_data.head()"
   ]
  },
  {
   "cell_type": "markdown",
   "metadata": {},
   "source": [
    "The posts are divided into title and selftelf columns. These will have to be merged in order to capture all of the words in the dataframe. The author's reddit username, the date posted, and number of comments are also include din our data."
   ]
  },
  {
   "cell_type": "code",
   "execution_count": 5,
   "metadata": {},
   "outputs": [],
   "source": [
    "\n",
    "l_data.drop(l_data.index[[814]], inplace=True)\n",
    "# during eda it was discovered that this cell contained unusable data.\n"
   ]
  },
  {
   "cell_type": "code",
   "execution_count": 6,
   "metadata": {},
   "outputs": [],
   "source": [
    "\n",
    "\n",
    "l_data['selftext'] = l_data['selftext'].fillna('[removed]')\n",
    "c_data['selftext'] = c_data['selftext'].fillna('[removed]')# fill empty columns with removed \n"
   ]
  },
  {
   "cell_type": "code",
   "execution_count": 7,
   "metadata": {},
   "outputs": [],
   "source": [
    "l_data['selftext'] = l_data['selftext'].apply(lambda x : x.replace('[removed]',''))\n",
    "c_data['selftext'] = c_data['selftext'].apply(lambda x : x.replace('[removed]',''))#remove empty columns\n"
   ]
  },
  {
   "cell_type": "code",
   "execution_count": 8,
   "metadata": {},
   "outputs": [],
   "source": [
    "l_data['fulltext'] = l_data['title'] + ' ' + l_data['selftext']\n",
    "c_data['fulltext'] = c_data['title'] + ' ' + c_data['selftext']# combine text from title and selftext\n"
   ]
  },
  {
   "cell_type": "markdown",
   "metadata": {},
   "source": [
    "In order to fix the issue created by having many posts removed in the selftext column, I added removed to all and then removed it from all. Then I created a new column called fulltext that combines the data from both columns. "
   ]
  },
  {
   "cell_type": "code",
   "execution_count": 9,
   "metadata": {},
   "outputs": [],
   "source": [
    "c_categorical_nums = {\"subreddit\": {'Conservative': 0}}#make classification categories\n",
    "l_categorical_nums = {\"subreddit\": {'Liberal': 1}}\n",
    "c_data.replace(c_categorical_nums, inplace=True)\n",
    "l_data.replace(l_categorical_nums, inplace=True)"
   ]
  },
  {
   "cell_type": "markdown",
   "metadata": {},
   "source": [
    "I established out target variable and made it 1 and 0 respectively. Since Liberal is the dominant column, I made it the target."
   ]
  },
  {
   "cell_type": "code",
   "execution_count": 10,
   "metadata": {},
   "outputs": [],
   "source": [
    "\n",
    "def get_len(post):\n",
    "    return len(post.split())\n",
    "l_data['post_len'] = l_data['fulltext'].map(get_len)# create a column that has the length of the posts\n",
    "c_data['post_len'] = c_data['fulltext'].map(get_len)\n",
    "#courtesy of markel jones-francis\n"
   ]
  },
  {
   "cell_type": "markdown",
   "metadata": {},
   "source": [
    "I created a new column called post_length that measures post length for our combined column"
   ]
  },
  {
   "cell_type": "code",
   "execution_count": 11,
   "metadata": {},
   "outputs": [],
   "source": [
    "l_data['author'] = l_data['author'].apply(lambda x : x.replace('[deleted]',' '))\n",
    "c_data['author'] = c_data['author'].apply(lambda x : x.replace('[deleted]',' '))# delete empty author entries"
   ]
  },
  {
   "cell_type": "markdown",
   "metadata": {},
   "source": [
    "I deleted columns that had the author removed."
   ]
  },
  {
   "cell_type": "code",
   "execution_count": 12,
   "metadata": {},
   "outputs": [],
   "source": [
    "def remove_links_lower_and_nums(data,col):\n",
    "    string = []\n",
    "    letters = []\n",
    "    remove_links = []\n",
    "    for i in data[col]:\n",
    "        string.append(str(i))\n",
    "    for j in string:\n",
    "        letters.append(re.sub(r'[^A-Za-z0-9 ]+', \"\", j))#remove letters and number\n",
    "    for k in letters:\n",
    "        remove_links.append(re.sub(r'(http|ftp|https):\\/\\/)?[\\w\\-_]+(\\.[\\w\\-_]+)+([\\w\\-\\.,@?^=%&amp;:/~\\+#]*[\\w\\-\\@?^=%&amp;/~\\+#])?','',k))#remove links\n",
    "    return remove_links\n",
    "    l_data['fulltext'] = remove_links_lower_and_nums(l_data,'fulltext')\n",
    "    c_data['fulltext'] = remove_links_lower_and_nums(c_data,'fulltext')\n",
    "\n"
   ]
  },
  {
   "cell_type": "markdown",
   "metadata": {},
   "source": [
    "I used a regex pattern to remove non letters, numbers, non alphanumeric characters, and links, as these will not be useful words that can give meaning to our text."
   ]
  },
  {
   "cell_type": "code",
   "execution_count": 13,
   "metadata": {},
   "outputs": [],
   "source": [
    "def make_str_remove_non_letters_lower(data,col):\n",
    "    string = []\n",
    "    for i in data[col]:\n",
    "        string.append(str(i))\n",
    "    long_words = []\n",
    "    for i in string:\n",
    "        long_words.append(re.sub(r'/.{20,}/','',i))#remove words longer than 20 chars\n",
    "    lower = []\n",
    "    for i in long_words:\n",
    "        lower.append(i.lower())\n",
    "    return lower\n",
    "l_data['fulltext'] = make_str_remove_non_letters_lower(l_data,'fulltext')\n",
    "c_data['fulltext'] = make_str_remove_non_letters_lower(c_data,'fulltext')\n",
    "\n",
    "    \n"
   ]
  },
  {
   "cell_type": "markdown",
   "metadata": {},
   "source": [
    "I removed words longer than 20 characters in order to further prevent link text from being included in our data."
   ]
  },
  {
   "cell_type": "code",
   "execution_count": 14,
   "metadata": {},
   "outputs": [],
   "source": [
    "def remove_nums(data,col):# during eda we discovered that a lot of numeric columns has corrupted or non valuble data\n",
    "    data[col] = data[col].str.replace(r'\\d+','')\n",
    "remove_nums(c_data,'fulltext')\n",
    "remove_nums(l_data,'fulltext')"
   ]
  },
  {
   "cell_type": "markdown",
   "metadata": {},
   "source": [
    "During EDA it was discovered that numbers were still included in the text, so I removed them with a regex pattern."
   ]
  },
  {
   "cell_type": "code",
   "execution_count": 15,
   "metadata": {},
   "outputs": [],
   "source": [
    "def remove_underscores(data,col):# during eda we discovered that underscores were corrupting the values\n",
    "    data[col] = data[col].str.replace('_',' ')\n",
    "remove_underscores(c_data,'fulltext')\n",
    "remove_underscores(l_data,'fulltext')"
   ]
  },
  {
   "cell_type": "markdown",
   "metadata": {},
   "source": [
    "Underscores were still being include din the text, here I remove them.\n",
    "I also removed an offensive word that I did not want to take out because it is relevant in showing the role of moderation or lack of it and how it will become the most important factor  in my model's ability to classify."
   ]
  },
  {
   "cell_type": "code",
   "execution_count": 16,
   "metadata": {},
   "outputs": [],
   "source": [
    "def remove_profanity(data,col):# during eda we discovered that underscores were corrupting the values\n",
    "    data[col] = data[col].str.replace('libtard','lib**')# censoring offensive malterial\n",
    "remove_underscores(c_data,'fulltext')\n",
    "remove_underscores(l_data,'fulltext')"
   ]
  },
  {
   "cell_type": "code",
   "execution_count": 17,
   "metadata": {},
   "outputs": [],
   "source": [
    "\n",
    "\n",
    "def remove_link_words(data,col): # during eda we discovered that link words were still in the dataset \n",
    "    data[col] = data[col].str.replace('https','')\n",
    "    data[col] = data[col].str.replace('http','')\n",
    "remove_link_words(c_data,'fulltext')\n",
    "remove_link_words(l_data,'fulltext')"
   ]
  },
  {
   "cell_type": "markdown",
   "metadata": {},
   "source": [
    "Words associated with links, were still included in our words, here I remove them. Sometimes different types of text can be resistent to tactics and it is therefore neccesary to use a multifacted approach to data cleaning."
   ]
  },
  {
   "cell_type": "markdown",
   "metadata": {},
   "source": [
    "## EDA"
   ]
  },
  {
   "cell_type": "code",
   "execution_count": 18,
   "metadata": {},
   "outputs": [
    {
     "data": {
      "text/plain": [
       "Text(12, 0, '       Average Length of a Post 61.5 Words')"
      ]
     },
     "execution_count": 18,
     "metadata": {},
     "output_type": "execute_result"
    },
    {
     "data": {
      "image/png": "[encoded data removed]",
      "text/plain": [
       "<Figure size 432x288 with 1 Axes>"
      ]
     },
     "metadata": {
      "needs_background": "light"
     },
     "output_type": "display_data"
    }
   ],
   "source": [
    "plt.hist(c_data['post_len'],bins =50,density = 5)\n",
    "plt.title('Avg Length of Conservative Posts Distribution')\n",
    "plt.xlim(0,600)\n",
    "plt.xlabel(' Post Length')\n",
    "plt.ylabel('Number of Posts')\n",
    "plt.axvline(x=(c_data['post_len'].mean()),color = 'r')\n",
    "plt.text(12,0, '       Average Length of a Post 61.5 Words',rotation=90, color = 'white')"
   ]
  },
  {
   "cell_type": "markdown",
   "metadata": {},
   "source": [
    "Here is the average length of posts with the mean in red for the conservative subreddit. The average length is 61 characters and the data is skewed right."
   ]
  },
  {
   "cell_type": "code",
   "execution_count": 19,
   "metadata": {},
   "outputs": [
    {
     "data": {
      "image/png": "[encoded data removed]",
      "text/plain": [
       "<Figure size 432x288 with 1 Axes>"
      ]
     },
     "metadata": {
      "needs_background": "light"
     },
     "output_type": "display_data"
    },
    {
     "data": {
      "text/plain": [
       "<Figure size 1080x1296 with 0 Axes>"
      ]
     },
     "metadata": {},
     "output_type": "display_data"
    }
   ],
   "source": [
    "plt.hist(l_data['post_len'],bins =50,density = 5)\n",
    "plt.title('Avg Length of Liberal Posts Distribution')\n",
    "plt.xlim(0,600)\n",
    "plt.xlabel(' Post length')\n",
    "plt.ylabel('Number of Posts')\n",
    "plt.axvline(x=(l_data['post_len'].mean()),color = 'r')\n",
    "plt.text(16,0, '        Average Length 57.2 Words',rotation=90,color='white')\n",
    "plt.figure(figsize=(15,18))\n",
    "plt.show();"
   ]
  },
  {
   "cell_type": "markdown",
   "metadata": {},
   "source": [
    "Here is the average length of posts with the mean in red for the liberal subreddit. The average length is 57 words and the data is skewed r"
   ]
  },
  {
   "cell_type": "code",
   "execution_count": 20,
   "metadata": {},
   "outputs": [],
   "source": [
    "\n",
    "\n",
    "from better_profanity import profanity\n",
    "def profanity_counter(data,col):\n",
    "    counter = 0\n",
    "    for i in data[col]:\n",
    "        if profanity.contains_profanity(i) == True:\n",
    "            counter += 1\n",
    "    return counter\n",
    "l_swear = profanity_counter(l_data,'fulltext')\n",
    "c_swear = profanity_counter(c_data,'fulltext')   \n",
    "\n"
   ]
  },
  {
   "cell_type": "markdown",
   "metadata": {},
   "source": [
    "I imported a library of profanity and counted every instance of profanity for each subreddit."
   ]
  },
  {
   "cell_type": "code",
   "execution_count": 21,
   "metadata": {},
   "outputs": [
    {
     "data": {
      "image/png": "[encoded data removed]",
      "text/plain": [
       "<Figure size 432x288 with 1 Axes>"
      ]
     },
     "metadata": {
      "needs_background": "light"
     },
     "output_type": "display_data"
    }
   ],
   "source": [
    "x = ['Conservative', 'Liberal']\n",
    "y = [76,156]\n",
    "plt.bar(x,y,color = 'r');\n",
    "plt.ylabel('Swear Word Usage')\n",
    "plt.title('Swear Word Usage By Political Afilliation');"
   ]
  },
  {
   "cell_type": "markdown",
   "metadata": {},
   "source": [
    "The liberal subreddit has double the amount of profanity. This could be because the members post more profanity or it could be that there is a lack of moderation by leaders and therefore offending posts are not deleted when compared to the conservative subreddit."
   ]
  },
  {
   "cell_type": "code",
   "execution_count": 22,
   "metadata": {},
   "outputs": [],
   "source": [
    "stopwords = nltk.corpus.stopwords.words('english')\n",
    "newStopWords = ['the','of','to','in','than','$','?','(',')''is','www','for','us','amp','conservative', 'conservatives','liberal','liberals','think','know','would','trump','want','pm ing','com','country','like','get','even','new','news','see','people','president','left','right','good','government','time','one','say','amb xb','xb','yeah','oh','goo','gl','enzhg','youtube','wikipedia','fuck','fucker','libtard','libtards']#new stop words list\n",
    "stopwords.extend(newStopWords)# stop words censored do not look through list\n",
    "l_data['fulltext'] = [' '.join([y for y in x.split() if y not in stopwords]) for x in l_data['fulltext']]\n",
    "c_data['fulltext'] = [' '.join([y for y in x.split() if y not in stopwords]) for x in c_data['fulltext']]"
   ]
  },
  {
   "cell_type": "markdown",
   "metadata": {},
   "source": [
    "Here is a custom list of stop words that I curated by plotting the most common words in each subreddit and then using the most misclassified terms. I looked for words that appeared in both. I also removed offensive words that it did not have an important role in classification"
   ]
  },
  {
   "cell_type": "code",
   "execution_count": 23,
   "metadata": {},
   "outputs": [],
   "source": [
    "\n",
    "both_df = c_data[c_data['author'].isin(l_data['author'])]\n",
    "both_df = both_df[both_df['author'] != ' ']\n",
    "\n"
   ]
  },
  {
   "cell_type": "markdown",
   "metadata": {},
   "source": [
    "I wanted to see if there were people posting in both that were not representative of the group they were posting in. I created a new dataframe of authors that appear in both and what they posted."
   ]
  },
  {
   "cell_type": "code",
   "execution_count": 24,
   "metadata": {},
   "outputs": [
    {
     "data": {
      "image/png": "[encoded data removed]",
      "text/plain": [
       "<Figure size 432x288 with 1 Axes>"
      ]
     },
     "metadata": {},
     "output_type": "display_data"
    }
   ],
   "source": [
    "def get_top_ten_words_remove_stop_words(data,col):\n",
    "    top_N = 10\n",
    "    txt = data[col].str.lower().str.replace(r'[^A-Za-z0-9 ]+', ' ').str.cat(sep=' ')\n",
    "    words = nltk.tokenize.word_tokenize(txt)\n",
    "    word_dist = nltk.FreqDist(words)\n",
    "    words_except_stop_dist = nltk.FreqDist(w for w in words if w not in stopwords) \n",
    "    rslt = pd.DataFrame(word_dist.most_common(top_N),\n",
    "                    columns=['Common Word', 'Frequency'])\n",
    "    rslt = pd.DataFrame(words_except_stop_dist.most_common(top_N),\n",
    "                    columns=['Word', 'Frequency']).set_index('Word')\n",
    "    plt.style.use('ggplot')\n",
    "\n",
    "    rslt.plot.barh(title = 'Posted In Both Subreddits Word Frequency');\n",
    "get_top_ten_words_remove_stop_words(both_df,'fulltext')\n",
    "# adapted from https://stackoverflow.com/questions/40206249/count-of-most-popular-words-in-a-pandas-dataframe"
   ]
  },
  {
   "cell_type": "markdown",
   "metadata": {},
   "source": [
    "These authors that post in both are not represtative of the common values in either group and therefore, I must remove them from the combined dataframe that will go into the model."
   ]
  },
  {
   "cell_type": "code",
   "execution_count": 25,
   "metadata": {},
   "outputs": [],
   "source": [
    "c_combine  = c_data.copy()\n",
    "l_combine = l_data.copy()# make a copy of the data for eda\n"
   ]
  },
  {
   "cell_type": "code",
   "execution_count": 26,
   "metadata": {},
   "outputs": [
    {
     "name": "stderr",
     "output_type": "stream",
     "text": [
      "/Users/aryehgelfand/opt/anaconda3/lib/python3.7/site-packages/sklearn/feature_extraction/text.py:300: UserWarning: Your stop_words may be inconsistent with your preprocessing. Tokenizing the stop words generated tokens ['amb', 'ing', 'pm'] not in stop_words.\n",
      "  'stop_words.' % sorted(inconsistent))\n"
     ]
    }
   ],
   "source": [
    "cvec = CountVectorizer(analyzer = \"word\",\n",
    "                             tokenizer = None,\n",
    "                             preprocessor = None,\n",
    "                             stop_words = stopwords,\n",
    "                             ngram_range = (1,2),\n",
    "                       \n",
    "                             max_features = 50000)\n",
    "\n",
    "l_cvec = cvec.fit_transform(l_data['fulltext'])\n",
    "l_df = pd.DataFrame(l_cvec.toarray(),\n",
    "                          columns=cvec.get_feature_names())\n"
   ]
  },
  {
   "cell_type": "code",
   "execution_count": 27,
   "metadata": {},
   "outputs": [],
   "source": [
    "cvec = CountVectorizer(analyzer = \"word\",\n",
    "                             tokenizer = None,\n",
    "                             preprocessor = None,\n",
    "                             stop_words = stopwords,\n",
    "                             ngram_range = (1,2),\n",
    "                       \n",
    "                             max_features = 50000)"
   ]
  },
  {
   "cell_type": "code",
   "execution_count": 28,
   "metadata": {},
   "outputs": [
    {
     "name": "stderr",
     "output_type": "stream",
     "text": [
      "/Users/aryehgelfand/opt/anaconda3/lib/python3.7/site-packages/sklearn/feature_extraction/text.py:300: UserWarning: Your stop_words may be inconsistent with your preprocessing. Tokenizing the stop words generated tokens ['amb', 'ing', 'pm'] not in stop_words.\n",
      "  'stop_words.' % sorted(inconsistent))\n"
     ]
    }
   ],
   "source": [
    "c_cvec = cvec.fit_transform(c_data['fulltext'])\n",
    "c_df = pd.DataFrame(c_cvec.toarray(),\n",
    "                          columns=cvec.get_feature_names())"
   ]
  },
  {
   "cell_type": "markdown",
   "metadata": {},
   "source": [
    "I count vectorized each dataframe with an n gram of 1,2 meaning it is checking unigrams in each post. So, we can see which words are common or words that need to be removed."
   ]
  },
  {
   "cell_type": "code",
   "execution_count": 29,
   "metadata": {},
   "outputs": [
    {
     "data": {
      "image/png": "[encoded data removed]",
      "text/plain": [
       "<Figure size 432x288 with 2 Axes>"
      ]
     },
     "metadata": {},
     "output_type": "display_data"
    },
    {
     "data": {
      "text/plain": [
       "<Figure size 432x288 with 0 Axes>"
      ]
     },
     "metadata": {},
     "output_type": "display_data"
    }
   ],
   "source": [
    "\n",
    "\n",
    "fig,axes=plt.subplots(ncols=2)\n",
    "plt.suptitle('Most Common Words for Each Subreddit With N_gram (1,2)',fontsize=16,va='bottom')\n",
    "axes[0].set(xlabel=\"Frequency\", ylabel=\"Common Words\")\n",
    "axes[1].set(xlabel=\"Frequency\", ylabel=\"Common Words\")\n",
    "axes[0].title.set_text('Conservative')\n",
    "axes[1].title.set_text('Liberal')\n",
    "c_df.sum().sort_values(ascending=False).head(20).plot(kind='barh', ax= axes[0]);\n",
    "\n",
    "l_df.sum().sort_values(ascending=False).head(20).plot(kind='barh', ax = axes[1]);\n",
    "\n",
    "plt.tight_layout()\n",
    "plt.figure();"
   ]
  },
  {
   "cell_type": "markdown",
   "metadata": {},
   "source": [
    "The most common words after addding a lot of similiar words to the stop list are unique to each. When I first did this, the most common words were Trump, and other very generic terms. By removing these terms, Imade it easier for the model to classsify each. Another interesting note is that epstein and a mispelling of Jeffrey('guiffre') ,is prominent on the conservative subreddit, but not in the Liberal one.\n",
    "I also removed a lot of slurs and other offensive words. Mostly from the liberal side. This tells me that the conservative subreddit is doing more robust moderation of their page. "
   ]
  },
  {
   "cell_type": "code",
   "execution_count": 30,
   "metadata": {},
   "outputs": [
    {
     "name": "stderr",
     "output_type": "stream",
     "text": [
      "/Users/aryehgelfand/opt/anaconda3/lib/python3.7/site-packages/sklearn/feature_extraction/text.py:300: UserWarning: Your stop_words may be inconsistent with your preprocessing. Tokenizing the stop words generated tokens ['amb', 'ing', 'pm'] not in stop_words.\n",
      "  'stop_words.' % sorted(inconsistent))\n"
     ]
    }
   ],
   "source": [
    "cvec = CountVectorizer(analyzer = \"word\",\n",
    "                             tokenizer = None,\n",
    "                             preprocessor = None,\n",
    "                             stop_words = stopwords,\n",
    "                             ngram_range = (2,2),\n",
    "                       \n",
    "                             max_features = 50000)\n",
    "l_cvec = cvec.fit_transform(l_data['fulltext'])\n",
    "l_df = pd.DataFrame(l_cvec.toarray(),\n",
    "                          columns=cvec.get_feature_names())"
   ]
  },
  {
   "cell_type": "code",
   "execution_count": 31,
   "metadata": {},
   "outputs": [
    {
     "name": "stderr",
     "output_type": "stream",
     "text": [
      "/Users/aryehgelfand/opt/anaconda3/lib/python3.7/site-packages/sklearn/feature_extraction/text.py:300: UserWarning: Your stop_words may be inconsistent with your preprocessing. Tokenizing the stop words generated tokens ['amb', 'ing', 'pm'] not in stop_words.\n",
      "  'stop_words.' % sorted(inconsistent))\n"
     ]
    }
   ],
   "source": [
    "cvec = CountVectorizer(analyzer = \"word\",\n",
    "                             tokenizer = None,\n",
    "                             preprocessor = None,\n",
    "                             stop_words = stopwords,\n",
    "                             ngram_range = (2,2),\n",
    "                       \n",
    "                             max_features = 50000)\n",
    "c_cvec = cvec.fit_transform(c_data['fulltext'])\n",
    "c_df = pd.DataFrame(c_cvec.toarray(),\n",
    "                          columns=cvec.get_feature_names())"
   ]
  },
  {
   "cell_type": "markdown",
   "metadata": {},
   "source": [
    "These count vectorizers are checkong for bigrams in each post. Meaning unique two word combinations. We can get a better sense of the meaning of the common posts post"
   ]
  },
  {
   "cell_type": "code",
   "execution_count": 32,
   "metadata": {},
   "outputs": [
    {
     "data": {
      "image/png": "[encoded data removed]",
      "text/plain": [
       "<Figure size 432x288 with 2 Axes>"
      ]
     },
     "metadata": {},
     "output_type": "display_data"
    },
    {
     "data": {
      "text/plain": [
       "<Figure size 432x288 with 0 Axes>"
      ]
     },
     "metadata": {},
     "output_type": "display_data"
    }
   ],
   "source": [
    "fig,axes=plt.subplots(ncols=2)\n",
    "plt.suptitle('20 Common Words for Each Subreddit With Stopwords N_gram(2,2)',fontsize=16,va='bottom')\n",
    "axes[0].set(xlabel=\"Frequency\", ylabel=\"Common Words\")\n",
    "axes[1].set(xlabel=\"Frequency\", ylabel=\"Common Words\")\n",
    "axes[0].title.set_text('Conservative')\n",
    "axes[1].title.set_text('Liberal')\n",
    "c_df.sum().sort_values(ascending=False).head(20).plot(kind='barh', ax= axes[0]);\n",
    "\n",
    "l_df.sum().sort_values(ascending=False).head(20).plot(kind='barh', ax = axes[1]);\n",
    "\n",
    "plt.tight_layout()\n",
    "plt.figure();"
   ]
  },
  {
   "cell_type": "markdown",
   "metadata": {},
   "source": [
    "These bigrams are all pertaining to a particular contentious issue for either group. This came about after I removed many unique and profane words. "
   ]
  },
  {
   "cell_type": "code",
   "execution_count": 33,
   "metadata": {},
   "outputs": [],
   "source": [
    "full_df = pd.concat([l_combine,c_combine])# combine the dataframes into one that one can go in the model.\n"
   ]
  },
  {
   "cell_type": "code",
   "execution_count": 34,
   "metadata": {},
   "outputs": [],
   "source": [
    "full_df = full_df[~full_df['author'].isin(both_df['author'])]# removed posts from authors who posted in both"
   ]
  },
  {
   "cell_type": "code",
   "execution_count": 35,
   "metadata": {},
   "outputs": [
    {
     "data": {
      "image/png": "[encoded data removed]",
      "text/plain": [
       "<Figure size 432x288 with 1 Axes>"
      ]
     },
     "metadata": {},
     "output_type": "display_data"
    }
   ],
   "source": [
    "#plt.bar(full_df['subreddit'],full_df['num_comments'].mean())\n",
    "full_df[full_df['subreddit']==1]['num_comments'].mean()\n",
    "x = ['Conservative', 'Liberal']\n",
    "y = [full_df[full_df['subreddit']==0]['num_comments'].mean(),full_df[full_df['subreddit']==1]['num_comments'].mean()]\n",
    "plt.bar(x,y,color = 'y');\n",
    "plt.ylabel('Average Number of Comments')\n",
    "plt.title('Average Number of Comments By Subreddit');"
   ]
  },
  {
   "cell_type": "markdown",
   "metadata": {},
   "source": [
    "Check for average comments per post for each group. Conservatives have a livlier discussion on average"
   ]
  },
  {
   "cell_type": "markdown",
   "metadata": {},
   "source": [
    "# Modeling"
   ]
  },
  {
   "cell_type": "markdown",
   "metadata": {},
   "source": [
    "### Model Prep"
   ]
  },
  {
   "cell_type": "code",
   "execution_count": 36,
   "metadata": {},
   "outputs": [],
   "source": [
    "X = full_df['fulltext']\n",
    "y = full_df['subreddit']"
   ]
  },
  {
   "cell_type": "code",
   "execution_count": 37,
   "metadata": {},
   "outputs": [],
   "source": [
    "X_train, X_test, y_train, y_test = train_test_split(X,# split the dataframe into a training and testing set in order to check for overfitting\n",
    "                                                    y,\n",
    "                                                    test_size=0.25,\n",
    "             \n",
    "                                                    stratify=y,\n",
    "\n",
    "                                                   random_state=42)\n",
    "\n",
    "\n"
   ]
  },
  {
   "cell_type": "markdown",
   "metadata": {},
   "source": [
    "We split the data into 75% training set in order to train our model and 25% to test the model. We do this to avoid overfitting our data to one set of data."
   ]
  },
  {
   "cell_type": "markdown",
   "metadata": {},
   "source": [
    "#### Baseline Model"
   ]
  },
  {
   "cell_type": "code",
   "execution_count": 38,
   "metadata": {},
   "outputs": [
    {
     "data": {
      "text/plain": [
       "0.5504469987228607"
      ]
     },
     "execution_count": 38,
     "metadata": {},
     "output_type": "execute_result"
    }
   ],
   "source": [
    "y_test.value_counts(normalize=True)[1\n",
    "                                   \n",
    "                                   ]"
   ]
  },
  {
   "cell_type": "markdown",
   "metadata": {},
   "source": [
    "The baseline model is without any optimization if we would randomly choose selections from the datset, we would on average pick the Liberal subreddit 55.04% of the time. In order to be successful, our model needs to outdo this."
   ]
  },
  {
   "cell_type": "markdown",
   "metadata": {},
   "source": [
    "#### Logistic Regression"
   ]
  },
  {
   "cell_type": "code",
   "execution_count": 39,
   "metadata": {},
   "outputs": [],
   "source": [
    "pipe = Pipeline([\n",
    "    ('cvec', CountVectorizer()),\n",
    "    ('lr', LogisticRegression(solver = 'liblinear'))\n",
    "])\n",
    "\n",
    "pipe_params = {\n",
    "    'cvec__min_df': [1,2, 3],\n",
    "    'cvec__max_features': [2372],\n",
    "    'cvec__max_df': [.6,.8],\n",
    "    'cvec__ngram_range': [(1,5),(1,4),(2,2)],\n",
    "    'cvec__stop_words': [stopwords,'english'],\n",
    "    'lr__penalty':['l1','l2'],\n",
    "    'lr__C':[.01,1,10]\n",
    "}\n",
    "\n",
    "gs = GridSearchCV(pipe, # what object are we optimizing?\n",
    "                  param_grid=pipe_params,\n",
    "                  n_jobs=-1,# what parameters values are we searching?\n",
    "                  cv=3,\n",
    "                 verbose=1) # 5-fold cross-validation."
   ]
  },
  {
   "cell_type": "code",
   "execution_count": 40,
   "metadata": {},
   "outputs": [
    {
     "name": "stdout",
     "output_type": "stream",
     "text": [
      "Fitting 3 folds for each of 216 candidates, totalling 648 fits\n"
     ]
    },
    {
     "name": "stderr",
     "output_type": "stream",
     "text": [
      "[Parallel(n_jobs=-1)]: Using backend LokyBackend with 4 concurrent workers.\n",
      "[Parallel(n_jobs=-1)]: Done  42 tasks      | elapsed:   26.7s\n",
      "[Parallel(n_jobs=-1)]: Done 192 tasks      | elapsed:  1.3min\n",
      "[Parallel(n_jobs=-1)]: Done 442 tasks      | elapsed:  2.6min\n",
      "[Parallel(n_jobs=-1)]: Done 648 out of 648 | elapsed:  3.8min finished\n"
     ]
    },
    {
     "data": {
      "text/plain": [
       "GridSearchCV(cv=3, error_score='raise-deprecating',\n",
       "             estimator=Pipeline(memory=None,\n",
       "                                steps=[('cvec',\n",
       "                                        CountVectorizer(analyzer='word',\n",
       "                                                        binary=False,\n",
       "                                                        decode_error='strict',\n",
       "                                                        dtype=<class 'numpy.int64'>,\n",
       "                                                        encoding='utf-8',\n",
       "                                                        input='content',\n",
       "                                                        lowercase=True,\n",
       "                                                        max_df=1.0,\n",
       "                                                        max_features=None,\n",
       "                                                        min_df=1,\n",
       "                                                        ngram_range=(1, 1),\n",
       "                                                        preprocessor=None,\n",
       "                                                        stop_words=None,\n",
       "                                                        strip_accents=None,\n",
       "                                                        tok...\n",
       "                         'cvec__stop_words': [['i', 'me', 'my', 'myself', 'we',\n",
       "                                               'our', 'ours', 'ourselves',\n",
       "                                               'you', \"you're\", \"you've\",\n",
       "                                               \"you'll\", \"you'd\", 'your',\n",
       "                                               'yours', 'yourself',\n",
       "                                               'yourselves', 'he', 'him', 'his',\n",
       "                                               'himself', 'she', \"she's\", 'her',\n",
       "                                               'hers', 'herself', 'it', \"it's\",\n",
       "                                               'its', 'itself', ...],\n",
       "                                              'english'],\n",
       "                         'lr__C': [0.01, 1, 10], 'lr__penalty': ['l1', 'l2']},\n",
       "             pre_dispatch='2*n_jobs', refit=True, return_train_score=False,\n",
       "             scoring=None, verbose=1)"
      ]
     },
     "execution_count": 40,
     "metadata": {},
     "output_type": "execute_result"
    }
   ],
   "source": [
    "gs.fit(X_train,y_train)"
   ]
  },
  {
   "cell_type": "code",
   "execution_count": 41,
   "metadata": {},
   "outputs": [
    {
     "data": {
      "text/plain": [
       "<bound method BaseEstimator.get_params of GridSearchCV(cv=3, error_score='raise-deprecating',\n",
       "             estimator=Pipeline(memory=None,\n",
       "                                steps=[('cvec',\n",
       "                                        CountVectorizer(analyzer='word',\n",
       "                                                        binary=False,\n",
       "                                                        decode_error='strict',\n",
       "                                                        dtype=<class 'numpy.int64'>,\n",
       "                                                        encoding='utf-8',\n",
       "                                                        input='content',\n",
       "                                                        lowercase=True,\n",
       "                                                        max_df=1.0,\n",
       "                                                        max_features=None,\n",
       "                                                        min_df=1,\n",
       "                                                        ngram_range=(1, 1),\n",
       "                                                        preprocessor=None,\n",
       "                                                        stop_words=None,\n",
       "                                                        strip_accents=None,\n",
       "                                                        tok...\n",
       "                         'cvec__stop_words': [['i', 'me', 'my', 'myself', 'we',\n",
       "                                               'our', 'ours', 'ourselves',\n",
       "                                               'you', \"you're\", \"you've\",\n",
       "                                               \"you'll\", \"you'd\", 'your',\n",
       "                                               'yours', 'yourself',\n",
       "                                               'yourselves', 'he', 'him', 'his',\n",
       "                                               'himself', 'she', \"she's\", 'her',\n",
       "                                               'hers', 'herself', 'it', \"it's\",\n",
       "                                               'its', 'itself', ...],\n",
       "                                              'english'],\n",
       "                         'lr__C': [0.01, 1, 10], 'lr__penalty': ['l1', 'l2']},\n",
       "             pre_dispatch='2*n_jobs', refit=True, return_train_score=False,\n",
       "             scoring=None, verbose=1)>"
      ]
     },
     "execution_count": 41,
     "metadata": {},
     "output_type": "execute_result"
    }
   ],
   "source": [
    "gs.get_params\n",
    "\n"
   ]
  },
  {
   "cell_type": "code",
   "execution_count": 42,
   "metadata": {},
   "outputs": [
    {
     "name": "stdout",
     "output_type": "stream",
     "text": [
      "Train Score 0.804005112910098\n",
      "Test Score 0.5977011494252874\n"
     ]
    },
    {
     "name": "stderr",
     "output_type": "stream",
     "text": [
      "/Users/aryehgelfand/opt/anaconda3/lib/python3.7/site-packages/sklearn/model_selection/_split.py:1978: FutureWarning: The default value of cv will change from 3 to 5 in version 0.22. Specify it explicitly to silence this warning.\n",
      "  warnings.warn(CV_WARNING, FutureWarning)\n"
     ]
    },
    {
     "name": "stdout",
     "output_type": "stream",
     "text": [
      "Cross Val Score 0.595658053326278\n"
     ]
    }
   ],
   "source": [
    "print(f'Train Score {gs.score(X_train,y_train)}')\n",
    "print(f'Test Score {gs.score(X_test,y_test)}')\n",
    "print(f'Cross Val Score {cross_val_score(gs.best_estimator_, X_train,y_train).mean()}')\n"
   ]
  },
  {
   "cell_type": "code",
   "execution_count": 43,
   "metadata": {},
   "outputs": [],
   "source": [
    "tvec_pipe = Pipeline([\n",
    "    ('tvec' , TfidfVectorizer()),\n",
    "    ('lr', LogisticRegression(solver = 'liblinear'))\n",
    "])\n"
   ]
  },
  {
   "cell_type": "code",
   "execution_count": 44,
   "metadata": {},
   "outputs": [],
   "source": [
    "tvec_pipe_params = {\n",
    "    'tvec__stop_words': [stopwords],# there was too much profanity in the dataset, so in the name of professionalism, I had to remove profane words by making it choose my stop word list.\n",
    "    'tvec__ngram_range': [(1,1), (1,2)],\n",
    "    'lr__penalty':['l2'],\n",
    "    'lr__C':[.01,1,10]\n",
    "}"
   ]
  },
  {
   "cell_type": "code",
   "execution_count": 45,
   "metadata": {},
   "outputs": [],
   "source": [
    "best_score = GridSearchCV(tvec_pipe, # what object are we optimizing?\n",
    "                  param_grid=tvec_pipe_params, # what parameters values are we searching?\n",
    "                  cv=5,\n",
    "                 verbose = 1,\n",
    "                 n_jobs=-1) # 5-fold cross-validation."
   ]
  },
  {
   "cell_type": "code",
   "execution_count": 46,
   "metadata": {},
   "outputs": [
    {
     "name": "stdout",
     "output_type": "stream",
     "text": [
      "Fitting 5 folds for each of 6 candidates, totalling 30 fits\n"
     ]
    },
    {
     "name": "stderr",
     "output_type": "stream",
     "text": [
      "[Parallel(n_jobs=-1)]: Using backend LokyBackend with 4 concurrent workers.\n",
      "[Parallel(n_jobs=-1)]: Done  30 out of  30 | elapsed:    4.4s finished\n",
      "/Users/aryehgelfand/opt/anaconda3/lib/python3.7/site-packages/sklearn/feature_extraction/text.py:300: UserWarning: Your stop_words may be inconsistent with your preprocessing. Tokenizing the stop words generated tokens ['amb', 'ing', 'pm'] not in stop_words.\n",
      "  'stop_words.' % sorted(inconsistent))\n"
     ]
    },
    {
     "data": {
      "text/plain": [
       "GridSearchCV(cv=5, error_score='raise-deprecating',\n",
       "             estimator=Pipeline(memory=None,\n",
       "                                steps=[('tvec',\n",
       "                                        TfidfVectorizer(analyzer='word',\n",
       "                                                        binary=False,\n",
       "                                                        decode_error='strict',\n",
       "                                                        dtype=<class 'numpy.float64'>,\n",
       "                                                        encoding='utf-8',\n",
       "                                                        input='content',\n",
       "                                                        lowercase=True,\n",
       "                                                        max_df=1.0,\n",
       "                                                        max_features=None,\n",
       "                                                        min_df=1,\n",
       "                                                        ngram_range=(1, 1),\n",
       "                                                        norm='l2',\n",
       "                                                        preprocessor=None,\n",
       "                                                        smooth_idf=True,\n",
       "                                                        stop_words...\n",
       "                         'tvec__ngram_range': [(1, 1), (1, 2)],\n",
       "                         'tvec__stop_words': [['i', 'me', 'my', 'myself', 'we',\n",
       "                                               'our', 'ours', 'ourselves',\n",
       "                                               'you', \"you're\", \"you've\",\n",
       "                                               \"you'll\", \"you'd\", 'your',\n",
       "                                               'yours', 'yourself',\n",
       "                                               'yourselves', 'he', 'him', 'his',\n",
       "                                               'himself', 'she', \"she's\", 'her',\n",
       "                                               'hers', 'herself', 'it', \"it's\",\n",
       "                                               'its', 'itself', ...]]},\n",
       "             pre_dispatch='2*n_jobs', refit=True, return_train_score=False,\n",
       "             scoring=None, verbose=1)"
      ]
     },
     "execution_count": 46,
     "metadata": {},
     "output_type": "execute_result"
    }
   ],
   "source": [
    "best_score.fit(X_train,y_train)\n"
   ]
  },
  {
   "cell_type": "code",
   "execution_count": 47,
   "metadata": {},
   "outputs": [
    {
     "data": {
      "text/plain": [
       "{'lr__C': 1,\n",
       " 'lr__penalty': 'l2',\n",
       " 'tvec__ngram_range': (1, 1),\n",
       " 'tvec__stop_words': ['i',\n",
       "  'me',\n",
       "  'my',\n",
       "  'myself',\n",
       "  'we',\n",
       "  'our',\n",
       "  'ours',\n",
       "  'ourselves',\n",
       "  'you',\n",
       "  \"you're\",\n",
       "  \"you've\",\n",
       "  \"you'll\",\n",
       "  \"you'd\",\n",
       "  'your',\n",
       "  'yours',\n",
       "  'yourself',\n",
       "  'yourselves',\n",
       "  'he',\n",
       "  'him',\n",
       "  'his',\n",
       "  'himself',\n",
       "  'she',\n",
       "  \"she's\",\n",
       "  'her',\n",
       "  'hers',\n",
       "  'herself',\n",
       "  'it',\n",
       "  \"it's\",\n",
       "  'its',\n",
       "  'itself',\n",
       "  'they',\n",
       "  'them',\n",
       "  'their',\n",
       "  'theirs',\n",
       "  'themselves',\n",
       "  'what',\n",
       "  'which',\n",
       "  'who',\n",
       "  'whom',\n",
       "  'this',\n",
       "  'that',\n",
       "  \"that'll\",\n",
       "  'these',\n",
       "  'those',\n",
       "  'am',\n",
       "  'is',\n",
       "  'are',\n",
       "  'was',\n",
       "  'were',\n",
       "  'be',\n",
       "  'been',\n",
       "  'being',\n",
       "  'have',\n",
       "  'has',\n",
       "  'had',\n",
       "  'having',\n",
       "  'do',\n",
       "  'does',\n",
       "  'did',\n",
       "  'doing',\n",
       "  'a',\n",
       "  'an',\n",
       "  'the',\n",
       "  'and',\n",
       "  'but',\n",
       "  'if',\n",
       "  'or',\n",
       "  'because',\n",
       "  'as',\n",
       "  'until',\n",
       "  'while',\n",
       "  'of',\n",
       "  'at',\n",
       "  'by',\n",
       "  'for',\n",
       "  'with',\n",
       "  'about',\n",
       "  'against',\n",
       "  'between',\n",
       "  'into',\n",
       "  'through',\n",
       "  'during',\n",
       "  'before',\n",
       "  'after',\n",
       "  'above',\n",
       "  'below',\n",
       "  'to',\n",
       "  'from',\n",
       "  'up',\n",
       "  'down',\n",
       "  'in',\n",
       "  'out',\n",
       "  'on',\n",
       "  'off',\n",
       "  'over',\n",
       "  'under',\n",
       "  'again',\n",
       "  'further',\n",
       "  'then',\n",
       "  'once',\n",
       "  'here',\n",
       "  'there',\n",
       "  'when',\n",
       "  'where',\n",
       "  'why',\n",
       "  'how',\n",
       "  'all',\n",
       "  'any',\n",
       "  'both',\n",
       "  'each',\n",
       "  'few',\n",
       "  'more',\n",
       "  'most',\n",
       "  'other',\n",
       "  'some',\n",
       "  'such',\n",
       "  'no',\n",
       "  'nor',\n",
       "  'not',\n",
       "  'only',\n",
       "  'own',\n",
       "  'same',\n",
       "  'so',\n",
       "  'than',\n",
       "  'too',\n",
       "  'very',\n",
       "  's',\n",
       "  't',\n",
       "  'can',\n",
       "  'will',\n",
       "  'just',\n",
       "  'don',\n",
       "  \"don't\",\n",
       "  'should',\n",
       "  \"should've\",\n",
       "  'now',\n",
       "  'd',\n",
       "  'll',\n",
       "  'm',\n",
       "  'o',\n",
       "  're',\n",
       "  've',\n",
       "  'y',\n",
       "  'ain',\n",
       "  'aren',\n",
       "  \"aren't\",\n",
       "  'couldn',\n",
       "  \"couldn't\",\n",
       "  'didn',\n",
       "  \"didn't\",\n",
       "  'doesn',\n",
       "  \"doesn't\",\n",
       "  'hadn',\n",
       "  \"hadn't\",\n",
       "  'hasn',\n",
       "  \"hasn't\",\n",
       "  'haven',\n",
       "  \"haven't\",\n",
       "  'isn',\n",
       "  \"isn't\",\n",
       "  'ma',\n",
       "  'mightn',\n",
       "  \"mightn't\",\n",
       "  'mustn',\n",
       "  \"mustn't\",\n",
       "  'needn',\n",
       "  \"needn't\",\n",
       "  'shan',\n",
       "  \"shan't\",\n",
       "  'shouldn',\n",
       "  \"shouldn't\",\n",
       "  'wasn',\n",
       "  \"wasn't\",\n",
       "  'weren',\n",
       "  \"weren't\",\n",
       "  'won',\n",
       "  \"won't\",\n",
       "  'wouldn',\n",
       "  \"wouldn't\",\n",
       "  'the',\n",
       "  'of',\n",
       "  'to',\n",
       "  'in',\n",
       "  'than',\n",
       "  '$',\n",
       "  '?',\n",
       "  '(',\n",
       "  ')is',\n",
       "  'www',\n",
       "  'for',\n",
       "  'us',\n",
       "  'amp',\n",
       "  'conservative',\n",
       "  'conservatives',\n",
       "  'liberal',\n",
       "  'liberals',\n",
       "  'think',\n",
       "  'know',\n",
       "  'would',\n",
       "  'trump',\n",
       "  'want',\n",
       "  'pm ing',\n",
       "  'com',\n",
       "  'country',\n",
       "  'like',\n",
       "  'get',\n",
       "  'even',\n",
       "  'new',\n",
       "  'news',\n",
       "  'see',\n",
       "  'people',\n",
       "  'president',\n",
       "  'left',\n",
       "  'right',\n",
       "  'good',\n",
       "  'government',\n",
       "  'time',\n",
       "  'one',\n",
       "  'say',\n",
       "  'amb xb',\n",
       "  'xb',\n",
       "  'yeah',\n",
       "  'oh',\n",
       "  'goo',\n",
       "  'gl',\n",
       "  'enzhg',\n",
       "  'youtube',\n",
       "  'wikipedia',\n",
       "  'fuck',\n",
       "  'fucker',\n",
       "  'libtard',\n",
       "  'libtards']}"
      ]
     },
     "execution_count": 47,
     "metadata": {},
     "output_type": "execute_result"
    }
   ],
   "source": [
    "best_score.best_params_\n"
   ]
  },
  {
   "cell_type": "code",
   "execution_count": 48,
   "metadata": {},
   "outputs": [
    {
     "name": "stdout",
     "output_type": "stream",
     "text": [
      "Train Score 0.893907115466553\n",
      "Test Score 0.6372924648786717\n"
     ]
    },
    {
     "name": "stderr",
     "output_type": "stream",
     "text": [
      "/Users/aryehgelfand/opt/anaconda3/lib/python3.7/site-packages/sklearn/model_selection/_split.py:1978: FutureWarning: The default value of cv will change from 3 to 5 in version 0.22. Specify it explicitly to silence this warning.\n",
      "  warnings.warn(CV_WARNING, FutureWarning)\n",
      "/Users/aryehgelfand/opt/anaconda3/lib/python3.7/site-packages/sklearn/feature_extraction/text.py:300: UserWarning: Your stop_words may be inconsistent with your preprocessing. Tokenizing the stop words generated tokens ['amb', 'ing', 'pm'] not in stop_words.\n",
      "  'stop_words.' % sorted(inconsistent))\n",
      "/Users/aryehgelfand/opt/anaconda3/lib/python3.7/site-packages/sklearn/feature_extraction/text.py:300: UserWarning: Your stop_words may be inconsistent with your preprocessing. Tokenizing the stop words generated tokens ['amb', 'ing', 'pm'] not in stop_words.\n",
      "  'stop_words.' % sorted(inconsistent))\n"
     ]
    },
    {
     "name": "stdout",
     "output_type": "stream",
     "text": [
      "Cross Val Score 0.6020442937572608\n"
     ]
    },
    {
     "name": "stderr",
     "output_type": "stream",
     "text": [
      "/Users/aryehgelfand/opt/anaconda3/lib/python3.7/site-packages/sklearn/feature_extraction/text.py:300: UserWarning: Your stop_words may be inconsistent with your preprocessing. Tokenizing the stop words generated tokens ['amb', 'ing', 'pm'] not in stop_words.\n",
      "  'stop_words.' % sorted(inconsistent))\n"
     ]
    }
   ],
   "source": [
    "print(f'Train Score {best_score.score(X_train,y_train)}')\n",
    "print(f'Test Score {best_score.score(X_test,y_test)}')\n",
    "print(f'Cross Val Score {cross_val_score(best_score.best_estimator_, X_train, y_train).mean()}')"
   ]
  },
  {
   "cell_type": "markdown",
   "metadata": {},
   "source": [
    "#### KNnearest Neighbors"
   ]
  },
  {
   "cell_type": "code",
   "execution_count": 49,
   "metadata": {},
   "outputs": [],
   "source": [
    "knn__cvec_pipe = Pipeline([\n",
    "    ('cvec', CountVectorizer()),\n",
    "   ( 'tdif', TfidfTransformer(use_idf=False)),\n",
    "    ('knn' ,KNeighborsClassifier())\n",
    "])"
   ]
  },
  {
   "cell_type": "code",
   "execution_count": 50,
   "metadata": {},
   "outputs": [],
   "source": [
    "pipe_params = {\n",
    "    'cvec__min_df': [3],\n",
    "    'cvec__max_df': [.6],\n",
    "    'cvec__ngram_range': [(1,3),(1,4)],\n",
    "    'cvec__stop_words': [stopwords,'english'],\n",
    "    'knn__n_neighbors': [3],\n",
    "    'knn__metric': ['euclidean']\n",
    "}"
   ]
  },
  {
   "cell_type": "code",
   "execution_count": 51,
   "metadata": {},
   "outputs": [
    {
     "name": "stdout",
     "output_type": "stream",
     "text": [
      "Fitting 3 folds for each of 4 candidates, totalling 12 fits\n"
     ]
    },
    {
     "name": "stderr",
     "output_type": "stream",
     "text": [
      "[Parallel(n_jobs=-1)]: Using backend LokyBackend with 4 concurrent workers.\n",
      "[Parallel(n_jobs=-1)]: Done  12 out of  12 | elapsed:    4.5s finished\n"
     ]
    },
    {
     "data": {
      "text/plain": [
       "GridSearchCV(cv=3, error_score='raise-deprecating',\n",
       "             estimator=Pipeline(memory=None,\n",
       "                                steps=[('cvec',\n",
       "                                        CountVectorizer(analyzer='word',\n",
       "                                                        binary=False,\n",
       "                                                        decode_error='strict',\n",
       "                                                        dtype=<class 'numpy.int64'>,\n",
       "                                                        encoding='utf-8',\n",
       "                                                        input='content',\n",
       "                                                        lowercase=True,\n",
       "                                                        max_df=1.0,\n",
       "                                                        max_features=None,\n",
       "                                                        min_df=1,\n",
       "                                                        ngram_range=(1, 1),\n",
       "                                                        preprocessor=None,\n",
       "                                                        stop_words=None,\n",
       "                                                        strip_accents=None,\n",
       "                                                        tok...\n",
       "                         'cvec__stop_words': [['i', 'me', 'my', 'myself', 'we',\n",
       "                                               'our', 'ours', 'ourselves',\n",
       "                                               'you', \"you're\", \"you've\",\n",
       "                                               \"you'll\", \"you'd\", 'your',\n",
       "                                               'yours', 'yourself',\n",
       "                                               'yourselves', 'he', 'him', 'his',\n",
       "                                               'himself', 'she', \"she's\", 'her',\n",
       "                                               'hers', 'herself', 'it', \"it's\",\n",
       "                                               'its', 'itself', ...],\n",
       "                                              'english'],\n",
       "                         'knn__metric': ['euclidean'],\n",
       "                         'knn__n_neighbors': [3]},\n",
       "             pre_dispatch='2*n_jobs', refit=True, return_train_score=False,\n",
       "             scoring=None, verbose=1)"
      ]
     },
     "execution_count": 51,
     "metadata": {},
     "output_type": "execute_result"
    }
   ],
   "source": [
    "gs = GridSearchCV(knn__cvec_pipe, # what object are we optimizing?\n",
    "                  param_grid=pipe_params,\n",
    "                  n_jobs = -1,# what parameters values are we searching?\n",
    "                  cv=3,\n",
    "                 verbose = 1) # 5-fold cross-validation.\n",
    "\n",
    "gs.fit(X_train,y_train)"
   ]
  },
  {
   "cell_type": "code",
   "execution_count": 52,
   "metadata": {},
   "outputs": [
    {
     "data": {
      "text/plain": [
       "{'cvec__max_df': 0.6,\n",
       " 'cvec__min_df': 3,\n",
       " 'cvec__ngram_range': (1, 3),\n",
       " 'cvec__stop_words': 'english',\n",
       " 'knn__metric': 'euclidean',\n",
       " 'knn__n_neighbors': 3}"
      ]
     },
     "execution_count": 52,
     "metadata": {},
     "output_type": "execute_result"
    }
   ],
   "source": [
    "gs.best_params_"
   ]
  },
  {
   "cell_type": "code",
   "execution_count": 53,
   "metadata": {},
   "outputs": [
    {
     "name": "stdout",
     "output_type": "stream",
     "text": [
      "Train Score 0.6293140178951854\n",
      "Test Score 0.5683269476372924\n"
     ]
    },
    {
     "name": "stderr",
     "output_type": "stream",
     "text": [
      "/Users/aryehgelfand/opt/anaconda3/lib/python3.7/site-packages/sklearn/model_selection/_split.py:1978: FutureWarning: The default value of cv will change from 3 to 5 in version 0.22. Specify it explicitly to silence this warning.\n",
      "  warnings.warn(CV_WARNING, FutureWarning)\n"
     ]
    },
    {
     "name": "stdout",
     "output_type": "stream",
     "text": [
      "Cross Val Score 0.549517334529579\n"
     ]
    }
   ],
   "source": [
    "print(f'Train Score {gs.score(X_train,y_train)}')\n",
    "print(f'Test Score {gs.score(X_test,y_test)}')\n",
    "print(f'Cross Val Score {cross_val_score(gs.best_estimator_, X,y).mean()}')"
   ]
  },
  {
   "cell_type": "code",
   "execution_count": 54,
   "metadata": {},
   "outputs": [],
   "source": [
    "knn_tfidf_pipe = Pipeline([\n",
    "    ('tvec', TfidfVectorizer()),\n",
    "    ( 'tdif', TfidfTransformer(use_idf=False)),\n",
    "    ('knn' ,KNeighborsClassifier())\n",
    "])"
   ]
  },
  {
   "cell_type": "code",
   "execution_count": 55,
   "metadata": {},
   "outputs": [],
   "source": [
    "pipe_params = {\n",
    "    'tvec__min_df': [3],\n",
    "    'tvec__max_df': [.6],\n",
    "    'tvec__ngram_range': [(1,3)],\n",
    "    'tvec__stop_words': [stopwords,'english'],\n",
    "    'knn__n_neighbors': [3],\n",
    "    'knn__metric': ['euclidean']\n",
    "}"
   ]
  },
  {
   "cell_type": "code",
   "execution_count": 56,
   "metadata": {},
   "outputs": [
    {
     "name": "stdout",
     "output_type": "stream",
     "text": [
      "Fitting 3 folds for each of 2 candidates, totalling 6 fits\n"
     ]
    },
    {
     "name": "stderr",
     "output_type": "stream",
     "text": [
      "[Parallel(n_jobs=-1)]: Using backend LokyBackend with 4 concurrent workers.\n",
      "[Parallel(n_jobs=-1)]: Done   6 out of   6 | elapsed:    2.0s remaining:    0.0s\n",
      "[Parallel(n_jobs=-1)]: Done   6 out of   6 | elapsed:    2.0s finished\n"
     ]
    },
    {
     "data": {
      "text/plain": [
       "GridSearchCV(cv=3, error_score='raise-deprecating',\n",
       "             estimator=Pipeline(memory=None,\n",
       "                                steps=[('tvec',\n",
       "                                        TfidfVectorizer(analyzer='word',\n",
       "                                                        binary=False,\n",
       "                                                        decode_error='strict',\n",
       "                                                        dtype=<class 'numpy.float64'>,\n",
       "                                                        encoding='utf-8',\n",
       "                                                        input='content',\n",
       "                                                        lowercase=True,\n",
       "                                                        max_df=1.0,\n",
       "                                                        max_features=None,\n",
       "                                                        min_df=1,\n",
       "                                                        ngram_range=(1, 1),\n",
       "                                                        norm='l2',\n",
       "                                                        preprocessor=None,\n",
       "                                                        smooth_idf=True,\n",
       "                                                        stop_words...\n",
       "                         'tvec__ngram_range': [(1, 3)],\n",
       "                         'tvec__stop_words': [['i', 'me', 'my', 'myself', 'we',\n",
       "                                               'our', 'ours', 'ourselves',\n",
       "                                               'you', \"you're\", \"you've\",\n",
       "                                               \"you'll\", \"you'd\", 'your',\n",
       "                                               'yours', 'yourself',\n",
       "                                               'yourselves', 'he', 'him', 'his',\n",
       "                                               'himself', 'she', \"she's\", 'her',\n",
       "                                               'hers', 'herself', 'it', \"it's\",\n",
       "                                               'its', 'itself', ...],\n",
       "                                              'english']},\n",
       "             pre_dispatch='2*n_jobs', refit=True, return_train_score=False,\n",
       "             scoring=None, verbose=1)"
      ]
     },
     "execution_count": 56,
     "metadata": {},
     "output_type": "execute_result"
    }
   ],
   "source": [
    "gs = GridSearchCV(knn_tfidf_pipe, # what object are we optimizing?\n",
    "                  param_grid=pipe_params,\n",
    "                  n_jobs = -1,# what parameters values are we searching?\n",
    "                  cv=3,\n",
    "                 verbose = 1) # 5-fold cross-validation.\n",
    "\n",
    "gs.fit(X_train,y_train)"
   ]
  },
  {
   "cell_type": "code",
   "execution_count": 57,
   "metadata": {},
   "outputs": [
    {
     "data": {
      "text/plain": [
       "{'knn__metric': 'euclidean',\n",
       " 'knn__n_neighbors': 3,\n",
       " 'tvec__max_df': 0.6,\n",
       " 'tvec__min_df': 3,\n",
       " 'tvec__ngram_range': (1, 3),\n",
       " 'tvec__stop_words': 'english'}"
      ]
     },
     "execution_count": 57,
     "metadata": {},
     "output_type": "execute_result"
    }
   ],
   "source": [
    "gs.best_params_"
   ]
  },
  {
   "cell_type": "code",
   "execution_count": 58,
   "metadata": {},
   "outputs": [
    {
     "name": "stdout",
     "output_type": "stream",
     "text": [
      "Train Score 0.6246271836386876\n",
      "Test Score 0.5606641123882503\n"
     ]
    },
    {
     "name": "stderr",
     "output_type": "stream",
     "text": [
      "/Users/aryehgelfand/opt/anaconda3/lib/python3.7/site-packages/sklearn/model_selection/_split.py:1978: FutureWarning: The default value of cv will change from 3 to 5 in version 0.22. Specify it explicitly to silence this warning.\n",
      "  warnings.warn(CV_WARNING, FutureWarning)\n"
     ]
    },
    {
     "name": "stdout",
     "output_type": "stream",
     "text": [
      "Cross Val Score 0.5498427476387633\n"
     ]
    }
   ],
   "source": [
    "print(f'Train Score {gs.score(X_train,y_train)}')\n",
    "print(f'Test Score {gs.score(X_test,y_test)}')\n",
    "print(f'Cross Val Score {cross_val_score(gs.best_estimator_, X,y).mean()}')"
   ]
  },
  {
   "cell_type": "markdown",
   "metadata": {},
   "source": [
    "#### Decision Trees"
   ]
  },
  {
   "cell_type": "code",
   "execution_count": 59,
   "metadata": {},
   "outputs": [],
   "source": [
    "pipe_dt_cvec = Pipeline([\n",
    "    ('cvec', CountVectorizer()),\n",
    "    ('dt', DecisionTreeClassifier())])\n",
    "\n",
    "\n",
    "pipe_params = {\n",
    "    'cvec__min_df': [3] ,\n",
    "    'cvec__max_df' : [.6],\n",
    "    'cvec__ngram_range': [(1,3)],\n",
    "    'cvec__stop_words' : ['english', stopwords],\n",
    "    'dt__max_depth' : [20],\n",
    "    'dt__min_samples_leaf' : [6],\n",
    "    'dt__min_samples_split' : [3],\n",
    "    }\n",
    "\n",
    "gs = GridSearchCV(pipe_dt_cvec, # what object are we optimizing?\n",
    "                  param_grid=pipe_params,\n",
    "                  n_jobs = -1,# what parameters values are we searching?\n",
    "                  cv=3,\n",
    "                  verbose = 1) # 3-fold cross-validation."
   ]
  },
  {
   "cell_type": "code",
   "execution_count": 60,
   "metadata": {},
   "outputs": [
    {
     "name": "stdout",
     "output_type": "stream",
     "text": [
      "Fitting 3 folds for each of 2 candidates, totalling 6 fits\n"
     ]
    },
    {
     "name": "stderr",
     "output_type": "stream",
     "text": [
      "[Parallel(n_jobs=-1)]: Using backend LokyBackend with 4 concurrent workers.\n",
      "[Parallel(n_jobs=-1)]: Done   6 out of   6 | elapsed:    2.0s remaining:    0.0s\n",
      "[Parallel(n_jobs=-1)]: Done   6 out of   6 | elapsed:    2.0s finished\n",
      "/Users/aryehgelfand/opt/anaconda3/lib/python3.7/site-packages/sklearn/feature_extraction/text.py:300: UserWarning: Your stop_words may be inconsistent with your preprocessing. Tokenizing the stop words generated tokens ['amb', 'ing', 'pm'] not in stop_words.\n",
      "  'stop_words.' % sorted(inconsistent))\n"
     ]
    },
    {
     "data": {
      "text/plain": [
       "GridSearchCV(cv=3, error_score='raise-deprecating',\n",
       "             estimator=Pipeline(memory=None,\n",
       "                                steps=[('cvec',\n",
       "                                        CountVectorizer(analyzer='word',\n",
       "                                                        binary=False,\n",
       "                                                        decode_error='strict',\n",
       "                                                        dtype=<class 'numpy.int64'>,\n",
       "                                                        encoding='utf-8',\n",
       "                                                        input='content',\n",
       "                                                        lowercase=True,\n",
       "                                                        max_df=1.0,\n",
       "                                                        max_features=None,\n",
       "                                                        min_df=1,\n",
       "                                                        ngram_range=(1, 1),\n",
       "                                                        preprocessor=None,\n",
       "                                                        stop_words=None,\n",
       "                                                        strip_accents=None,\n",
       "                                                        tok...\n",
       "                                               'our', 'ours', 'ourselves',\n",
       "                                               'you', \"you're\", \"you've\",\n",
       "                                               \"you'll\", \"you'd\", 'your',\n",
       "                                               'yours', 'yourself',\n",
       "                                               'yourselves', 'he', 'him', 'his',\n",
       "                                               'himself', 'she', \"she's\", 'her',\n",
       "                                               'hers', 'herself', 'it', \"it's\",\n",
       "                                               'its', 'itself', ...]],\n",
       "                         'dt__max_depth': [20], 'dt__min_samples_leaf': [6],\n",
       "                         'dt__min_samples_split': [3]},\n",
       "             pre_dispatch='2*n_jobs', refit=True, return_train_score=False,\n",
       "             scoring=None, verbose=1)"
      ]
     },
     "execution_count": 60,
     "metadata": {},
     "output_type": "execute_result"
    }
   ],
   "source": [
    "gs.fit(X_train,y_train)"
   ]
  },
  {
   "cell_type": "code",
   "execution_count": 61,
   "metadata": {},
   "outputs": [
    {
     "data": {
      "text/plain": [
       "{'cvec__max_df': 0.6,\n",
       " 'cvec__min_df': 3,\n",
       " 'cvec__ngram_range': (1, 3),\n",
       " 'cvec__stop_words': ['i',\n",
       "  'me',\n",
       "  'my',\n",
       "  'myself',\n",
       "  'we',\n",
       "  'our',\n",
       "  'ours',\n",
       "  'ourselves',\n",
       "  'you',\n",
       "  \"you're\",\n",
       "  \"you've\",\n",
       "  \"you'll\",\n",
       "  \"you'd\",\n",
       "  'your',\n",
       "  'yours',\n",
       "  'yourself',\n",
       "  'yourselves',\n",
       "  'he',\n",
       "  'him',\n",
       "  'his',\n",
       "  'himself',\n",
       "  'she',\n",
       "  \"she's\",\n",
       "  'her',\n",
       "  'hers',\n",
       "  'herself',\n",
       "  'it',\n",
       "  \"it's\",\n",
       "  'its',\n",
       "  'itself',\n",
       "  'they',\n",
       "  'them',\n",
       "  'their',\n",
       "  'theirs',\n",
       "  'themselves',\n",
       "  'what',\n",
       "  'which',\n",
       "  'who',\n",
       "  'whom',\n",
       "  'this',\n",
       "  'that',\n",
       "  \"that'll\",\n",
       "  'these',\n",
       "  'those',\n",
       "  'am',\n",
       "  'is',\n",
       "  'are',\n",
       "  'was',\n",
       "  'were',\n",
       "  'be',\n",
       "  'been',\n",
       "  'being',\n",
       "  'have',\n",
       "  'has',\n",
       "  'had',\n",
       "  'having',\n",
       "  'do',\n",
       "  'does',\n",
       "  'did',\n",
       "  'doing',\n",
       "  'a',\n",
       "  'an',\n",
       "  'the',\n",
       "  'and',\n",
       "  'but',\n",
       "  'if',\n",
       "  'or',\n",
       "  'because',\n",
       "  'as',\n",
       "  'until',\n",
       "  'while',\n",
       "  'of',\n",
       "  'at',\n",
       "  'by',\n",
       "  'for',\n",
       "  'with',\n",
       "  'about',\n",
       "  'against',\n",
       "  'between',\n",
       "  'into',\n",
       "  'through',\n",
       "  'during',\n",
       "  'before',\n",
       "  'after',\n",
       "  'above',\n",
       "  'below',\n",
       "  'to',\n",
       "  'from',\n",
       "  'up',\n",
       "  'down',\n",
       "  'in',\n",
       "  'out',\n",
       "  'on',\n",
       "  'off',\n",
       "  'over',\n",
       "  'under',\n",
       "  'again',\n",
       "  'further',\n",
       "  'then',\n",
       "  'once',\n",
       "  'here',\n",
       "  'there',\n",
       "  'when',\n",
       "  'where',\n",
       "  'why',\n",
       "  'how',\n",
       "  'all',\n",
       "  'any',\n",
       "  'both',\n",
       "  'each',\n",
       "  'few',\n",
       "  'more',\n",
       "  'most',\n",
       "  'other',\n",
       "  'some',\n",
       "  'such',\n",
       "  'no',\n",
       "  'nor',\n",
       "  'not',\n",
       "  'only',\n",
       "  'own',\n",
       "  'same',\n",
       "  'so',\n",
       "  'than',\n",
       "  'too',\n",
       "  'very',\n",
       "  's',\n",
       "  't',\n",
       "  'can',\n",
       "  'will',\n",
       "  'just',\n",
       "  'don',\n",
       "  \"don't\",\n",
       "  'should',\n",
       "  \"should've\",\n",
       "  'now',\n",
       "  'd',\n",
       "  'll',\n",
       "  'm',\n",
       "  'o',\n",
       "  're',\n",
       "  've',\n",
       "  'y',\n",
       "  'ain',\n",
       "  'aren',\n",
       "  \"aren't\",\n",
       "  'couldn',\n",
       "  \"couldn't\",\n",
       "  'didn',\n",
       "  \"didn't\",\n",
       "  'doesn',\n",
       "  \"doesn't\",\n",
       "  'hadn',\n",
       "  \"hadn't\",\n",
       "  'hasn',\n",
       "  \"hasn't\",\n",
       "  'haven',\n",
       "  \"haven't\",\n",
       "  'isn',\n",
       "  \"isn't\",\n",
       "  'ma',\n",
       "  'mightn',\n",
       "  \"mightn't\",\n",
       "  'mustn',\n",
       "  \"mustn't\",\n",
       "  'needn',\n",
       "  \"needn't\",\n",
       "  'shan',\n",
       "  \"shan't\",\n",
       "  'shouldn',\n",
       "  \"shouldn't\",\n",
       "  'wasn',\n",
       "  \"wasn't\",\n",
       "  'weren',\n",
       "  \"weren't\",\n",
       "  'won',\n",
       "  \"won't\",\n",
       "  'wouldn',\n",
       "  \"wouldn't\",\n",
       "  'the',\n",
       "  'of',\n",
       "  'to',\n",
       "  'in',\n",
       "  'than',\n",
       "  '$',\n",
       "  '?',\n",
       "  '(',\n",
       "  ')is',\n",
       "  'www',\n",
       "  'for',\n",
       "  'us',\n",
       "  'amp',\n",
       "  'conservative',\n",
       "  'conservatives',\n",
       "  'liberal',\n",
       "  'liberals',\n",
       "  'think',\n",
       "  'know',\n",
       "  'would',\n",
       "  'trump',\n",
       "  'want',\n",
       "  'pm ing',\n",
       "  'com',\n",
       "  'country',\n",
       "  'like',\n",
       "  'get',\n",
       "  'even',\n",
       "  'new',\n",
       "  'news',\n",
       "  'see',\n",
       "  'people',\n",
       "  'president',\n",
       "  'left',\n",
       "  'right',\n",
       "  'good',\n",
       "  'government',\n",
       "  'time',\n",
       "  'one',\n",
       "  'say',\n",
       "  'amb xb',\n",
       "  'xb',\n",
       "  'yeah',\n",
       "  'oh',\n",
       "  'goo',\n",
       "  'gl',\n",
       "  'enzhg',\n",
       "  'youtube',\n",
       "  'wikipedia',\n",
       "  'fuck',\n",
       "  'fucker',\n",
       "  'libtard',\n",
       "  'libtards'],\n",
       " 'dt__max_depth': 20,\n",
       " 'dt__min_samples_leaf': 6,\n",
       " 'dt__min_samples_split': 3}"
      ]
     },
     "execution_count": 61,
     "metadata": {},
     "output_type": "execute_result"
    }
   ],
   "source": [
    "\n",
    "\n",
    "gs.best_params_"
   ]
  },
  {
   "cell_type": "code",
   "execution_count": 62,
   "metadata": {},
   "outputs": [
    {
     "name": "stdout",
     "output_type": "stream",
     "text": [
      "Train Score 0.6229228802726885\n",
      "Test Score 0.5721583652618135\n"
     ]
    },
    {
     "name": "stderr",
     "output_type": "stream",
     "text": [
      "/Users/aryehgelfand/opt/anaconda3/lib/python3.7/site-packages/sklearn/model_selection/_split.py:1978: FutureWarning: The default value of cv will change from 3 to 5 in version 0.22. Specify it explicitly to silence this warning.\n",
      "  warnings.warn(CV_WARNING, FutureWarning)\n",
      "/Users/aryehgelfand/opt/anaconda3/lib/python3.7/site-packages/sklearn/feature_extraction/text.py:300: UserWarning: Your stop_words may be inconsistent with your preprocessing. Tokenizing the stop words generated tokens ['amb', 'ing', 'pm'] not in stop_words.\n",
      "  'stop_words.' % sorted(inconsistent))\n",
      "/Users/aryehgelfand/opt/anaconda3/lib/python3.7/site-packages/sklearn/feature_extraction/text.py:300: UserWarning: Your stop_words may be inconsistent with your preprocessing. Tokenizing the stop words generated tokens ['amb', 'ing', 'pm'] not in stop_words.\n",
      "  'stop_words.' % sorted(inconsistent))\n",
      "/Users/aryehgelfand/opt/anaconda3/lib/python3.7/site-packages/sklearn/feature_extraction/text.py:300: UserWarning: Your stop_words may be inconsistent with your preprocessing. Tokenizing the stop words generated tokens ['amb', 'ing', 'pm'] not in stop_words.\n",
      "  'stop_words.' % sorted(inconsistent))\n"
     ]
    },
    {
     "name": "stdout",
     "output_type": "stream",
     "text": [
      "Cross Val Score 0.5472835665767031\n"
     ]
    }
   ],
   "source": [
    "print(f'Train Score {gs.score(X_train,y_train)}')\n",
    "print(f'Test Score {gs.score(X_test,y_test)}')\n",
    "print(f'Cross Val Score {cross_val_score(gs.best_estimator_, X,y).mean()}')\n",
    "\n",
    "\n"
   ]
  },
  {
   "cell_type": "code",
   "execution_count": 63,
   "metadata": {},
   "outputs": [],
   "source": [
    "dt_tfidf_pipe = Pipeline([\n",
    "    ('tvec', TfidfVectorizer()),\n",
    "    ( 'tdif', TfidfTransformer(use_idf=False)),\n",
    "    ('dt' ,DecisionTreeClassifier())\n",
    "])\n",
    "\n",
    "pipe_params = {\n",
    "    'tvec__min_df': [3] ,\n",
    "    'tvec__max_df' : [.6],\n",
    "    'tvec__ngram_range': [(1,3)],\n",
    "    'tvec__stop_words' : ['english', stopwords],\n",
    "    'dt__max_depth' : [20],\n",
    "    'dt__min_samples_leaf' : [6],\n",
    "    'dt__min_samples_split' : [3],\n",
    "    }\n",
    "\n",
    "gs = GridSearchCV(dt_tfidf_pipe, # what object are we optimizing?\n",
    "                  param_grid=pipe_params,\n",
    "                  n_jobs = -1,# what parameters values are we searching?\n",
    "                  cv=3,\n",
    "                  verbose = 1) # 3-fold cross-validation."
   ]
  },
  {
   "cell_type": "code",
   "execution_count": 64,
   "metadata": {},
   "outputs": [
    {
     "name": "stdout",
     "output_type": "stream",
     "text": [
      "Fitting 3 folds for each of 2 candidates, totalling 6 fits\n"
     ]
    },
    {
     "name": "stderr",
     "output_type": "stream",
     "text": [
      "[Parallel(n_jobs=-1)]: Using backend LokyBackend with 4 concurrent workers.\n",
      "[Parallel(n_jobs=-1)]: Done   6 out of   6 | elapsed:    1.9s remaining:    0.0s\n",
      "[Parallel(n_jobs=-1)]: Done   6 out of   6 | elapsed:    1.9s finished\n",
      "/Users/aryehgelfand/opt/anaconda3/lib/python3.7/site-packages/sklearn/feature_extraction/text.py:300: UserWarning: Your stop_words may be inconsistent with your preprocessing. Tokenizing the stop words generated tokens ['amb', 'ing', 'pm'] not in stop_words.\n",
      "  'stop_words.' % sorted(inconsistent))\n"
     ]
    },
    {
     "data": {
      "text/plain": [
       "GridSearchCV(cv=3, error_score='raise-deprecating',\n",
       "             estimator=Pipeline(memory=None,\n",
       "                                steps=[('tvec',\n",
       "                                        TfidfVectorizer(analyzer='word',\n",
       "                                                        binary=False,\n",
       "                                                        decode_error='strict',\n",
       "                                                        dtype=<class 'numpy.float64'>,\n",
       "                                                        encoding='utf-8',\n",
       "                                                        input='content',\n",
       "                                                        lowercase=True,\n",
       "                                                        max_df=1.0,\n",
       "                                                        max_features=None,\n",
       "                                                        min_df=1,\n",
       "                                                        ngram_range=(1, 1),\n",
       "                                                        norm='l2',\n",
       "                                                        preprocessor=None,\n",
       "                                                        smooth_idf=True,\n",
       "                                                        stop_words...\n",
       "                         'tvec__min_df': [3], 'tvec__ngram_range': [(1, 3)],\n",
       "                         'tvec__stop_words': ['english',\n",
       "                                              ['i', 'me', 'my', 'myself', 'we',\n",
       "                                               'our', 'ours', 'ourselves',\n",
       "                                               'you', \"you're\", \"you've\",\n",
       "                                               \"you'll\", \"you'd\", 'your',\n",
       "                                               'yours', 'yourself',\n",
       "                                               'yourselves', 'he', 'him', 'his',\n",
       "                                               'himself', 'she', \"she's\", 'her',\n",
       "                                               'hers', 'herself', 'it', \"it's\",\n",
       "                                               'its', 'itself', ...]]},\n",
       "             pre_dispatch='2*n_jobs', refit=True, return_train_score=False,\n",
       "             scoring=None, verbose=1)"
      ]
     },
     "execution_count": 64,
     "metadata": {},
     "output_type": "execute_result"
    }
   ],
   "source": [
    "gs.fit(X_train,y_train)"
   ]
  },
  {
   "cell_type": "code",
   "execution_count": 65,
   "metadata": {},
   "outputs": [
    {
     "data": {
      "text/plain": [
       "{'dt__max_depth': 20,\n",
       " 'dt__min_samples_leaf': 6,\n",
       " 'dt__min_samples_split': 3,\n",
       " 'tvec__max_df': 0.6,\n",
       " 'tvec__min_df': 3,\n",
       " 'tvec__ngram_range': (1, 3),\n",
       " 'tvec__stop_words': ['i',\n",
       "  'me',\n",
       "  'my',\n",
       "  'myself',\n",
       "  'we',\n",
       "  'our',\n",
       "  'ours',\n",
       "  'ourselves',\n",
       "  'you',\n",
       "  \"you're\",\n",
       "  \"you've\",\n",
       "  \"you'll\",\n",
       "  \"you'd\",\n",
       "  'your',\n",
       "  'yours',\n",
       "  'yourself',\n",
       "  'yourselves',\n",
       "  'he',\n",
       "  'him',\n",
       "  'his',\n",
       "  'himself',\n",
       "  'she',\n",
       "  \"she's\",\n",
       "  'her',\n",
       "  'hers',\n",
       "  'herself',\n",
       "  'it',\n",
       "  \"it's\",\n",
       "  'its',\n",
       "  'itself',\n",
       "  'they',\n",
       "  'them',\n",
       "  'their',\n",
       "  'theirs',\n",
       "  'themselves',\n",
       "  'what',\n",
       "  'which',\n",
       "  'who',\n",
       "  'whom',\n",
       "  'this',\n",
       "  'that',\n",
       "  \"that'll\",\n",
       "  'these',\n",
       "  'those',\n",
       "  'am',\n",
       "  'is',\n",
       "  'are',\n",
       "  'was',\n",
       "  'were',\n",
       "  'be',\n",
       "  'been',\n",
       "  'being',\n",
       "  'have',\n",
       "  'has',\n",
       "  'had',\n",
       "  'having',\n",
       "  'do',\n",
       "  'does',\n",
       "  'did',\n",
       "  'doing',\n",
       "  'a',\n",
       "  'an',\n",
       "  'the',\n",
       "  'and',\n",
       "  'but',\n",
       "  'if',\n",
       "  'or',\n",
       "  'because',\n",
       "  'as',\n",
       "  'until',\n",
       "  'while',\n",
       "  'of',\n",
       "  'at',\n",
       "  'by',\n",
       "  'for',\n",
       "  'with',\n",
       "  'about',\n",
       "  'against',\n",
       "  'between',\n",
       "  'into',\n",
       "  'through',\n",
       "  'during',\n",
       "  'before',\n",
       "  'after',\n",
       "  'above',\n",
       "  'below',\n",
       "  'to',\n",
       "  'from',\n",
       "  'up',\n",
       "  'down',\n",
       "  'in',\n",
       "  'out',\n",
       "  'on',\n",
       "  'off',\n",
       "  'over',\n",
       "  'under',\n",
       "  'again',\n",
       "  'further',\n",
       "  'then',\n",
       "  'once',\n",
       "  'here',\n",
       "  'there',\n",
       "  'when',\n",
       "  'where',\n",
       "  'why',\n",
       "  'how',\n",
       "  'all',\n",
       "  'any',\n",
       "  'both',\n",
       "  'each',\n",
       "  'few',\n",
       "  'more',\n",
       "  'most',\n",
       "  'other',\n",
       "  'some',\n",
       "  'such',\n",
       "  'no',\n",
       "  'nor',\n",
       "  'not',\n",
       "  'only',\n",
       "  'own',\n",
       "  'same',\n",
       "  'so',\n",
       "  'than',\n",
       "  'too',\n",
       "  'very',\n",
       "  's',\n",
       "  't',\n",
       "  'can',\n",
       "  'will',\n",
       "  'just',\n",
       "  'don',\n",
       "  \"don't\",\n",
       "  'should',\n",
       "  \"should've\",\n",
       "  'now',\n",
       "  'd',\n",
       "  'll',\n",
       "  'm',\n",
       "  'o',\n",
       "  're',\n",
       "  've',\n",
       "  'y',\n",
       "  'ain',\n",
       "  'aren',\n",
       "  \"aren't\",\n",
       "  'couldn',\n",
       "  \"couldn't\",\n",
       "  'didn',\n",
       "  \"didn't\",\n",
       "  'doesn',\n",
       "  \"doesn't\",\n",
       "  'hadn',\n",
       "  \"hadn't\",\n",
       "  'hasn',\n",
       "  \"hasn't\",\n",
       "  'haven',\n",
       "  \"haven't\",\n",
       "  'isn',\n",
       "  \"isn't\",\n",
       "  'ma',\n",
       "  'mightn',\n",
       "  \"mightn't\",\n",
       "  'mustn',\n",
       "  \"mustn't\",\n",
       "  'needn',\n",
       "  \"needn't\",\n",
       "  'shan',\n",
       "  \"shan't\",\n",
       "  'shouldn',\n",
       "  \"shouldn't\",\n",
       "  'wasn',\n",
       "  \"wasn't\",\n",
       "  'weren',\n",
       "  \"weren't\",\n",
       "  'won',\n",
       "  \"won't\",\n",
       "  'wouldn',\n",
       "  \"wouldn't\",\n",
       "  'the',\n",
       "  'of',\n",
       "  'to',\n",
       "  'in',\n",
       "  'than',\n",
       "  '$',\n",
       "  '?',\n",
       "  '(',\n",
       "  ')is',\n",
       "  'www',\n",
       "  'for',\n",
       "  'us',\n",
       "  'amp',\n",
       "  'conservative',\n",
       "  'conservatives',\n",
       "  'liberal',\n",
       "  'liberals',\n",
       "  'think',\n",
       "  'know',\n",
       "  'would',\n",
       "  'trump',\n",
       "  'want',\n",
       "  'pm ing',\n",
       "  'com',\n",
       "  'country',\n",
       "  'like',\n",
       "  'get',\n",
       "  'even',\n",
       "  'new',\n",
       "  'news',\n",
       "  'see',\n",
       "  'people',\n",
       "  'president',\n",
       "  'left',\n",
       "  'right',\n",
       "  'good',\n",
       "  'government',\n",
       "  'time',\n",
       "  'one',\n",
       "  'say',\n",
       "  'amb xb',\n",
       "  'xb',\n",
       "  'yeah',\n",
       "  'oh',\n",
       "  'goo',\n",
       "  'gl',\n",
       "  'enzhg',\n",
       "  'youtube',\n",
       "  'wikipedia',\n",
       "  'fuck',\n",
       "  'fucker',\n",
       "  'libtard',\n",
       "  'libtards']}"
      ]
     },
     "execution_count": 65,
     "metadata": {},
     "output_type": "execute_result"
    }
   ],
   "source": [
    "gs.best_params_"
   ]
  },
  {
   "cell_type": "code",
   "execution_count": 66,
   "metadata": {},
   "outputs": [
    {
     "name": "stdout",
     "output_type": "stream",
     "text": [
      "Train Score 0.6335747763101832\n",
      "Test Score 0.578544061302682\n"
     ]
    },
    {
     "name": "stderr",
     "output_type": "stream",
     "text": [
      "/Users/aryehgelfand/opt/anaconda3/lib/python3.7/site-packages/sklearn/model_selection/_split.py:1978: FutureWarning: The default value of cv will change from 3 to 5 in version 0.22. Specify it explicitly to silence this warning.\n",
      "  warnings.warn(CV_WARNING, FutureWarning)\n",
      "/Users/aryehgelfand/opt/anaconda3/lib/python3.7/site-packages/sklearn/feature_extraction/text.py:300: UserWarning: Your stop_words may be inconsistent with your preprocessing. Tokenizing the stop words generated tokens ['amb', 'ing', 'pm'] not in stop_words.\n",
      "  'stop_words.' % sorted(inconsistent))\n",
      "/Users/aryehgelfand/opt/anaconda3/lib/python3.7/site-packages/sklearn/feature_extraction/text.py:300: UserWarning: Your stop_words may be inconsistent with your preprocessing. Tokenizing the stop words generated tokens ['amb', 'ing', 'pm'] not in stop_words.\n",
      "  'stop_words.' % sorted(inconsistent))\n",
      "/Users/aryehgelfand/opt/anaconda3/lib/python3.7/site-packages/sklearn/feature_extraction/text.py:300: UserWarning: Your stop_words may be inconsistent with your preprocessing. Tokenizing the stop words generated tokens ['amb', 'ing', 'pm'] not in stop_words.\n",
      "  'stop_words.' % sorted(inconsistent))\n"
     ]
    },
    {
     "name": "stdout",
     "output_type": "stream",
     "text": [
      "Cross Val Score 0.5482414209828333\n"
     ]
    }
   ],
   "source": [
    "print(f'Train Score {gs.score(X_train,y_train)}')\n",
    "print(f'Test Score {gs.score(X_test,y_test)}')\n",
    "print(f'Cross Val Score {cross_val_score(gs.best_estimator_, X,y).mean()}')"
   ]
  },
  {
   "cell_type": "markdown",
   "metadata": {},
   "source": [
    "#### Bagging\n"
   ]
  },
  {
   "cell_type": "code",
   "execution_count": 67,
   "metadata": {},
   "outputs": [],
   "source": [
    "bag_pipe_cvec = Pipeline([\n",
    "    ('cvec', CountVectorizer()),\n",
    "    ('bag', BaggingClassifier())])\n",
    "\n",
    "pipe_params = {\n",
    "    'cvec__min_df': [3] ,\n",
    "    'cvec__max_df' : [.6],\n",
    "    'cvec__ngram_range': [(1,3)],\n",
    "    'cvec__stop_words' : ['english', stopwords],\n",
    "    'bag__n_estimators': [20,30,5],\n",
    "    'bag__max_features': [.1,.5,.9]\n",
    "    }\n",
    "gs = GridSearchCV(bag_pipe_cvec, # what object are we optimizing?\n",
    "                  param_grid=pipe_params,\n",
    "                  n_jobs = -1,# what parameters values are we searching?\n",
    "                  cv=3,\n",
    "                  verbose = 1) # 3-fold cross-validation."
   ]
  },
  {
   "cell_type": "code",
   "execution_count": 68,
   "metadata": {},
   "outputs": [
    {
     "name": "stdout",
     "output_type": "stream",
     "text": [
      "Fitting 3 folds for each of 18 candidates, totalling 54 fits\n"
     ]
    },
    {
     "name": "stderr",
     "output_type": "stream",
     "text": [
      "[Parallel(n_jobs=-1)]: Using backend LokyBackend with 4 concurrent workers.\n",
      "[Parallel(n_jobs=-1)]: Done  42 tasks      | elapsed:   35.5s\n",
      "[Parallel(n_jobs=-1)]: Done  54 out of  54 | elapsed:   53.3s finished\n"
     ]
    },
    {
     "data": {
      "text/plain": [
       "GridSearchCV(cv=3, error_score='raise-deprecating',\n",
       "             estimator=Pipeline(memory=None,\n",
       "                                steps=[('cvec',\n",
       "                                        CountVectorizer(analyzer='word',\n",
       "                                                        binary=False,\n",
       "                                                        decode_error='strict',\n",
       "                                                        dtype=<class 'numpy.int64'>,\n",
       "                                                        encoding='utf-8',\n",
       "                                                        input='content',\n",
       "                                                        lowercase=True,\n",
       "                                                        max_df=1.0,\n",
       "                                                        max_features=None,\n",
       "                                                        min_df=1,\n",
       "                                                        ngram_range=(1, 1),\n",
       "                                                        preprocessor=None,\n",
       "                                                        stop_words=None,\n",
       "                                                        strip_accents=None,\n",
       "                                                        tok...\n",
       "                         'cvec__ngram_range': [(1, 3)],\n",
       "                         'cvec__stop_words': ['english',\n",
       "                                              ['i', 'me', 'my', 'myself', 'we',\n",
       "                                               'our', 'ours', 'ourselves',\n",
       "                                               'you', \"you're\", \"you've\",\n",
       "                                               \"you'll\", \"you'd\", 'your',\n",
       "                                               'yours', 'yourself',\n",
       "                                               'yourselves', 'he', 'him', 'his',\n",
       "                                               'himself', 'she', \"she's\", 'her',\n",
       "                                               'hers', 'herself', 'it', \"it's\",\n",
       "                                               'its', 'itself', ...]]},\n",
       "             pre_dispatch='2*n_jobs', refit=True, return_train_score=False,\n",
       "             scoring=None, verbose=1)"
      ]
     },
     "execution_count": 68,
     "metadata": {},
     "output_type": "execute_result"
    }
   ],
   "source": [
    "gs.fit(X_train,y_train)\n"
   ]
  },
  {
   "cell_type": "code",
   "execution_count": 69,
   "metadata": {},
   "outputs": [
    {
     "data": {
      "text/plain": [
       "{'bag__max_features': 0.1,\n",
       " 'bag__n_estimators': 30,\n",
       " 'cvec__max_df': 0.6,\n",
       " 'cvec__min_df': 3,\n",
       " 'cvec__ngram_range': (1, 3),\n",
       " 'cvec__stop_words': 'english'}"
      ]
     },
     "execution_count": 69,
     "metadata": {},
     "output_type": "execute_result"
    }
   ],
   "source": [
    "gs.best_params_"
   ]
  },
  {
   "cell_type": "code",
   "execution_count": 70,
   "metadata": {},
   "outputs": [
    {
     "name": "stdout",
     "output_type": "stream",
     "text": [
      "Train Score 0.8662121857690669\n",
      "Test Score 0.6104725415070242\n"
     ]
    },
    {
     "name": "stderr",
     "output_type": "stream",
     "text": [
      "/Users/aryehgelfand/opt/anaconda3/lib/python3.7/site-packages/sklearn/model_selection/_split.py:1978: FutureWarning: The default value of cv will change from 3 to 5 in version 0.22. Specify it explicitly to silence this warning.\n",
      "  warnings.warn(CV_WARNING, FutureWarning)\n"
     ]
    },
    {
     "name": "stdout",
     "output_type": "stream",
     "text": [
      "Cross Val Score 0.5447348036367826\n"
     ]
    }
   ],
   "source": [
    "print(f'Train Score {gs.score(X_train,y_train)}')\n",
    "print(f'Test Score {gs.score(X_test,y_test)}')\n",
    "print(f'Cross Val Score {cross_val_score(gs.best_estimator_, X,y).mean()}')"
   ]
  },
  {
   "cell_type": "code",
   "execution_count": 71,
   "metadata": {},
   "outputs": [],
   "source": [
    "bag_pipe_tvec = Pipeline([\n",
    "    ('tvec', TfidfVectorizer()),\n",
    "    ('bag', BaggingClassifier())])\n",
    "\n",
    "pipe_params = {\n",
    "    'tvec__min_df': [3] ,\n",
    "    'tvec__max_df' : [.6],\n",
    "    'tvec__ngram_range': [(1,3),(1,4),(2,2)],\n",
    "    'tvec__stop_words' : ['english', stopwords],\n",
    "    'bag__n_estimators': [20,30,5],\n",
    "    'bag__max_features': [.1,.5,.9]\n",
    "    }\n",
    "gs = GridSearchCV(bag_pipe_tvec, # what object are we optimizing?\n",
    "                  param_grid=pipe_params,\n",
    "                  n_jobs = -1,# what parameters values are we searching?\n",
    "                  cv=3,\n",
    "                  verbose = 1) # 3-fold cross-validation."
   ]
  },
  {
   "cell_type": "code",
   "execution_count": 72,
   "metadata": {},
   "outputs": [
    {
     "name": "stdout",
     "output_type": "stream",
     "text": [
      "Fitting 3 folds for each of 54 candidates, totalling 162 fits\n"
     ]
    },
    {
     "name": "stderr",
     "output_type": "stream",
     "text": [
      "[Parallel(n_jobs=-1)]: Using backend LokyBackend with 4 concurrent workers.\n",
      "[Parallel(n_jobs=-1)]: Done  42 tasks      | elapsed:   18.4s\n",
      "[Parallel(n_jobs=-1)]: Done 162 out of 162 | elapsed:  2.2min finished\n"
     ]
    },
    {
     "data": {
      "text/plain": [
       "GridSearchCV(cv=3, error_score='raise-deprecating',\n",
       "             estimator=Pipeline(memory=None,\n",
       "                                steps=[('tvec',\n",
       "                                        TfidfVectorizer(analyzer='word',\n",
       "                                                        binary=False,\n",
       "                                                        decode_error='strict',\n",
       "                                                        dtype=<class 'numpy.float64'>,\n",
       "                                                        encoding='utf-8',\n",
       "                                                        input='content',\n",
       "                                                        lowercase=True,\n",
       "                                                        max_df=1.0,\n",
       "                                                        max_features=None,\n",
       "                                                        min_df=1,\n",
       "                                                        ngram_range=(1, 1),\n",
       "                                                        norm='l2',\n",
       "                                                        preprocessor=None,\n",
       "                                                        smooth_idf=True,\n",
       "                                                        stop_words...\n",
       "                         'tvec__ngram_range': [(1, 3), (1, 4), (2, 2)],\n",
       "                         'tvec__stop_words': ['english',\n",
       "                                              ['i', 'me', 'my', 'myself', 'we',\n",
       "                                               'our', 'ours', 'ourselves',\n",
       "                                               'you', \"you're\", \"you've\",\n",
       "                                               \"you'll\", \"you'd\", 'your',\n",
       "                                               'yours', 'yourself',\n",
       "                                               'yourselves', 'he', 'him', 'his',\n",
       "                                               'himself', 'she', \"she's\", 'her',\n",
       "                                               'hers', 'herself', 'it', \"it's\",\n",
       "                                               'its', 'itself', ...]]},\n",
       "             pre_dispatch='2*n_jobs', refit=True, return_train_score=False,\n",
       "             scoring=None, verbose=1)"
      ]
     },
     "execution_count": 72,
     "metadata": {},
     "output_type": "execute_result"
    }
   ],
   "source": [
    "gs.fit(X_train,y_train)"
   ]
  },
  {
   "cell_type": "code",
   "execution_count": 73,
   "metadata": {},
   "outputs": [
    {
     "data": {
      "text/plain": [
       "{'bag__max_features': 0.5,\n",
       " 'bag__n_estimators': 20,\n",
       " 'tvec__max_df': 0.6,\n",
       " 'tvec__min_df': 3,\n",
       " 'tvec__ngram_range': (1, 4),\n",
       " 'tvec__stop_words': 'english'}"
      ]
     },
     "execution_count": 73,
     "metadata": {},
     "output_type": "execute_result"
    }
   ],
   "source": [
    "gs.best_params_"
   ]
  },
  {
   "cell_type": "code",
   "execution_count": 74,
   "metadata": {},
   "outputs": [
    {
     "name": "stdout",
     "output_type": "stream",
     "text": [
      "Train Score 0.9731572219855135\n",
      "Test Score 0.6040868454661558\n"
     ]
    },
    {
     "name": "stderr",
     "output_type": "stream",
     "text": [
      "/Users/aryehgelfand/opt/anaconda3/lib/python3.7/site-packages/sklearn/model_selection/_split.py:1978: FutureWarning: The default value of cv will change from 3 to 5 in version 0.22. Specify it explicitly to silence this warning.\n",
      "  warnings.warn(CV_WARNING, FutureWarning)\n"
     ]
    },
    {
     "name": "stdout",
     "output_type": "stream",
     "text": [
      "Cross Val Score 0.5584683399396484\n"
     ]
    }
   ],
   "source": [
    "print(f'Train Score {gs.score(X_train,y_train)}')\n",
    "print(f'Test Score {gs.score(X_test,y_test)}')\n",
    "print(f'Cross Val Score {cross_val_score(gs.best_estimator_, X,y).mean()}')"
   ]
  },
  {
   "cell_type": "markdown",
   "metadata": {},
   "source": [
    "#### Random Forest\n"
   ]
  },
  {
   "cell_type": "code",
   "execution_count": 75,
   "metadata": {},
   "outputs": [
    {
     "name": "stderr",
     "output_type": "stream",
     "text": [
      "/Users/aryehgelfand/opt/anaconda3/lib/python3.7/site-packages/sklearn/feature_extraction/text.py:300: UserWarning: Your stop_words may be inconsistent with your preprocessing. Tokenizing the stop words generated tokens ['amb', 'ing', 'pm'] not in stop_words.\n",
      "  'stop_words.' % sorted(inconsistent))\n",
      "/Users/aryehgelfand/opt/anaconda3/lib/python3.7/site-packages/sklearn/feature_extraction/text.py:300: UserWarning: Your stop_words may be inconsistent with your preprocessing. Tokenizing the stop words generated tokens ['amb', 'ing', 'pm'] not in stop_words.\n",
      "  'stop_words.' % sorted(inconsistent))\n",
      "/Users/aryehgelfand/opt/anaconda3/lib/python3.7/site-packages/sklearn/feature_extraction/text.py:300: UserWarning: Your stop_words may be inconsistent with your preprocessing. Tokenizing the stop words generated tokens ['amb', 'ing', 'pm'] not in stop_words.\n",
      "  'stop_words.' % sorted(inconsistent))\n",
      "/Users/aryehgelfand/opt/anaconda3/lib/python3.7/site-packages/sklearn/feature_extraction/text.py:300: UserWarning: Your stop_words may be inconsistent with your preprocessing. Tokenizing the stop words generated tokens ['amb', 'ing', 'pm'] not in stop_words.\n",
      "  'stop_words.' % sorted(inconsistent))\n",
      "/Users/aryehgelfand/opt/anaconda3/lib/python3.7/site-packages/sklearn/feature_extraction/text.py:300: UserWarning: Your stop_words may be inconsistent with your preprocessing. Tokenizing the stop words generated tokens ['amb', 'ing', 'pm'] not in stop_words.\n",
      "  'stop_words.' % sorted(inconsistent))\n",
      "/Users/aryehgelfand/opt/anaconda3/lib/python3.7/site-packages/sklearn/feature_extraction/text.py:300: UserWarning: Your stop_words may be inconsistent with your preprocessing. Tokenizing the stop words generated tokens ['amb', 'ing', 'pm'] not in stop_words.\n",
      "  'stop_words.' % sorted(inconsistent))\n",
      "/Users/aryehgelfand/opt/anaconda3/lib/python3.7/site-packages/sklearn/feature_extraction/text.py:300: UserWarning: Your stop_words may be inconsistent with your preprocessing. Tokenizing the stop words generated tokens ['amb', 'ing', 'pm'] not in stop_words.\n",
      "  'stop_words.' % sorted(inconsistent))\n",
      "/Users/aryehgelfand/opt/anaconda3/lib/python3.7/site-packages/sklearn/feature_extraction/text.py:300: UserWarning: Your stop_words may be inconsistent with your preprocessing. Tokenizing the stop words generated tokens ['amb', 'ing', 'pm'] not in stop_words.\n",
      "  'stop_words.' % sorted(inconsistent))\n",
      "/Users/aryehgelfand/opt/anaconda3/lib/python3.7/site-packages/sklearn/feature_extraction/text.py:300: UserWarning: Your stop_words may be inconsistent with your preprocessing. Tokenizing the stop words generated tokens ['amb', 'ing', 'pm'] not in stop_words.\n",
      "  'stop_words.' % sorted(inconsistent))\n",
      "/Users/aryehgelfand/opt/anaconda3/lib/python3.7/site-packages/sklearn/feature_extraction/text.py:300: UserWarning: Your stop_words may be inconsistent with your preprocessing. Tokenizing the stop words generated tokens ['amb', 'ing', 'pm'] not in stop_words.\n",
      "  'stop_words.' % sorted(inconsistent))\n",
      "/Users/aryehgelfand/opt/anaconda3/lib/python3.7/site-packages/sklearn/feature_extraction/text.py:300: UserWarning: Your stop_words may be inconsistent with your preprocessing. Tokenizing the stop words generated tokens ['amb', 'ing', 'pm'] not in stop_words.\n",
      "  'stop_words.' % sorted(inconsistent))\n",
      "/Users/aryehgelfand/opt/anaconda3/lib/python3.7/site-packages/sklearn/feature_extraction/text.py:300: UserWarning: Your stop_words may be inconsistent with your preprocessing. Tokenizing the stop words generated tokens ['amb', 'ing', 'pm'] not in stop_words.\n",
      "  'stop_words.' % sorted(inconsistent))\n",
      "/Users/aryehgelfand/opt/anaconda3/lib/python3.7/site-packages/sklearn/feature_extraction/text.py:300: UserWarning: Your stop_words may be inconsistent with your preprocessing. Tokenizing the stop words generated tokens ['amb', 'ing', 'pm'] not in stop_words.\n",
      "  'stop_words.' % sorted(inconsistent))\n",
      "/Users/aryehgelfand/opt/anaconda3/lib/python3.7/site-packages/sklearn/feature_extraction/text.py:300: UserWarning: Your stop_words may be inconsistent with your preprocessing. Tokenizing the stop words generated tokens ['amb', 'ing', 'pm'] not in stop_words.\n",
      "  'stop_words.' % sorted(inconsistent))\n",
      "/Users/aryehgelfand/opt/anaconda3/lib/python3.7/site-packages/sklearn/feature_extraction/text.py:300: UserWarning: Your stop_words may be inconsistent with your preprocessing. Tokenizing the stop words generated tokens ['amb', 'ing', 'pm'] not in stop_words.\n",
      "  'stop_words.' % sorted(inconsistent))\n",
      "/Users/aryehgelfand/opt/anaconda3/lib/python3.7/site-packages/sklearn/feature_extraction/text.py:300: UserWarning: Your stop_words may be inconsistent with your preprocessing. Tokenizing the stop words generated tokens ['amb', 'ing', 'pm'] not in stop_words.\n",
      "  'stop_words.' % sorted(inconsistent))\n",
      "/Users/aryehgelfand/opt/anaconda3/lib/python3.7/site-packages/sklearn/feature_extraction/text.py:300: UserWarning: Your stop_words may be inconsistent with your preprocessing. Tokenizing the stop words generated tokens ['amb', 'ing', 'pm'] not in stop_words.\n",
      "  'stop_words.' % sorted(inconsistent))\n",
      "/Users/aryehgelfand/opt/anaconda3/lib/python3.7/site-packages/sklearn/feature_extraction/text.py:300: UserWarning: Your stop_words may be inconsistent with your preprocessing. Tokenizing the stop words generated tokens ['amb', 'ing', 'pm'] not in stop_words.\n",
      "  'stop_words.' % sorted(inconsistent))\n",
      "/Users/aryehgelfand/opt/anaconda3/lib/python3.7/site-packages/sklearn/feature_extraction/text.py:300: UserWarning: Your stop_words may be inconsistent with your preprocessing. Tokenizing the stop words generated tokens ['amb', 'ing', 'pm'] not in stop_words.\n",
      "  'stop_words.' % sorted(inconsistent))\n",
      "/Users/aryehgelfand/opt/anaconda3/lib/python3.7/site-packages/sklearn/feature_extraction/text.py:300: UserWarning: Your stop_words may be inconsistent with your preprocessing. Tokenizing the stop words generated tokens ['amb', 'ing', 'pm'] not in stop_words.\n",
      "  'stop_words.' % sorted(inconsistent))\n",
      "/Users/aryehgelfand/opt/anaconda3/lib/python3.7/site-packages/sklearn/feature_extraction/text.py:300: UserWarning: Your stop_words may be inconsistent with your preprocessing. Tokenizing the stop words generated tokens ['amb', 'ing', 'pm'] not in stop_words.\n",
      "  'stop_words.' % sorted(inconsistent))\n",
      "/Users/aryehgelfand/opt/anaconda3/lib/python3.7/site-packages/sklearn/feature_extraction/text.py:300: UserWarning: Your stop_words may be inconsistent with your preprocessing. Tokenizing the stop words generated tokens ['amb', 'ing', 'pm'] not in stop_words.\n",
      "  'stop_words.' % sorted(inconsistent))\n",
      "/Users/aryehgelfand/opt/anaconda3/lib/python3.7/site-packages/sklearn/feature_extraction/text.py:300: UserWarning: Your stop_words may be inconsistent with your preprocessing. Tokenizing the stop words generated tokens ['amb', 'ing', 'pm'] not in stop_words.\n",
      "  'stop_words.' % sorted(inconsistent))\n",
      "/Users/aryehgelfand/opt/anaconda3/lib/python3.7/site-packages/sklearn/feature_extraction/text.py:300: UserWarning: Your stop_words may be inconsistent with your preprocessing. Tokenizing the stop words generated tokens ['amb', 'ing', 'pm'] not in stop_words.\n",
      "  'stop_words.' % sorted(inconsistent))\n",
      "/Users/aryehgelfand/opt/anaconda3/lib/python3.7/site-packages/sklearn/feature_extraction/text.py:300: UserWarning: Your stop_words may be inconsistent with your preprocessing. Tokenizing the stop words generated tokens ['amb', 'ing', 'pm'] not in stop_words.\n",
      "  'stop_words.' % sorted(inconsistent))\n",
      "/Users/aryehgelfand/opt/anaconda3/lib/python3.7/site-packages/sklearn/feature_extraction/text.py:300: UserWarning: Your stop_words may be inconsistent with your preprocessing. Tokenizing the stop words generated tokens ['amb', 'ing', 'pm'] not in stop_words.\n",
      "  'stop_words.' % sorted(inconsistent))\n",
      "/Users/aryehgelfand/opt/anaconda3/lib/python3.7/site-packages/sklearn/feature_extraction/text.py:300: UserWarning: Your stop_words may be inconsistent with your preprocessing. Tokenizing the stop words generated tokens ['amb', 'ing', 'pm'] not in stop_words.\n",
      "  'stop_words.' % sorted(inconsistent))\n",
      "/Users/aryehgelfand/opt/anaconda3/lib/python3.7/site-packages/sklearn/feature_extraction/text.py:300: UserWarning: Your stop_words may be inconsistent with your preprocessing. Tokenizing the stop words generated tokens ['amb', 'ing', 'pm'] not in stop_words.\n",
      "  'stop_words.' % sorted(inconsistent))\n"
     ]
    },
    {
     "name": "stderr",
     "output_type": "stream",
     "text": [
      "/Users/aryehgelfand/opt/anaconda3/lib/python3.7/site-packages/sklearn/feature_extraction/text.py:300: UserWarning: Your stop_words may be inconsistent with your preprocessing. Tokenizing the stop words generated tokens ['amb', 'ing', 'pm'] not in stop_words.\n",
      "  'stop_words.' % sorted(inconsistent))\n",
      "/Users/aryehgelfand/opt/anaconda3/lib/python3.7/site-packages/sklearn/feature_extraction/text.py:300: UserWarning: Your stop_words may be inconsistent with your preprocessing. Tokenizing the stop words generated tokens ['amb', 'ing', 'pm'] not in stop_words.\n",
      "  'stop_words.' % sorted(inconsistent))\n",
      "/Users/aryehgelfand/opt/anaconda3/lib/python3.7/site-packages/sklearn/feature_extraction/text.py:300: UserWarning: Your stop_words may be inconsistent with your preprocessing. Tokenizing the stop words generated tokens ['amb', 'ing', 'pm'] not in stop_words.\n",
      "  'stop_words.' % sorted(inconsistent))\n",
      "/Users/aryehgelfand/opt/anaconda3/lib/python3.7/site-packages/sklearn/feature_extraction/text.py:300: UserWarning: Your stop_words may be inconsistent with your preprocessing. Tokenizing the stop words generated tokens ['amb', 'ing', 'pm'] not in stop_words.\n",
      "  'stop_words.' % sorted(inconsistent))\n",
      "/Users/aryehgelfand/opt/anaconda3/lib/python3.7/site-packages/sklearn/feature_extraction/text.py:300: UserWarning: Your stop_words may be inconsistent with your preprocessing. Tokenizing the stop words generated tokens ['amb', 'ing', 'pm'] not in stop_words.\n",
      "  'stop_words.' % sorted(inconsistent))\n",
      "/Users/aryehgelfand/opt/anaconda3/lib/python3.7/site-packages/sklearn/feature_extraction/text.py:300: UserWarning: Your stop_words may be inconsistent with your preprocessing. Tokenizing the stop words generated tokens ['amb', 'ing', 'pm'] not in stop_words.\n",
      "  'stop_words.' % sorted(inconsistent))\n",
      "/Users/aryehgelfand/opt/anaconda3/lib/python3.7/site-packages/sklearn/feature_extraction/text.py:300: UserWarning: Your stop_words may be inconsistent with your preprocessing. Tokenizing the stop words generated tokens ['amb', 'ing', 'pm'] not in stop_words.\n",
      "  'stop_words.' % sorted(inconsistent))\n",
      "/Users/aryehgelfand/opt/anaconda3/lib/python3.7/site-packages/sklearn/feature_extraction/text.py:300: UserWarning: Your stop_words may be inconsistent with your preprocessing. Tokenizing the stop words generated tokens ['amb', 'ing', 'pm'] not in stop_words.\n",
      "  'stop_words.' % sorted(inconsistent))\n",
      "/Users/aryehgelfand/opt/anaconda3/lib/python3.7/site-packages/sklearn/feature_extraction/text.py:300: UserWarning: Your stop_words may be inconsistent with your preprocessing. Tokenizing the stop words generated tokens ['amb', 'ing', 'pm'] not in stop_words.\n",
      "  'stop_words.' % sorted(inconsistent))\n",
      "/Users/aryehgelfand/opt/anaconda3/lib/python3.7/site-packages/sklearn/feature_extraction/text.py:300: UserWarning: Your stop_words may be inconsistent with your preprocessing. Tokenizing the stop words generated tokens ['amb', 'ing', 'pm'] not in stop_words.\n",
      "  'stop_words.' % sorted(inconsistent))\n",
      "/Users/aryehgelfand/opt/anaconda3/lib/python3.7/site-packages/sklearn/feature_extraction/text.py:300: UserWarning: Your stop_words may be inconsistent with your preprocessing. Tokenizing the stop words generated tokens ['amb', 'ing', 'pm'] not in stop_words.\n",
      "  'stop_words.' % sorted(inconsistent))\n",
      "/Users/aryehgelfand/opt/anaconda3/lib/python3.7/site-packages/sklearn/feature_extraction/text.py:300: UserWarning: Your stop_words may be inconsistent with your preprocessing. Tokenizing the stop words generated tokens ['amb', 'ing', 'pm'] not in stop_words.\n",
      "  'stop_words.' % sorted(inconsistent))\n",
      "/Users/aryehgelfand/opt/anaconda3/lib/python3.7/site-packages/sklearn/feature_extraction/text.py:300: UserWarning: Your stop_words may be inconsistent with your preprocessing. Tokenizing the stop words generated tokens ['amb', 'ing', 'pm'] not in stop_words.\n",
      "  'stop_words.' % sorted(inconsistent))\n",
      "/Users/aryehgelfand/opt/anaconda3/lib/python3.7/site-packages/sklearn/feature_extraction/text.py:300: UserWarning: Your stop_words may be inconsistent with your preprocessing. Tokenizing the stop words generated tokens ['amb', 'ing', 'pm'] not in stop_words.\n",
      "  'stop_words.' % sorted(inconsistent))\n",
      "/Users/aryehgelfand/opt/anaconda3/lib/python3.7/site-packages/sklearn/feature_extraction/text.py:300: UserWarning: Your stop_words may be inconsistent with your preprocessing. Tokenizing the stop words generated tokens ['amb', 'ing', 'pm'] not in stop_words.\n",
      "  'stop_words.' % sorted(inconsistent))\n",
      "/Users/aryehgelfand/opt/anaconda3/lib/python3.7/site-packages/sklearn/feature_extraction/text.py:300: UserWarning: Your stop_words may be inconsistent with your preprocessing. Tokenizing the stop words generated tokens ['amb', 'ing', 'pm'] not in stop_words.\n",
      "  'stop_words.' % sorted(inconsistent))\n",
      "/Users/aryehgelfand/opt/anaconda3/lib/python3.7/site-packages/sklearn/feature_extraction/text.py:300: UserWarning: Your stop_words may be inconsistent with your preprocessing. Tokenizing the stop words generated tokens ['amb', 'ing', 'pm'] not in stop_words.\n",
      "  'stop_words.' % sorted(inconsistent))\n",
      "/Users/aryehgelfand/opt/anaconda3/lib/python3.7/site-packages/sklearn/feature_extraction/text.py:300: UserWarning: Your stop_words may be inconsistent with your preprocessing. Tokenizing the stop words generated tokens ['amb', 'ing', 'pm'] not in stop_words.\n",
      "  'stop_words.' % sorted(inconsistent))\n",
      "/Users/aryehgelfand/opt/anaconda3/lib/python3.7/site-packages/sklearn/feature_extraction/text.py:300: UserWarning: Your stop_words may be inconsistent with your preprocessing. Tokenizing the stop words generated tokens ['amb', 'ing', 'pm'] not in stop_words.\n",
      "  'stop_words.' % sorted(inconsistent))\n",
      "/Users/aryehgelfand/opt/anaconda3/lib/python3.7/site-packages/sklearn/feature_extraction/text.py:300: UserWarning: Your stop_words may be inconsistent with your preprocessing. Tokenizing the stop words generated tokens ['amb', 'ing', 'pm'] not in stop_words.\n",
      "  'stop_words.' % sorted(inconsistent))\n",
      "/Users/aryehgelfand/opt/anaconda3/lib/python3.7/site-packages/sklearn/feature_extraction/text.py:300: UserWarning: Your stop_words may be inconsistent with your preprocessing. Tokenizing the stop words generated tokens ['amb', 'ing', 'pm'] not in stop_words.\n",
      "  'stop_words.' % sorted(inconsistent))\n",
      "/Users/aryehgelfand/opt/anaconda3/lib/python3.7/site-packages/sklearn/feature_extraction/text.py:300: UserWarning: Your stop_words may be inconsistent with your preprocessing. Tokenizing the stop words generated tokens ['amb', 'ing', 'pm'] not in stop_words.\n",
      "  'stop_words.' % sorted(inconsistent))\n",
      "/Users/aryehgelfand/opt/anaconda3/lib/python3.7/site-packages/sklearn/feature_extraction/text.py:300: UserWarning: Your stop_words may be inconsistent with your preprocessing. Tokenizing the stop words generated tokens ['amb', 'ing', 'pm'] not in stop_words.\n",
      "  'stop_words.' % sorted(inconsistent))\n",
      "/Users/aryehgelfand/opt/anaconda3/lib/python3.7/site-packages/sklearn/feature_extraction/text.py:300: UserWarning: Your stop_words may be inconsistent with your preprocessing. Tokenizing the stop words generated tokens ['amb', 'ing', 'pm'] not in stop_words.\n",
      "  'stop_words.' % sorted(inconsistent))\n",
      "/Users/aryehgelfand/opt/anaconda3/lib/python3.7/site-packages/sklearn/feature_extraction/text.py:300: UserWarning: Your stop_words may be inconsistent with your preprocessing. Tokenizing the stop words generated tokens ['amb', 'ing', 'pm'] not in stop_words.\n",
      "  'stop_words.' % sorted(inconsistent))\n",
      "/Users/aryehgelfand/opt/anaconda3/lib/python3.7/site-packages/sklearn/feature_extraction/text.py:300: UserWarning: Your stop_words may be inconsistent with your preprocessing. Tokenizing the stop words generated tokens ['amb', 'ing', 'pm'] not in stop_words.\n",
      "  'stop_words.' % sorted(inconsistent))\n",
      "/Users/aryehgelfand/opt/anaconda3/lib/python3.7/site-packages/sklearn/feature_extraction/text.py:300: UserWarning: Your stop_words may be inconsistent with your preprocessing. Tokenizing the stop words generated tokens ['amb', 'ing', 'pm'] not in stop_words.\n",
      "  'stop_words.' % sorted(inconsistent))\n",
      "/Users/aryehgelfand/opt/anaconda3/lib/python3.7/site-packages/sklearn/feature_extraction/text.py:300: UserWarning: Your stop_words may be inconsistent with your preprocessing. Tokenizing the stop words generated tokens ['amb', 'ing', 'pm'] not in stop_words.\n",
      "  'stop_words.' % sorted(inconsistent))\n"
     ]
    },
    {
     "name": "stderr",
     "output_type": "stream",
     "text": [
      "/Users/aryehgelfand/opt/anaconda3/lib/python3.7/site-packages/sklearn/feature_extraction/text.py:300: UserWarning: Your stop_words may be inconsistent with your preprocessing. Tokenizing the stop words generated tokens ['amb', 'ing', 'pm'] not in stop_words.\n",
      "  'stop_words.' % sorted(inconsistent))\n",
      "/Users/aryehgelfand/opt/anaconda3/lib/python3.7/site-packages/sklearn/feature_extraction/text.py:300: UserWarning: Your stop_words may be inconsistent with your preprocessing. Tokenizing the stop words generated tokens ['amb', 'ing', 'pm'] not in stop_words.\n",
      "  'stop_words.' % sorted(inconsistent))\n",
      "/Users/aryehgelfand/opt/anaconda3/lib/python3.7/site-packages/sklearn/feature_extraction/text.py:300: UserWarning: Your stop_words may be inconsistent with your preprocessing. Tokenizing the stop words generated tokens ['amb', 'ing', 'pm'] not in stop_words.\n",
      "  'stop_words.' % sorted(inconsistent))\n",
      "/Users/aryehgelfand/opt/anaconda3/lib/python3.7/site-packages/sklearn/feature_extraction/text.py:300: UserWarning: Your stop_words may be inconsistent with your preprocessing. Tokenizing the stop words generated tokens ['amb', 'ing', 'pm'] not in stop_words.\n",
      "  'stop_words.' % sorted(inconsistent))\n"
     ]
    },
    {
     "data": {
      "text/plain": [
       "GridSearchCV(cv=5, error_score='raise-deprecating',\n",
       "             estimator=Pipeline(memory=None,\n",
       "                                steps=[('cvec',\n",
       "                                        CountVectorizer(analyzer='word',\n",
       "                                                        binary=False,\n",
       "                                                        decode_error='strict',\n",
       "                                                        dtype=<class 'numpy.int64'>,\n",
       "                                                        encoding='utf-8',\n",
       "                                                        input='content',\n",
       "                                                        lowercase=True,\n",
       "                                                        max_df=1.0,\n",
       "                                                        max_features=None,\n",
       "                                                        min_df=1,\n",
       "                                                        ngram_range=(1, 1),\n",
       "                                                        preprocessor=None,\n",
       "                                                        stop_words=None,\n",
       "                                                        strip_accents=None,\n",
       "                                                        tok...\n",
       "                                              ['i', 'me', 'my', 'myself', 'we',\n",
       "                                               'our', 'ours', 'ourselves',\n",
       "                                               'you', \"you're\", \"you've\",\n",
       "                                               \"you'll\", \"you'd\", 'your',\n",
       "                                               'yours', 'yourself',\n",
       "                                               'yourselves', 'he', 'him', 'his',\n",
       "                                               'himself', 'she', \"she's\", 'her',\n",
       "                                               'hers', 'herself', 'it', \"it's\",\n",
       "                                               'its', 'itself', ...]],\n",
       "                         'rf__max_depth': [3, 5],\n",
       "                         'rf__n_estimators': [10, 100]},\n",
       "             pre_dispatch='2*n_jobs', refit=True, return_train_score=False,\n",
       "             scoring=None, verbose=0)"
      ]
     },
     "execution_count": 75,
     "metadata": {},
     "output_type": "execute_result"
    }
   ],
   "source": [
    "rf_cvec = Pipeline([\n",
    "    ('cvec', CountVectorizer()),\n",
    "    ('rf', RandomForestClassifier())])\n",
    "\n",
    "rf_params = {\n",
    "    'cvec__min_df': [3] ,\n",
    "    'cvec__max_df' : [.6],\n",
    "    'cvec__ngram_range': [(1,3),(1,4),(2,2)],\n",
    "    'cvec__stop_words' : ['english', stopwords],\n",
    "    'rf__max_depth':[3,5],\n",
    "    'rf__n_estimators':[10,100]\n",
    "    \n",
    "}\n",
    "gs = GridSearchCV(rf_cvec, param_grid=rf_params, cv=5)\n",
    "gs.fit(X_train, y_train)\n",
    "\n"
   ]
  },
  {
   "cell_type": "code",
   "execution_count": 76,
   "metadata": {},
   "outputs": [
    {
     "data": {
      "text/plain": [
       "{'cvec__max_df': 0.6,\n",
       " 'cvec__min_df': 3,\n",
       " 'cvec__ngram_range': (1, 4),\n",
       " 'cvec__stop_words': 'english',\n",
       " 'rf__max_depth': 5,\n",
       " 'rf__n_estimators': 10}"
      ]
     },
     "execution_count": 76,
     "metadata": {},
     "output_type": "execute_result"
    }
   ],
   "source": [
    "\n",
    "gs.best_params_"
   ]
  },
  {
   "cell_type": "code",
   "execution_count": 77,
   "metadata": {},
   "outputs": [
    {
     "name": "stdout",
     "output_type": "stream",
     "text": [
      "Train Score 0.5905411163187048\n",
      "Test Score 0.5670498084291188\n"
     ]
    },
    {
     "name": "stderr",
     "output_type": "stream",
     "text": [
      "/Users/aryehgelfand/opt/anaconda3/lib/python3.7/site-packages/sklearn/model_selection/_split.py:1978: FutureWarning: The default value of cv will change from 3 to 5 in version 0.22. Specify it explicitly to silence this warning.\n",
      "  warnings.warn(CV_WARNING, FutureWarning)\n"
     ]
    },
    {
     "name": "stdout",
     "output_type": "stream",
     "text": [
      "Cross Val Score 0.5514397844796944\n"
     ]
    }
   ],
   "source": [
    "print(f'Train Score {gs.score(X_train,y_train)}')\n",
    "print(f'Test Score {gs.score(X_test,y_test)}')\n",
    "print(f'Cross Val Score {cross_val_score(gs.best_estimator_, X,y).mean()}')"
   ]
  },
  {
   "cell_type": "code",
   "execution_count": 78,
   "metadata": {},
   "outputs": [
    {
     "name": "stderr",
     "output_type": "stream",
     "text": [
      "/Users/aryehgelfand/opt/anaconda3/lib/python3.7/site-packages/sklearn/feature_extraction/text.py:300: UserWarning: Your stop_words may be inconsistent with your preprocessing. Tokenizing the stop words generated tokens ['amb', 'ing', 'pm'] not in stop_words.\n",
      "  'stop_words.' % sorted(inconsistent))\n",
      "/Users/aryehgelfand/opt/anaconda3/lib/python3.7/site-packages/sklearn/feature_extraction/text.py:300: UserWarning: Your stop_words may be inconsistent with your preprocessing. Tokenizing the stop words generated tokens ['amb', 'ing', 'pm'] not in stop_words.\n",
      "  'stop_words.' % sorted(inconsistent))\n",
      "/Users/aryehgelfand/opt/anaconda3/lib/python3.7/site-packages/sklearn/feature_extraction/text.py:300: UserWarning: Your stop_words may be inconsistent with your preprocessing. Tokenizing the stop words generated tokens ['amb', 'ing', 'pm'] not in stop_words.\n",
      "  'stop_words.' % sorted(inconsistent))\n",
      "/Users/aryehgelfand/opt/anaconda3/lib/python3.7/site-packages/sklearn/feature_extraction/text.py:300: UserWarning: Your stop_words may be inconsistent with your preprocessing. Tokenizing the stop words generated tokens ['amb', 'ing', 'pm'] not in stop_words.\n",
      "  'stop_words.' % sorted(inconsistent))\n",
      "/Users/aryehgelfand/opt/anaconda3/lib/python3.7/site-packages/sklearn/feature_extraction/text.py:300: UserWarning: Your stop_words may be inconsistent with your preprocessing. Tokenizing the stop words generated tokens ['amb', 'ing', 'pm'] not in stop_words.\n",
      "  'stop_words.' % sorted(inconsistent))\n",
      "/Users/aryehgelfand/opt/anaconda3/lib/python3.7/site-packages/sklearn/feature_extraction/text.py:300: UserWarning: Your stop_words may be inconsistent with your preprocessing. Tokenizing the stop words generated tokens ['amb', 'ing', 'pm'] not in stop_words.\n",
      "  'stop_words.' % sorted(inconsistent))\n",
      "/Users/aryehgelfand/opt/anaconda3/lib/python3.7/site-packages/sklearn/feature_extraction/text.py:300: UserWarning: Your stop_words may be inconsistent with your preprocessing. Tokenizing the stop words generated tokens ['amb', 'ing', 'pm'] not in stop_words.\n",
      "  'stop_words.' % sorted(inconsistent))\n",
      "/Users/aryehgelfand/opt/anaconda3/lib/python3.7/site-packages/sklearn/feature_extraction/text.py:300: UserWarning: Your stop_words may be inconsistent with your preprocessing. Tokenizing the stop words generated tokens ['amb', 'ing', 'pm'] not in stop_words.\n",
      "  'stop_words.' % sorted(inconsistent))\n",
      "/Users/aryehgelfand/opt/anaconda3/lib/python3.7/site-packages/sklearn/feature_extraction/text.py:300: UserWarning: Your stop_words may be inconsistent with your preprocessing. Tokenizing the stop words generated tokens ['amb', 'ing', 'pm'] not in stop_words.\n",
      "  'stop_words.' % sorted(inconsistent))\n",
      "/Users/aryehgelfand/opt/anaconda3/lib/python3.7/site-packages/sklearn/feature_extraction/text.py:300: UserWarning: Your stop_words may be inconsistent with your preprocessing. Tokenizing the stop words generated tokens ['amb', 'ing', 'pm'] not in stop_words.\n",
      "  'stop_words.' % sorted(inconsistent))\n",
      "/Users/aryehgelfand/opt/anaconda3/lib/python3.7/site-packages/sklearn/feature_extraction/text.py:300: UserWarning: Your stop_words may be inconsistent with your preprocessing. Tokenizing the stop words generated tokens ['amb', 'ing', 'pm'] not in stop_words.\n",
      "  'stop_words.' % sorted(inconsistent))\n",
      "/Users/aryehgelfand/opt/anaconda3/lib/python3.7/site-packages/sklearn/feature_extraction/text.py:300: UserWarning: Your stop_words may be inconsistent with your preprocessing. Tokenizing the stop words generated tokens ['amb', 'ing', 'pm'] not in stop_words.\n",
      "  'stop_words.' % sorted(inconsistent))\n",
      "/Users/aryehgelfand/opt/anaconda3/lib/python3.7/site-packages/sklearn/feature_extraction/text.py:300: UserWarning: Your stop_words may be inconsistent with your preprocessing. Tokenizing the stop words generated tokens ['amb', 'ing', 'pm'] not in stop_words.\n",
      "  'stop_words.' % sorted(inconsistent))\n",
      "/Users/aryehgelfand/opt/anaconda3/lib/python3.7/site-packages/sklearn/feature_extraction/text.py:300: UserWarning: Your stop_words may be inconsistent with your preprocessing. Tokenizing the stop words generated tokens ['amb', 'ing', 'pm'] not in stop_words.\n",
      "  'stop_words.' % sorted(inconsistent))\n",
      "/Users/aryehgelfand/opt/anaconda3/lib/python3.7/site-packages/sklearn/feature_extraction/text.py:300: UserWarning: Your stop_words may be inconsistent with your preprocessing. Tokenizing the stop words generated tokens ['amb', 'ing', 'pm'] not in stop_words.\n",
      "  'stop_words.' % sorted(inconsistent))\n",
      "/Users/aryehgelfand/opt/anaconda3/lib/python3.7/site-packages/sklearn/feature_extraction/text.py:300: UserWarning: Your stop_words may be inconsistent with your preprocessing. Tokenizing the stop words generated tokens ['amb', 'ing', 'pm'] not in stop_words.\n",
      "  'stop_words.' % sorted(inconsistent))\n",
      "/Users/aryehgelfand/opt/anaconda3/lib/python3.7/site-packages/sklearn/feature_extraction/text.py:300: UserWarning: Your stop_words may be inconsistent with your preprocessing. Tokenizing the stop words generated tokens ['amb', 'ing', 'pm'] not in stop_words.\n",
      "  'stop_words.' % sorted(inconsistent))\n",
      "/Users/aryehgelfand/opt/anaconda3/lib/python3.7/site-packages/sklearn/feature_extraction/text.py:300: UserWarning: Your stop_words may be inconsistent with your preprocessing. Tokenizing the stop words generated tokens ['amb', 'ing', 'pm'] not in stop_words.\n",
      "  'stop_words.' % sorted(inconsistent))\n",
      "/Users/aryehgelfand/opt/anaconda3/lib/python3.7/site-packages/sklearn/feature_extraction/text.py:300: UserWarning: Your stop_words may be inconsistent with your preprocessing. Tokenizing the stop words generated tokens ['amb', 'ing', 'pm'] not in stop_words.\n",
      "  'stop_words.' % sorted(inconsistent))\n",
      "/Users/aryehgelfand/opt/anaconda3/lib/python3.7/site-packages/sklearn/feature_extraction/text.py:300: UserWarning: Your stop_words may be inconsistent with your preprocessing. Tokenizing the stop words generated tokens ['amb', 'ing', 'pm'] not in stop_words.\n",
      "  'stop_words.' % sorted(inconsistent))\n",
      "/Users/aryehgelfand/opt/anaconda3/lib/python3.7/site-packages/sklearn/feature_extraction/text.py:300: UserWarning: Your stop_words may be inconsistent with your preprocessing. Tokenizing the stop words generated tokens ['amb', 'ing', 'pm'] not in stop_words.\n",
      "  'stop_words.' % sorted(inconsistent))\n",
      "/Users/aryehgelfand/opt/anaconda3/lib/python3.7/site-packages/sklearn/feature_extraction/text.py:300: UserWarning: Your stop_words may be inconsistent with your preprocessing. Tokenizing the stop words generated tokens ['amb', 'ing', 'pm'] not in stop_words.\n",
      "  'stop_words.' % sorted(inconsistent))\n",
      "/Users/aryehgelfand/opt/anaconda3/lib/python3.7/site-packages/sklearn/feature_extraction/text.py:300: UserWarning: Your stop_words may be inconsistent with your preprocessing. Tokenizing the stop words generated tokens ['amb', 'ing', 'pm'] not in stop_words.\n",
      "  'stop_words.' % sorted(inconsistent))\n",
      "/Users/aryehgelfand/opt/anaconda3/lib/python3.7/site-packages/sklearn/feature_extraction/text.py:300: UserWarning: Your stop_words may be inconsistent with your preprocessing. Tokenizing the stop words generated tokens ['amb', 'ing', 'pm'] not in stop_words.\n",
      "  'stop_words.' % sorted(inconsistent))\n",
      "/Users/aryehgelfand/opt/anaconda3/lib/python3.7/site-packages/sklearn/feature_extraction/text.py:300: UserWarning: Your stop_words may be inconsistent with your preprocessing. Tokenizing the stop words generated tokens ['amb', 'ing', 'pm'] not in stop_words.\n",
      "  'stop_words.' % sorted(inconsistent))\n",
      "/Users/aryehgelfand/opt/anaconda3/lib/python3.7/site-packages/sklearn/feature_extraction/text.py:300: UserWarning: Your stop_words may be inconsistent with your preprocessing. Tokenizing the stop words generated tokens ['amb', 'ing', 'pm'] not in stop_words.\n",
      "  'stop_words.' % sorted(inconsistent))\n",
      "/Users/aryehgelfand/opt/anaconda3/lib/python3.7/site-packages/sklearn/feature_extraction/text.py:300: UserWarning: Your stop_words may be inconsistent with your preprocessing. Tokenizing the stop words generated tokens ['amb', 'ing', 'pm'] not in stop_words.\n",
      "  'stop_words.' % sorted(inconsistent))\n",
      "/Users/aryehgelfand/opt/anaconda3/lib/python3.7/site-packages/sklearn/feature_extraction/text.py:300: UserWarning: Your stop_words may be inconsistent with your preprocessing. Tokenizing the stop words generated tokens ['amb', 'ing', 'pm'] not in stop_words.\n",
      "  'stop_words.' % sorted(inconsistent))\n"
     ]
    },
    {
     "name": "stderr",
     "output_type": "stream",
     "text": [
      "/Users/aryehgelfand/opt/anaconda3/lib/python3.7/site-packages/sklearn/feature_extraction/text.py:300: UserWarning: Your stop_words may be inconsistent with your preprocessing. Tokenizing the stop words generated tokens ['amb', 'ing', 'pm'] not in stop_words.\n",
      "  'stop_words.' % sorted(inconsistent))\n",
      "/Users/aryehgelfand/opt/anaconda3/lib/python3.7/site-packages/sklearn/feature_extraction/text.py:300: UserWarning: Your stop_words may be inconsistent with your preprocessing. Tokenizing the stop words generated tokens ['amb', 'ing', 'pm'] not in stop_words.\n",
      "  'stop_words.' % sorted(inconsistent))\n",
      "/Users/aryehgelfand/opt/anaconda3/lib/python3.7/site-packages/sklearn/feature_extraction/text.py:300: UserWarning: Your stop_words may be inconsistent with your preprocessing. Tokenizing the stop words generated tokens ['amb', 'ing', 'pm'] not in stop_words.\n",
      "  'stop_words.' % sorted(inconsistent))\n",
      "/Users/aryehgelfand/opt/anaconda3/lib/python3.7/site-packages/sklearn/feature_extraction/text.py:300: UserWarning: Your stop_words may be inconsistent with your preprocessing. Tokenizing the stop words generated tokens ['amb', 'ing', 'pm'] not in stop_words.\n",
      "  'stop_words.' % sorted(inconsistent))\n",
      "/Users/aryehgelfand/opt/anaconda3/lib/python3.7/site-packages/sklearn/feature_extraction/text.py:300: UserWarning: Your stop_words may be inconsistent with your preprocessing. Tokenizing the stop words generated tokens ['amb', 'ing', 'pm'] not in stop_words.\n",
      "  'stop_words.' % sorted(inconsistent))\n",
      "/Users/aryehgelfand/opt/anaconda3/lib/python3.7/site-packages/sklearn/feature_extraction/text.py:300: UserWarning: Your stop_words may be inconsistent with your preprocessing. Tokenizing the stop words generated tokens ['amb', 'ing', 'pm'] not in stop_words.\n",
      "  'stop_words.' % sorted(inconsistent))\n",
      "/Users/aryehgelfand/opt/anaconda3/lib/python3.7/site-packages/sklearn/feature_extraction/text.py:300: UserWarning: Your stop_words may be inconsistent with your preprocessing. Tokenizing the stop words generated tokens ['amb', 'ing', 'pm'] not in stop_words.\n",
      "  'stop_words.' % sorted(inconsistent))\n",
      "/Users/aryehgelfand/opt/anaconda3/lib/python3.7/site-packages/sklearn/feature_extraction/text.py:300: UserWarning: Your stop_words may be inconsistent with your preprocessing. Tokenizing the stop words generated tokens ['amb', 'ing', 'pm'] not in stop_words.\n",
      "  'stop_words.' % sorted(inconsistent))\n"
     ]
    },
    {
     "data": {
      "text/plain": [
       "GridSearchCV(cv=3, error_score='raise-deprecating',\n",
       "             estimator=Pipeline(memory=None,\n",
       "                                steps=[('tvec',\n",
       "                                        CountVectorizer(analyzer='word',\n",
       "                                                        binary=False,\n",
       "                                                        decode_error='strict',\n",
       "                                                        dtype=<class 'numpy.int64'>,\n",
       "                                                        encoding='utf-8',\n",
       "                                                        input='content',\n",
       "                                                        lowercase=True,\n",
       "                                                        max_df=1.0,\n",
       "                                                        max_features=None,\n",
       "                                                        min_df=1,\n",
       "                                                        ngram_range=(1, 1),\n",
       "                                                        preprocessor=None,\n",
       "                                                        stop_words=None,\n",
       "                                                        strip_accents=None,\n",
       "                                                        tok...\n",
       "                         'tvec__ngram_range': [(1, 3), (1, 4), (2, 2)],\n",
       "                         'tvec__stop_words': ('english',\n",
       "                                              ['i', 'me', 'my', 'myself', 'we',\n",
       "                                               'our', 'ours', 'ourselves',\n",
       "                                               'you', \"you're\", \"you've\",\n",
       "                                               \"you'll\", \"you'd\", 'your',\n",
       "                                               'yours', 'yourself',\n",
       "                                               'yourselves', 'he', 'him', 'his',\n",
       "                                               'himself', 'she', \"she's\", 'her',\n",
       "                                               'hers', 'herself', 'it', \"it's\",\n",
       "                                               'its', 'itself', ...])},\n",
       "             pre_dispatch='2*n_jobs', refit=True, return_train_score=False,\n",
       "             scoring=None, verbose=0)"
      ]
     },
     "execution_count": 78,
     "metadata": {},
     "output_type": "execute_result"
    }
   ],
   "source": [
    "rf_tvec = Pipeline([\n",
    "    ('tvec', CountVectorizer()),\n",
    "    ('rf', RandomForestClassifier())])\n",
    "\n",
    "rf_params = {\n",
    "    'tvec__min_df': [3] ,\n",
    "    'tvec__max_df' : [.6],\n",
    "    'tvec__ngram_range': [(1,3),(1,4),(2,2)],\n",
    "    'tvec__stop_words' : ('english', stopwords),\n",
    "    'rf__max_depth':[3,5],\n",
    "    'rf__n_estimators':[10,100]\n",
    "    \n",
    "}\n",
    "gs = GridSearchCV(rf_tvec, param_grid=rf_params, cv=3)\n",
    "gs.fit(X_train, y_train)\n",
    "\n",
    "\n"
   ]
  },
  {
   "cell_type": "code",
   "execution_count": 79,
   "metadata": {},
   "outputs": [
    {
     "name": "stdout",
     "output_type": "stream",
     "text": [
      "Train Score 0.5803152961227098\n",
      "Test Score 0.5568326947637292\n"
     ]
    },
    {
     "name": "stderr",
     "output_type": "stream",
     "text": [
      "/Users/aryehgelfand/opt/anaconda3/lib/python3.7/site-packages/sklearn/model_selection/_split.py:1978: FutureWarning: The default value of cv will change from 3 to 5 in version 0.22. Specify it explicitly to silence this warning.\n",
      "  warnings.warn(CV_WARNING, FutureWarning)\n"
     ]
    },
    {
     "name": "stdout",
     "output_type": "stream",
     "text": [
      "Cross Val Score 0.5492035652039623\n"
     ]
    }
   ],
   "source": [
    "print(f'Train Score {gs.score(X_train,y_train)}')\n",
    "print(f'Test Score {gs.score(X_test,y_test)}')\n",
    "print(f'Cross Val Score {cross_val_score(gs.best_estimator_, X,y).mean()}')"
   ]
  },
  {
   "cell_type": "markdown",
   "metadata": {},
   "source": [
    "#### ADA Boost"
   ]
  },
  {
   "cell_type": "code",
   "execution_count": 80,
   "metadata": {},
   "outputs": [
    {
     "name": "stdout",
     "output_type": "stream",
     "text": [
      "Fitting 3 folds for each of 54 candidates, totalling 162 fits\n"
     ]
    },
    {
     "name": "stderr",
     "output_type": "stream",
     "text": [
      "[Parallel(n_jobs=-1)]: Using backend LokyBackend with 4 concurrent workers.\n",
      "[Parallel(n_jobs=-1)]: Done  42 tasks      | elapsed:   19.0s\n",
      "[Parallel(n_jobs=-1)]: Done 162 out of 162 | elapsed:  1.1min finished\n"
     ]
    },
    {
     "data": {
      "text/plain": [
       "GridSearchCV(cv=3, error_score='raise-deprecating',\n",
       "             estimator=Pipeline(memory=None,\n",
       "                                steps=[('cvec',\n",
       "                                        CountVectorizer(analyzer='word',\n",
       "                                                        binary=False,\n",
       "                                                        decode_error='strict',\n",
       "                                                        dtype=<class 'numpy.int64'>,\n",
       "                                                        encoding='utf-8',\n",
       "                                                        input='content',\n",
       "                                                        lowercase=True,\n",
       "                                                        max_df=1.0,\n",
       "                                                        max_features=None,\n",
       "                                                        min_df=1,\n",
       "                                                        ngram_range=(1, 1),\n",
       "                                                        preprocessor=None,\n",
       "                                                        stop_words=None,\n",
       "                                                        strip_accents=None,\n",
       "                                                        tok...\n",
       "                         'cvec__ngram_range': [(1, 3), (1, 4), (2, 2)],\n",
       "                         'cvec__stop_words': ['english',\n",
       "                                              ['i', 'me', 'my', 'myself', 'we',\n",
       "                                               'our', 'ours', 'ourselves',\n",
       "                                               'you', \"you're\", \"you've\",\n",
       "                                               \"you'll\", \"you'd\", 'your',\n",
       "                                               'yours', 'yourself',\n",
       "                                               'yourselves', 'he', 'him', 'his',\n",
       "                                               'himself', 'she', \"she's\", 'her',\n",
       "                                               'hers', 'herself', 'it', \"it's\",\n",
       "                                               'its', 'itself', ...]]},\n",
       "             pre_dispatch='2*n_jobs', refit=True, return_train_score=False,\n",
       "             scoring=None, verbose=1)"
      ]
     },
     "execution_count": 80,
     "metadata": {},
     "output_type": "execute_result"
    }
   ],
   "source": [
    "ada_pipe = Pipeline([\n",
    "    ('cvec', CountVectorizer()),\n",
    "    ( 'tdif', TfidfTransformer(use_idf=False)),\n",
    "    ('ada', AdaBoostClassifier())])\n",
    "\n",
    "ada_params = {\n",
    "    'cvec__min_df': [3] ,\n",
    "    'cvec__max_df' : [.6],\n",
    "    'cvec__ngram_range': [(1,3),(1,4),(2,2)],\n",
    "    'cvec__stop_words' : ['english', stopwords],\n",
    "    'ada__n_estimators' : [25,50,75],\n",
    "    'ada__learning_rate' : [.5,1,1.5]\n",
    "    \n",
    "    \n",
    "}\n",
    "\n",
    "\n",
    "\n",
    "gs = GridSearchCV(ada_pipe, param_grid=ada_params, cv=3,verbose=1, n_jobs=-1)\n",
    "gs.fit(X_train, y_train)\n",
    "\n"
   ]
  },
  {
   "cell_type": "code",
   "execution_count": 81,
   "metadata": {},
   "outputs": [
    {
     "data": {
      "text/plain": [
       "{'ada__learning_rate': 0.5,\n",
       " 'ada__n_estimators': 50,\n",
       " 'cvec__max_df': 0.6,\n",
       " 'cvec__min_df': 3,\n",
       " 'cvec__ngram_range': (1, 3),\n",
       " 'cvec__stop_words': 'english'}"
      ]
     },
     "execution_count": 81,
     "metadata": {},
     "output_type": "execute_result"
    }
   ],
   "source": [
    "gs.best_params_\n"
   ]
  },
  {
   "cell_type": "code",
   "execution_count": 82,
   "metadata": {},
   "outputs": [
    {
     "name": "stdout",
     "output_type": "stream",
     "text": [
      "Train Score 0.6655304644226673\n",
      "Test Score 0.5836526181353767\n"
     ]
    },
    {
     "name": "stderr",
     "output_type": "stream",
     "text": [
      "/Users/aryehgelfand/opt/anaconda3/lib/python3.7/site-packages/sklearn/model_selection/_split.py:1978: FutureWarning: The default value of cv will change from 3 to 5 in version 0.22. Specify it explicitly to silence this warning.\n",
      "  warnings.warn(CV_WARNING, FutureWarning)\n"
     ]
    },
    {
     "name": "stdout",
     "output_type": "stream",
     "text": [
      "Cross Val Score 0.5559195769997278\n"
     ]
    }
   ],
   "source": [
    "print(f'Train Score {gs.score(X_train,y_train)}')\n",
    "print(f'Test Score {gs.score(X_test,y_test)}')\n",
    "print(f'Cross Val Score {cross_val_score(gs.best_estimator_, X,y).mean()}')"
   ]
  },
  {
   "cell_type": "markdown",
   "metadata": {},
   "source": [
    "#### SVC"
   ]
  },
  {
   "cell_type": "code",
   "execution_count": 83,
   "metadata": {},
   "outputs": [],
   "source": [
    "pipe = Pipeline([\n",
    "    ('tvec', TfidfVectorizer()),\n",
    "    ('svc', SVC())])\n",
    "pipe_params = {\n",
    "    'tvec__min_df': [3] ,\n",
    "    'tvec__max_df' : [.6],\n",
    "    'tvec__ngram_range': [(1,3)],\n",
    "    'tvec__stop_words' : ['english', stopwords],\n",
    "    'svc__gamma' : ['scale'],\n",
    "    'svc__C': [100,10,.1],\n",
    "    'svc__kernel':['rbf','linear','poly']\n",
    "\n",
    "}\n",
    "\n",
    "\n",
    "\n",
    "\n",
    "\n",
    "gs = GridSearchCV(pipe, param_grid=pipe_params, cv=5)"
   ]
  },
  {
   "cell_type": "code",
   "execution_count": null,
   "metadata": {},
   "outputs": [
    {
     "name": "stderr",
     "output_type": "stream",
     "text": [
      "/Users/aryehgelfand/opt/anaconda3/lib/python3.7/site-packages/sklearn/feature_extraction/text.py:300: UserWarning: Your stop_words may be inconsistent with your preprocessing. Tokenizing the stop words generated tokens ['amb', 'ing', 'pm'] not in stop_words.\n",
      "  'stop_words.' % sorted(inconsistent))\n",
      "/Users/aryehgelfand/opt/anaconda3/lib/python3.7/site-packages/sklearn/feature_extraction/text.py:300: UserWarning: Your stop_words may be inconsistent with your preprocessing. Tokenizing the stop words generated tokens ['amb', 'ing', 'pm'] not in stop_words.\n",
      "  'stop_words.' % sorted(inconsistent))\n",
      "/Users/aryehgelfand/opt/anaconda3/lib/python3.7/site-packages/sklearn/feature_extraction/text.py:300: UserWarning: Your stop_words may be inconsistent with your preprocessing. Tokenizing the stop words generated tokens ['amb', 'ing', 'pm'] not in stop_words.\n",
      "  'stop_words.' % sorted(inconsistent))\n",
      "/Users/aryehgelfand/opt/anaconda3/lib/python3.7/site-packages/sklearn/feature_extraction/text.py:300: UserWarning: Your stop_words may be inconsistent with your preprocessing. Tokenizing the stop words generated tokens ['amb', 'ing', 'pm'] not in stop_words.\n",
      "  'stop_words.' % sorted(inconsistent))\n",
      "/Users/aryehgelfand/opt/anaconda3/lib/python3.7/site-packages/sklearn/feature_extraction/text.py:300: UserWarning: Your stop_words may be inconsistent with your preprocessing. Tokenizing the stop words generated tokens ['amb', 'ing', 'pm'] not in stop_words.\n",
      "  'stop_words.' % sorted(inconsistent))\n",
      "/Users/aryehgelfand/opt/anaconda3/lib/python3.7/site-packages/sklearn/feature_extraction/text.py:300: UserWarning: Your stop_words may be inconsistent with your preprocessing. Tokenizing the stop words generated tokens ['amb', 'ing', 'pm'] not in stop_words.\n",
      "  'stop_words.' % sorted(inconsistent))\n",
      "/Users/aryehgelfand/opt/anaconda3/lib/python3.7/site-packages/sklearn/feature_extraction/text.py:300: UserWarning: Your stop_words may be inconsistent with your preprocessing. Tokenizing the stop words generated tokens ['amb', 'ing', 'pm'] not in stop_words.\n",
      "  'stop_words.' % sorted(inconsistent))\n",
      "/Users/aryehgelfand/opt/anaconda3/lib/python3.7/site-packages/sklearn/feature_extraction/text.py:300: UserWarning: Your stop_words may be inconsistent with your preprocessing. Tokenizing the stop words generated tokens ['amb', 'ing', 'pm'] not in stop_words.\n",
      "  'stop_words.' % sorted(inconsistent))\n",
      "/Users/aryehgelfand/opt/anaconda3/lib/python3.7/site-packages/sklearn/feature_extraction/text.py:300: UserWarning: Your stop_words may be inconsistent with your preprocessing. Tokenizing the stop words generated tokens ['amb', 'ing', 'pm'] not in stop_words.\n",
      "  'stop_words.' % sorted(inconsistent))\n",
      "/Users/aryehgelfand/opt/anaconda3/lib/python3.7/site-packages/sklearn/feature_extraction/text.py:300: UserWarning: Your stop_words may be inconsistent with your preprocessing. Tokenizing the stop words generated tokens ['amb', 'ing', 'pm'] not in stop_words.\n",
      "  'stop_words.' % sorted(inconsistent))\n",
      "/Users/aryehgelfand/opt/anaconda3/lib/python3.7/site-packages/sklearn/feature_extraction/text.py:300: UserWarning: Your stop_words may be inconsistent with your preprocessing. Tokenizing the stop words generated tokens ['amb', 'ing', 'pm'] not in stop_words.\n",
      "  'stop_words.' % sorted(inconsistent))\n",
      "/Users/aryehgelfand/opt/anaconda3/lib/python3.7/site-packages/sklearn/feature_extraction/text.py:300: UserWarning: Your stop_words may be inconsistent with your preprocessing. Tokenizing the stop words generated tokens ['amb', 'ing', 'pm'] not in stop_words.\n",
      "  'stop_words.' % sorted(inconsistent))\n",
      "/Users/aryehgelfand/opt/anaconda3/lib/python3.7/site-packages/sklearn/feature_extraction/text.py:300: UserWarning: Your stop_words may be inconsistent with your preprocessing. Tokenizing the stop words generated tokens ['amb', 'ing', 'pm'] not in stop_words.\n",
      "  'stop_words.' % sorted(inconsistent))\n",
      "/Users/aryehgelfand/opt/anaconda3/lib/python3.7/site-packages/sklearn/feature_extraction/text.py:300: UserWarning: Your stop_words may be inconsistent with your preprocessing. Tokenizing the stop words generated tokens ['amb', 'ing', 'pm'] not in stop_words.\n",
      "  'stop_words.' % sorted(inconsistent))\n",
      "/Users/aryehgelfand/opt/anaconda3/lib/python3.7/site-packages/sklearn/feature_extraction/text.py:300: UserWarning: Your stop_words may be inconsistent with your preprocessing. Tokenizing the stop words generated tokens ['amb', 'ing', 'pm'] not in stop_words.\n",
      "  'stop_words.' % sorted(inconsistent))\n",
      "/Users/aryehgelfand/opt/anaconda3/lib/python3.7/site-packages/sklearn/feature_extraction/text.py:300: UserWarning: Your stop_words may be inconsistent with your preprocessing. Tokenizing the stop words generated tokens ['amb', 'ing', 'pm'] not in stop_words.\n",
      "  'stop_words.' % sorted(inconsistent))\n",
      "/Users/aryehgelfand/opt/anaconda3/lib/python3.7/site-packages/sklearn/feature_extraction/text.py:300: UserWarning: Your stop_words may be inconsistent with your preprocessing. Tokenizing the stop words generated tokens ['amb', 'ing', 'pm'] not in stop_words.\n",
      "  'stop_words.' % sorted(inconsistent))\n",
      "/Users/aryehgelfand/opt/anaconda3/lib/python3.7/site-packages/sklearn/feature_extraction/text.py:300: UserWarning: Your stop_words may be inconsistent with your preprocessing. Tokenizing the stop words generated tokens ['amb', 'ing', 'pm'] not in stop_words.\n",
      "  'stop_words.' % sorted(inconsistent))\n",
      "/Users/aryehgelfand/opt/anaconda3/lib/python3.7/site-packages/sklearn/feature_extraction/text.py:300: UserWarning: Your stop_words may be inconsistent with your preprocessing. Tokenizing the stop words generated tokens ['amb', 'ing', 'pm'] not in stop_words.\n",
      "  'stop_words.' % sorted(inconsistent))\n",
      "/Users/aryehgelfand/opt/anaconda3/lib/python3.7/site-packages/sklearn/feature_extraction/text.py:300: UserWarning: Your stop_words may be inconsistent with your preprocessing. Tokenizing the stop words generated tokens ['amb', 'ing', 'pm'] not in stop_words.\n",
      "  'stop_words.' % sorted(inconsistent))\n",
      "/Users/aryehgelfand/opt/anaconda3/lib/python3.7/site-packages/sklearn/feature_extraction/text.py:300: UserWarning: Your stop_words may be inconsistent with your preprocessing. Tokenizing the stop words generated tokens ['amb', 'ing', 'pm'] not in stop_words.\n",
      "  'stop_words.' % sorted(inconsistent))\n",
      "/Users/aryehgelfand/opt/anaconda3/lib/python3.7/site-packages/sklearn/feature_extraction/text.py:300: UserWarning: Your stop_words may be inconsistent with your preprocessing. Tokenizing the stop words generated tokens ['amb', 'ing', 'pm'] not in stop_words.\n",
      "  'stop_words.' % sorted(inconsistent))\n",
      "/Users/aryehgelfand/opt/anaconda3/lib/python3.7/site-packages/sklearn/feature_extraction/text.py:300: UserWarning: Your stop_words may be inconsistent with your preprocessing. Tokenizing the stop words generated tokens ['amb', 'ing', 'pm'] not in stop_words.\n",
      "  'stop_words.' % sorted(inconsistent))\n",
      "/Users/aryehgelfand/opt/anaconda3/lib/python3.7/site-packages/sklearn/feature_extraction/text.py:300: UserWarning: Your stop_words may be inconsistent with your preprocessing. Tokenizing the stop words generated tokens ['amb', 'ing', 'pm'] not in stop_words.\n",
      "  'stop_words.' % sorted(inconsistent))\n",
      "/Users/aryehgelfand/opt/anaconda3/lib/python3.7/site-packages/sklearn/feature_extraction/text.py:300: UserWarning: Your stop_words may be inconsistent with your preprocessing. Tokenizing the stop words generated tokens ['amb', 'ing', 'pm'] not in stop_words.\n",
      "  'stop_words.' % sorted(inconsistent))\n",
      "/Users/aryehgelfand/opt/anaconda3/lib/python3.7/site-packages/sklearn/feature_extraction/text.py:300: UserWarning: Your stop_words may be inconsistent with your preprocessing. Tokenizing the stop words generated tokens ['amb', 'ing', 'pm'] not in stop_words.\n",
      "  'stop_words.' % sorted(inconsistent))\n",
      "/Users/aryehgelfand/opt/anaconda3/lib/python3.7/site-packages/sklearn/feature_extraction/text.py:300: UserWarning: Your stop_words may be inconsistent with your preprocessing. Tokenizing the stop words generated tokens ['amb', 'ing', 'pm'] not in stop_words.\n",
      "  'stop_words.' % sorted(inconsistent))\n",
      "/Users/aryehgelfand/opt/anaconda3/lib/python3.7/site-packages/sklearn/feature_extraction/text.py:300: UserWarning: Your stop_words may be inconsistent with your preprocessing. Tokenizing the stop words generated tokens ['amb', 'ing', 'pm'] not in stop_words.\n",
      "  'stop_words.' % sorted(inconsistent))\n"
     ]
    },
    {
     "name": "stderr",
     "output_type": "stream",
     "text": [
      "/Users/aryehgelfand/opt/anaconda3/lib/python3.7/site-packages/sklearn/feature_extraction/text.py:300: UserWarning: Your stop_words may be inconsistent with your preprocessing. Tokenizing the stop words generated tokens ['amb', 'ing', 'pm'] not in stop_words.\n",
      "  'stop_words.' % sorted(inconsistent))\n",
      "/Users/aryehgelfand/opt/anaconda3/lib/python3.7/site-packages/sklearn/feature_extraction/text.py:300: UserWarning: Your stop_words may be inconsistent with your preprocessing. Tokenizing the stop words generated tokens ['amb', 'ing', 'pm'] not in stop_words.\n",
      "  'stop_words.' % sorted(inconsistent))\n",
      "/Users/aryehgelfand/opt/anaconda3/lib/python3.7/site-packages/sklearn/feature_extraction/text.py:300: UserWarning: Your stop_words may be inconsistent with your preprocessing. Tokenizing the stop words generated tokens ['amb', 'ing', 'pm'] not in stop_words.\n",
      "  'stop_words.' % sorted(inconsistent))\n",
      "/Users/aryehgelfand/opt/anaconda3/lib/python3.7/site-packages/sklearn/feature_extraction/text.py:300: UserWarning: Your stop_words may be inconsistent with your preprocessing. Tokenizing the stop words generated tokens ['amb', 'ing', 'pm'] not in stop_words.\n",
      "  'stop_words.' % sorted(inconsistent))\n",
      "/Users/aryehgelfand/opt/anaconda3/lib/python3.7/site-packages/sklearn/feature_extraction/text.py:300: UserWarning: Your stop_words may be inconsistent with your preprocessing. Tokenizing the stop words generated tokens ['amb', 'ing', 'pm'] not in stop_words.\n",
      "  'stop_words.' % sorted(inconsistent))\n",
      "/Users/aryehgelfand/opt/anaconda3/lib/python3.7/site-packages/sklearn/feature_extraction/text.py:300: UserWarning: Your stop_words may be inconsistent with your preprocessing. Tokenizing the stop words generated tokens ['amb', 'ing', 'pm'] not in stop_words.\n",
      "  'stop_words.' % sorted(inconsistent))\n",
      "/Users/aryehgelfand/opt/anaconda3/lib/python3.7/site-packages/sklearn/feature_extraction/text.py:300: UserWarning: Your stop_words may be inconsistent with your preprocessing. Tokenizing the stop words generated tokens ['amb', 'ing', 'pm'] not in stop_words.\n",
      "  'stop_words.' % sorted(inconsistent))\n",
      "/Users/aryehgelfand/opt/anaconda3/lib/python3.7/site-packages/sklearn/feature_extraction/text.py:300: UserWarning: Your stop_words may be inconsistent with your preprocessing. Tokenizing the stop words generated tokens ['amb', 'ing', 'pm'] not in stop_words.\n",
      "  'stop_words.' % sorted(inconsistent))\n",
      "/Users/aryehgelfand/opt/anaconda3/lib/python3.7/site-packages/sklearn/feature_extraction/text.py:300: UserWarning: Your stop_words may be inconsistent with your preprocessing. Tokenizing the stop words generated tokens ['amb', 'ing', 'pm'] not in stop_words.\n",
      "  'stop_words.' % sorted(inconsistent))\n",
      "/Users/aryehgelfand/opt/anaconda3/lib/python3.7/site-packages/sklearn/feature_extraction/text.py:300: UserWarning: Your stop_words may be inconsistent with your preprocessing. Tokenizing the stop words generated tokens ['amb', 'ing', 'pm'] not in stop_words.\n",
      "  'stop_words.' % sorted(inconsistent))\n",
      "/Users/aryehgelfand/opt/anaconda3/lib/python3.7/site-packages/sklearn/feature_extraction/text.py:300: UserWarning: Your stop_words may be inconsistent with your preprocessing. Tokenizing the stop words generated tokens ['amb', 'ing', 'pm'] not in stop_words.\n",
      "  'stop_words.' % sorted(inconsistent))\n",
      "/Users/aryehgelfand/opt/anaconda3/lib/python3.7/site-packages/sklearn/feature_extraction/text.py:300: UserWarning: Your stop_words may be inconsistent with your preprocessing. Tokenizing the stop words generated tokens ['amb', 'ing', 'pm'] not in stop_words.\n",
      "  'stop_words.' % sorted(inconsistent))\n",
      "/Users/aryehgelfand/opt/anaconda3/lib/python3.7/site-packages/sklearn/feature_extraction/text.py:300: UserWarning: Your stop_words may be inconsistent with your preprocessing. Tokenizing the stop words generated tokens ['amb', 'ing', 'pm'] not in stop_words.\n",
      "  'stop_words.' % sorted(inconsistent))\n"
     ]
    }
   ],
   "source": [
    "gs.fit(X_train,y_train)"
   ]
  },
  {
   "cell_type": "code",
   "execution_count": null,
   "metadata": {},
   "outputs": [],
   "source": [
    "print(f'Train Score {gs.score(X_train,y_train)}')\n",
    "print(f'Test Score {gs.score(X_test,y_test)}')\n",
    "print(f'Cross Val Score {cross_val_score(gs.best_estimator_, X,y).mean()}')"
   ]
  },
  {
   "cell_type": "markdown",
   "metadata": {},
   "source": [
    "### Model Selection\n"
   ]
  },
  {
   "cell_type": "markdown",
   "metadata": {},
   "source": [
    "|   Model   | Train Accuracy | Test Accuracy|\n",
    "|-----------|----------|---------|\n",
    "| Logistic Regression-Cvec    | .88   | .63   |\n",
    "| Logistic Regression - Tvec   | .88   | .656|\n",
    "| KNN - Cvec    |.63    |.56|\n",
    "| KNN -  Tvec    |.63    |.55|\n",
    "| dt -  Cvec    |.64    |.57|\n",
    "| dt -  Tvec    |.65    |.57|\n",
    "| BAGGING -  Cvec    |.96    |.613|\n",
    "| BAGGING - Tcvec    |.96    |.62|\n",
    "| Random Forest -  Cvec    |.97    |.63|\n",
    "| Random Forest - Tcvec    |.97    |.627|\n",
    "| ADA Boost     |.68    |.61|\n",
    "| SVC    |.55   |.656|\n",
    "\n"
   ]
  },
  {
   "cell_type": "markdown",
   "metadata": {},
   "source": [
    "I am choosing Logistic Regression as my predictive and interpretable model, because it is easy to interpret and had an equally good score to the svc. Once, I took out the profanity and racist comments the score dropped to .637, this tells me that this is what is making the page distinct, probably because of the lack of moderation."
   ]
  },
  {
   "cell_type": "markdown",
   "metadata": {},
   "source": [
    "### Model Evaluation"
   ]
  },
  {
   "cell_type": "code",
   "execution_count": null,
   "metadata": {},
   "outputs": [],
   "source": [
    "cvec_coefe = best_score.best_estimator_[1].coef_[0]\n",
    "cvec_features =best_score.best_estimator_.steps[0][1].get_feature_names()\n",
    "model_coefe_cvec = pd.Series(cvec_coefe, index = cvec_features)\n",
    "cvec_preds = best_score.predict(X_test)"
   ]
  },
  {
   "cell_type": "markdown",
   "metadata": {},
   "source": [
    "Get feature name and coefficents in a dataframe"
   ]
  },
  {
   "cell_type": "code",
   "execution_count": null,
   "metadata": {},
   "outputs": [],
   "source": [
    "#model_coefe_cvec.sort_values(ascending=False).head(20).plot(kind = 'barh')\n",
    "#plt.title(\"Words Most Correlated to Liberal Cvec\")\n",
    "#plt.xlabel('Correlation')\n",
    "#plt.ylabel('Words')"
   ]
  },
  {
   "cell_type": "markdown",
   "metadata": {},
   "source": [
    "This is the cofficients for my top perforing Logistic regression Model and feature names. It It is the top 20 I am censoring this graph, but it tells us that what is making the liberal class distinct is the lack of moderation of the page. The negative and racist comments are make it different from the conservant class. For example when, I took out profanity and racist words , the accuracy dropped from .66 to .637. There is also the word democrats, and maga, so they are discusing internal and external issues.\n",
    "\n",
    "The graph tells us that negative comments and racist comments have the highest correlation for predicitng the Liberal class. It also includes words like liberals which are obviously self referencing."
   ]
  },
  {
   "cell_type": "code",
   "execution_count": null,
   "metadata": {},
   "outputs": [],
   "source": [
    "print(f'1. For every occurance of the word \"lib***\" a post is {round(np.exp(1.78))} times as likely to be in the Liberal subreddit')\n",
    "print(f'2. For every occurance of the words \"liberals\" a post is {round(np.exp(2.5))} times as likely to be in the Liberal subreddit')\n",
    "print(' I Removed this word but the fact that it has such a large correlation tells us that what makes this class distinct is the lack of moderation on the page')\n"
   ]
  },
  {
   "cell_type": "code",
   "execution_count": null,
   "metadata": {},
   "outputs": [],
   "source": [
    "model_coefe_cvec.sort_values(ascending=False).tail(20).plot(kind = 'barh')\n",
    "plt.title(\"Words Most Correlated to Conservative cvec\")\n",
    "plt.xlabel('Correlation')\n",
    "plt.ylabel('Words')"
   ]
  },
  {
   "cell_type": "code",
   "execution_count": null,
   "metadata": {},
   "outputs": [],
   "source": [
    "print(f'1. For every occurance of the word \"deleted\" a post is {round(np.exp(1.8))} times as likely to be in the Conservative subreddit')\n",
    "print(f'2. For every occurance of the words \"cruz\" a post is {round(np.exp(2.2))} times as likely to be in the Conservative subreddit')\n",
    "\n"
   ]
  },
  {
   "cell_type": "markdown",
   "metadata": {},
   "source": [
    "There page is moderated, the second highest word is deletd meaning they remove any posts that are offensive or they don't agree with. This makes their class very hard to predict, because all the comments are generic about politics and contain the same words as the liberal subreddit. What makes the liberal subreddit unique is the profanity."
   ]
  },
  {
   "cell_type": "code",
   "execution_count": null,
   "metadata": {},
   "outputs": [],
   "source": [
    "cm = confusion_matrix(y_test, cvec_preds)\n",
    "cm_df = pd.DataFrame(cm, columns=['Pred Conservative', 'Pred Liberal'], index=['Actual Conservative', 'Actual Liberal'])\n",
    "cm_df"
   ]
  },
  {
   "cell_type": "code",
   "execution_count": null,
   "metadata": {},
   "outputs": [],
   "source": [
    "confusion_matrix(y_test, # True values.\n",
    "                 cvec_preds)  # Predicted values.\n",
    "tn, fp, fn, tp = confusion_matrix(y_test, cvec_preds).ravel()\n",
    "\n"
   ]
  },
  {
   "cell_type": "code",
   "execution_count": null,
   "metadata": {},
   "outputs": [],
   "source": [
    "print(f'There are {fp} occurances where the mode predicted Liberal but was actually COnservative')\n",
    "print(f'There are {tn} 157 case where the model predicted conservative and was actually conservative')\n",
    "print(f'There are {fn} cases where the model predicted Conservative but was actually Liberal')\n",
    "print(f'There are {tp} cases where the model predicted Liberal and it was Liberal')"
   ]
  },
  {
   "cell_type": "code",
   "execution_count": null,
   "metadata": {},
   "outputs": [],
   "source": [
    "print(f'The Accuracy   is {accuracy_score(y_test,cvec_preds)}')\n",
    "print(f'The Sensitivity is {tp / (tp + fn)}')\n",
    "print(f'The Specificity is {tn / (tn + fp)}')\n",
    "\n"
   ]
  },
  {
   "cell_type": "markdown",
   "metadata": {},
   "source": [
    "The model was almost double as effective in predicting as conservative for the issues I mentioned earlier."
   ]
  },
  {
   "cell_type": "code",
   "execution_count": null,
   "metadata": {},
   "outputs": [],
   "source": [
    "preds = pd.DataFrame(cvec_preds)\n",
    "full = pd.concat([X_test, y_test], axis=1)\n",
    "full['preds'] = cvec_preds"
   ]
  },
  {
   "cell_type": "code",
   "execution_count": null,
   "metadata": {},
   "outputs": [],
   "source": [
    "misclassified = pd.DataFrame(full['fulltext'].loc[~(full['subreddit'] == full['preds'])])\n",
    "misclassified_subreddit = pd.DataFrame(full['subreddit'].loc[~(full['subreddit'] == full['preds'])])"
   ]
  },
  {
   "cell_type": "code",
   "execution_count": null,
   "metadata": {},
   "outputs": [],
   "source": [
    "misclassified['subreddit'] = misclassified_subreddit['subreddit']"
   ]
  },
  {
   "cell_type": "code",
   "execution_count": null,
   "metadata": {},
   "outputs": [],
   "source": [
    "misclassified_l = misclassified['fulltext'].loc[misclassified['subreddit'] == 1]\n",
    "misclassified_c = misclassified['fulltext'].loc[misclassified['subreddit'] == 0]\n",
    "\n",
    "misclassified_l = pd.DataFrame(misclassified_l)\n",
    "misclassified_c = pd.DataFrame(misclassified_c)"
   ]
  },
  {
   "cell_type": "code",
   "execution_count": null,
   "metadata": {},
   "outputs": [],
   "source": [
    "cvec = CountVectorizer(analyzer = \"word\",\n",
    "                             tokenizer = None,\n",
    "                             preprocessor = None,\n",
    "                             stop_words = stopwords,\n",
    "                             ngram_range = (2,2),\n",
    "                       \n",
    "                             max_features = 50000)\n",
    "\n",
    "lm_cvec = cvec.fit_transform(misclassified_l['fulltext'])\n",
    "lm_df = pd.DataFrame(lm_cvec.toarray(),\n",
    "                          columns=cvec.get_feature_names())"
   ]
  },
  {
   "cell_type": "code",
   "execution_count": null,
   "metadata": {},
   "outputs": [],
   "source": [
    "cvec = CountVectorizer(analyzer = \"word\",\n",
    "                             tokenizer = None,\n",
    "                             preprocessor = None,\n",
    "                             stop_words = stopwords,\n",
    "                             ngram_range = (1,2),\n",
    "                       \n",
    "                             max_features = 50000)\n",
    "\n",
    "lm_cvec = cvec.fit_transform(misclassified_l['fulltext'])\n",
    "lm_df = pd.DataFrame(lm_cvec.toarray(),\n",
    "                          columns=cvec.get_feature_names())\n",
    "\n",
    "cvec = CountVectorizer(analyzer = \"word\",\n",
    "                             tokenizer = None,\n",
    "                             preprocessor = None,\n",
    "                             stop_words = stopwords,\n",
    "                             ngram_range = (1,2),\n",
    "                       \n",
    "                             max_features = 50000)\n",
    "\n",
    "cm_cvec = cvec.fit_transform(misclassified_c['fulltext'])\n",
    "cm_df = pd.DataFrame(cm_cvec.toarray(),\n",
    "                          columns=cvec.get_feature_names())"
   ]
  },
  {
   "cell_type": "code",
   "execution_count": null,
   "metadata": {},
   "outputs": [],
   "source": [
    "ig,axes=plt.subplots(ncols=2)\n",
    "plt.suptitle('Most Common Misclassified Posts for Each Subreddit With N_gram (1,2)',fontsize=16,va='bottom')\n",
    "axes[0].set(xlabel=\"Frequency\", ylabel=\"Common Words\")\n",
    "axes[1].set(xlabel=\"Frequency\", ylabel=\"Common Words\")\n",
    "axes[0].title.set_text('Conservative')\n",
    "axes[1].title.set_text('Liberal')\n",
    "cm_df.sum().sort_values(ascending=False).head(20).plot(kind='barh', ax= axes[0]);\n",
    "\n",
    "lm_df.sum().sort_values(ascending=False).head(20).plot(kind='barh', ax = axes[1]);\n",
    "\n",
    "plt.tight_layout()\n",
    "plt.figure();"
   ]
  },
  {
   "cell_type": "markdown",
   "metadata": {},
   "source": [
    "The model struggles with words that be in each for example speech or free speech. These are terms that are generic in a political discussion, and would be hard to classify out of context. "
   ]
  },
  {
   "cell_type": "code",
   "execution_count": null,
   "metadata": {},
   "outputs": [],
   "source": [
    "cvec = CountVectorizer(analyzer = \"word\",\n",
    "                             tokenizer = None,\n",
    "                             preprocessor = None,\n",
    "                             stop_words = stopwords,\n",
    "                             ngram_range = (2,2),\n",
    "                       \n",
    "                             max_features = 50000)\n",
    "\n",
    "lm_cvec = cvec.fit_transform(misclassified_l['fulltext'])\n",
    "lm_df = pd.DataFrame(lm_cvec.toarray(),\n",
    "                          columns=cvec.get_feature_names())\n",
    "\n",
    "cvec = CountVectorizer(analyzer = \"word\",\n",
    "                             tokenizer = None,\n",
    "                             preprocessor = None,\n",
    "                             stop_words = stopwords,\n",
    "                             ngram_range = (2,2),\n",
    "                       \n",
    "                             max_features = 50000)\n",
    "\n",
    "cm_cvec = cvec.fit_transform(misclassified_c['fulltext'])\n",
    "cm_df = pd.DataFrame(cm_cvec.toarray(),\n",
    "                          columns=cvec.get_feature_names())"
   ]
  },
  {
   "cell_type": "code",
   "execution_count": null,
   "metadata": {},
   "outputs": [],
   "source": [
    "fig,axes=plt.subplots(ncols=2)\n",
    "plt.suptitle('Most Common Misclassified Posts for Each Subreddit With N_gram (2,2)',fontsize=16,va='bottom')\n",
    "axes[0].set(xlabel=\"Frequency\", ylabel=\"Common Words\")\n",
    "axes[1].set(xlabel=\"Frequency\", ylabel=\"Common Words\")\n",
    "axes[0].title.set_text('Conservative')\n",
    "axes[1].title.set_text('Liberal')\n",
    "cm_df.sum().sort_values(ascending=False).head(20).plot(kind='barh', ax= axes[0]);\n",
    "\n",
    "lm_df.sum().sort_values(ascending=False).head(20).plot(kind='barh', ax = axes[1]);\n",
    "\n",
    "plt.tight_layout()\n",
    "plt.figure();"
   ]
  },
  {
   "cell_type": "markdown",
   "metadata": {},
   "source": [
    "The model struggles with identifying specific people, like Sam Harris, Gt Gilbert who is Rebublican congressman, or Dan Bongino, who is a conservative media personality. It also struggled with terms like big banks, that could apply to both, or Ben Shapiro, a polarizing figure likely to be discussed by both groups. \n",
    "Terms like third trimester relate to abortion and would be difficult to predict out of context, gun control is another term that gets a lot of air time on both subreddits."
   ]
  },
  {
   "cell_type": "markdown",
   "metadata": {},
   "source": [
    "## Conclusions/Recommendations"
   ]
  },
  {
   "cell_type": "markdown",
   "metadata": {},
   "source": [
    "The moderation of the page had a very large effect on creating a uniqueness that the model could pick up on. Without the major unique terms, like profanity, the model bareful peformed above baseline. Soemthing like a political discussion group is very difficult to classify as  both classes use th same terminology. It is not a good candidate for this type of classification. More robust cleaning could also help us achieve a better score, it could be that link words and other non important factirs contributed to the low accuracy score. However, it is clear that the datasets suffer from a lack of variance in word usage, and are therefore hard to distinguish from one another. This is probably why the TFIDF Vectorizer performed notably better than the Count Vectorizer. It was able to take the context of the document as a factor. In a situation like this where the subject matter is so similiar, context is everything. I would suggest focusing in on data that is hyper centered around one issue that we know is pertaining only to one group as opposed to both. If the text is dissimiliar it would be much easier to classify."
   ]
  },
  {
   "cell_type": "markdown",
   "metadata": {},
   "source": [
    "## Data Dictionary"
   ]
  },
  {
   "cell_type": "markdown",
   "metadata": {},
   "source": [
    "\n",
    "\n",
    " |Name of Field|Where Table exists|Description|Source|Datatype|\n",
    "|---|---|---|---|---|\n",
    "|\"title\"\"|liberal_df/conservative_df/|Title of the reddit Post| https://api.pushshift.io/reddit/search/submission?subreddit=Liberal/https://api.pushshift.io/reddit/search/submission?subreddit=conservative|object|\n",
    "|\"subreddit\"|liberal_d|object|\n",
    "|\"selftext\"|liberal_df/conservative_df|The text within the post|https://api.pushshift.io/reddit/search/submission?subreddit=Liberal/https://api.pushshift.io/reddit/search/submission?subreddit=conservative|object|\n",
    "|\"subreddit\"|liberal_df/conservative_df|Which subreddit the text came|https://api.pushshift.io/reddit/search/submission?subreddit=Liberal/https://api.pushshift.io/reddit/search/submission?subreddit=conservative|object|\n",
    "|created_utc|liberal_df/conservative_df|'Unique code for each reddit post|https://api.pushshift.io/reddit/search/submission?subreddit=Liberal/https://api.pushshift.io/reddit/search/submission?subreddit=conservative|int64|\n",
    "|num_comments\"|liberal_df/conservative_df|The number of comments on the post|https://api.pushshift.io/reddit/search/submission?subreddit=Liberal/https://api.pushshift.io/reddit/search/submission?subreddit=conservative|int64|\n",
    "|Score|liberal_df/conservative_df|A submission's score is simply the number of upvotes minus the number of downvotes. |https://api.pushshift.io/reddit/search/submission?subreddit=Liberal/https://api.pushshift.io/reddit/search/submission?subreddit=conservative|int64|\n",
    "|is_self|liberal_df/conservative_df|Is the posttext only or does have links|https://api.pushshift.io/reddit/search/submission?subreddit=Liberal/https://api.pushshift.io/reddit/search/submission?subreddit=conservative|object|\n",
    "|time_stamp|liberal_df/conservative_df|When was it posted on reddit|https://api.pushshift.io/reddit/search/submission?subreddit=Liberal/https://api.pushshift.io/reddit/search/submission?subreddit=conservative|dtime|\n"
   ]
  },
  {
   "cell_type": "markdown",
   "metadata": {},
   "source": [
    "## References"
   ]
  },
  {
   "cell_type": "markdown",
   "metadata": {},
   "source": [
    "\n",
    " - https://www.reddit.com/r/Liberal/\n",
    " - https://www.reddit.com/r/Conservative/"
   ]
  },
  {
   "cell_type": "code",
   "execution_count": null,
   "metadata": {},
   "outputs": [],
   "source": []
  }
 ],
 "metadata": {
  "kernelspec": {
   "display_name": "Python 3",
   "language": "python",
   "name": "python3"
  },
  "language_info": {
   "codemirror_mode": {
    "name": "ipython",
    "version": 3
   },
   "file_extension": ".py",
   "mimetype": "text/x-python",
   "name": "python",
   "nbconvert_exporter": "python",
   "pygments_lexer": "ipython3",
   "version": "3.7.4"
  }
 },
 "nbformat": 4,
 "nbformat_minor": 2
}
