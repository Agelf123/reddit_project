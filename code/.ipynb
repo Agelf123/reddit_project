{
 "cells": [
  {
   "cell_type": "code",
   "execution_count": 347,
   "metadata": {},
   "outputs": [],
   "source": [
    "import pandas as pd\n",
    "pd.options.display.max_rows = 999\n",
    "pd.options.display.max_columns = 999\n",
    "\n",
    "import wordninja\n",
    "import regex as re\n",
    "from nltk.stem import WordNetLemmatizer\n",
    "from nltk.tokenize import RegexpTokenizer\n",
    "from nltk.tokenize import word_tokenize\n",
    "import pandas as pd\n",
    "from sklearn.model_selection import train_test_split, GridSearchCV\n",
    "from sklearn.pipeline import Pipeline\n",
    "from sklearn.linear_model import LogisticRegression\n",
    "from sklearn.feature_extraction.text import CountVectorizer, TfidfVectorizer\n",
    "from sklearn.feature_extraction.stop_words import ENGLISH_STOP_WORDS as stopwords\n",
    "from nltk.corpus import stopwords"
   ]
  },
  {
   "cell_type": "code",
   "execution_count": 348,
   "metadata": {},
   "outputs": [],
   "source": [
    "l_data = pd.read_csv('../data/liberal_results_df.csv')\n",
    "c_data = pd.read_csv('../data/conservative_results.csv')               \n",
    "\n",
    "\n"
   ]
  },
  {
   "cell_type": "code",
   "execution_count": 349,
   "metadata": {},
   "outputs": [],
   "source": [
    "\n",
    "l_data.drop(l_data.index[[1741]], inplace=True)\n"
   ]
  },
  {
   "cell_type": "code",
   "execution_count": 350,
   "metadata": {},
   "outputs": [],
   "source": [
    "l_data['selftext'] = l_data['selftext'].fillna('[removed]')\n",
    "c_data['selftext'] = c_data['selftext'].fillna('[removed]')\n"
   ]
  },
  {
   "cell_type": "code",
   "execution_count": 351,
   "metadata": {},
   "outputs": [],
   "source": [
    "l_data['selftext'] = l_data['selftext'].apply(lambda x : x.replace('[removed]',''))\n",
    "c_data['selftext'] = c_data['selftext'].apply(lambda x : x.replace('[removed]',''))\n"
   ]
  },
  {
   "cell_type": "code",
   "execution_count": 352,
   "metadata": {},
   "outputs": [],
   "source": [
    "l_data['fulltext'] = l_data['title'] + ' ' + l_data['selftext']\n",
    "c_data['fulltext'] = c_data['title'] + ' ' + c_data['selftext']\n"
   ]
  },
  {
   "cell_type": "code",
   "execution_count": 353,
   "metadata": {},
   "outputs": [],
   "source": [
    "c_categorical_nums = {\"subreddit\": {'Conservative': 1}}\n",
    "l_categorical_nums = {\"subreddit\": {'Liberal': 0}}\n",
    "c_data.replace(c_categorical_nums, inplace=True)\n",
    "l_data.replace(l_categorical_nums, inplace=True)"
   ]
  },
  {
   "cell_type": "code",
   "execution_count": 354,
   "metadata": {},
   "outputs": [],
   "source": [
    "def remove_links(data,col):\n",
    "    string = []\n",
    "    remove_links = []\n",
    "    for i in data[col]:\n",
    "            string.append(str(i))\n",
    "    for k in string:\n",
    "            remove_links.append(re.sub(r'\\b(?:(?:https|http)://)?\\w[\\w-]+(?:\\.[\\w-]+)+\\S*','', k))\n",
    "    return remove_links\n",
    "c_data['fulltext'] = remove_links(c_data,'fulltext')"
   ]
  },
  {
   "cell_type": "code",
   "execution_count": 355,
   "metadata": {},
   "outputs": [],
   "source": [
    "def only_letters(data,col):\n",
    "    letters = []\n",
    "    for i in data[col]:\n",
    "        letters.append(re.sub(r'[^A-Za-z0-9 ]+', \"\", i))\n",
    "    return letters\n",
    "l_data['fulltext'] = only_letters(l_data,'fulltext')\n",
    "c_data['fulltext'] = only_letters(c_data,'fulltext')\n",
    "\n"
   ]
  },
  {
   "cell_type": "code",
   "execution_count": 356,
   "metadata": {},
   "outputs": [],
   "source": [
    "#c_data['fulltext'] = df['fulltext'].where((df['fulltext'].str.len() == 4))\n",
    " \n",
    "\n",
    "        "
   ]
  },
  {
   "cell_type": "code",
   "execution_count": 357,
   "metadata": {},
   "outputs": [],
   "source": [
    "def make_str_remove_non_letters_lower(data,col):\n",
    "    string = []\n",
    "    for i in data[col]:\n",
    "        string.append(str(i))\n",
    "     \n",
    "    letters = []\n",
    "    for i in string:\n",
    "        letters.append(re.sub(r'[^A-Za-z0-9 ]+', '', i))\n",
    "    lower = []\n",
    "    for i in letters:\n",
    "        lower.append(i.lower())\n",
    "    return lower\n",
    "l_data['fulltext'] = make_str_remove_non_letters_lower(l_data,'fulltext')\n",
    "c_data['fulltext'] = make_str_remove_non_letters_lower(c_data,'fulltext')\n",
    "\n",
    "    \n"
   ]
  },
  {
   "cell_type": "code",
   "execution_count": 358,
   "metadata": {},
   "outputs": [],
   "source": [
    "def remove_number(data,col):\n",
    "    num_list = ['0','1','2','3','4','5','6','7','8','9']\n",
    "    for i in data[col]:\n",
    "    \n",
    "        for i in num_list:\n",
    "            for j in i:\n",
    "                for k in num_list:\n",
    "                    if k in j:\n",
    "                        data[col]= data[col].apply(lambda x : x.replace(j,''))\n",
    "remove_number(c_data,'fulltext')\n",
    "remove_number(l_data,'fulltext')\n",
    "           "
   ]
  },
  {
   "cell_type": "code",
   "execution_count": 359,
   "metadata": {},
   "outputs": [],
   "source": [
    "cvec = CountVectorizer(analyzer = \"word\",\n",
    "                             tokenizer = None,\n",
    "                             preprocessor = None,\n",
    "                             stop_words = 'english',\n",
    "                             max_features = 50000)"
   ]
  },
  {
   "cell_type": "code",
   "execution_count": 360,
   "metadata": {},
   "outputs": [],
   "source": [
    "l_data = cvec.fit_transform(l_data['fulltext'])\n",
    "l_df = pd.DataFrame(l_data.toarray(),\n",
    "                          columns=cvec.get_feature_names())\n"
   ]
  },
  {
   "cell_type": "code",
   "execution_count": 361,
   "metadata": {},
   "outputs": [],
   "source": [
    "c_data = cvec.fit_transform(c_data['fulltext'])\n",
    "c_df = pd.DataFrame(c_data.toarray(),\n",
    "                          columns=cvec.get_feature_names())"
   ]
  },
  {
   "cell_type": "code",
   "execution_count": 362,
   "metadata": {},
   "outputs": [
    {
     "data": {
      "text/plain": [
       "(1422, 10376)"
      ]
     },
     "execution_count": 362,
     "metadata": {},
     "output_type": "execute_result"
    }
   ],
   "source": [
    "c_df.shape"
   ]
  },
  {
   "cell_type": "code",
   "execution_count": 364,
   "metadata": {},
   "outputs": [
    {
     "data": {
      "text/plain": [
       "(1741, 11072)"
      ]
     },
     "execution_count": 364,
     "metadata": {},
     "output_type": "execute_result"
    }
   ],
   "source": [
    "l_df.shape"
   ]
  },
  {
   "cell_type": "code",
   "execution_count": 367,
   "metadata": {},
   "outputs": [
    {
     "data": {
      "text/plain": [
       "<matplotlib.axes._subplots.AxesSubplot at 0x1a4e427310>"
      ]
     },
     "execution_count": 367,
     "metadata": {},
     "output_type": "execute_result"
    },
    {
     "data": {
      "image/png": "[encoded data removed]",
      "text/plain": [
       "<Figure size 432x288 with 1 Axes>"
      ]
     },
     "metadata": {
      "needs_background": "light"
     },
     "output_type": "display_data"
    }
   ],
   "source": [
    "l_df.sum()[l_df.sum()>=100].sort_values(ascending=False).plot(kind='barh')"
   ]
  },
  {
   "cell_type": "code",
   "execution_count": 368,
   "metadata": {},
   "outputs": [
    {
     "data": {
      "text/plain": [
       "<matplotlib.axes._subplots.AxesSubplot at 0x1a4e5de9d0>"
      ]
     },
     "execution_count": 368,
     "metadata": {},
     "output_type": "execute_result"
    },
    {
     "data": {
      "image/png": "[encoded data removed]",
      "text/plain": [
       "<Figure size 432x288 with 1 Axes>"
      ]
     },
     "metadata": {
      "needs_background": "light"
     },
     "output_type": "display_data"
    }
   ],
   "source": [
    "c_df.sum()[c_df.sum()>=100].sort_values(ascending=False).plot(kind='barh')"
   ]
  },
  {
   "cell_type": "code",
   "execution_count": null,
   "metadata": {},
   "outputs": [],
   "source": [
    "#full_df = pd.concat([liberal_df, conservative_df],axis = 1)"
   ]
  },
  {
   "cell_type": "code",
   "execution_count": null,
   "metadata": {},
   "outputs": [],
   "source": [
    "liberal_df.sum()[liberal_df.sum()>=400].sort_values(ascending=False).plot(kind='barh')"
   ]
  },
  {
   "cell_type": "code",
   "execution_count": null,
   "metadata": {},
   "outputs": [],
   "source": [
    "full_df.shape"
   ]
  },
  {
   "cell_type": "code",
   "execution_count": null,
   "metadata": {},
   "outputs": [],
   "source": [
    "X = full_df['full_text']\n",
    "y = full_df['subreddit']"
   ]
  },
  {
   "cell_type": "code",
   "execution_count": null,
   "metadata": {},
   "outputs": [],
   "source": [
    "X_train, X_test, y_train, y_test = train_test_split(X,\n",
    "                                                    y,\n",
    "                                                    test_size=0.33,\n",
    "                                                    stratify=y,\n",
    "                                                    random_state=42)"
   ]
  },
  {
   "cell_type": "code",
   "execution_count": null,
   "metadata": {},
   "outputs": [],
   "source": [
    "y_test"
   ]
  },
  {
   "cell_type": "code",
   "execution_count": null,
   "metadata": {},
   "outputs": [],
   "source": []
  }
 ],
 "metadata": {
  "kernelspec": {
   "display_name": "Python 3",
   "language": "python",
   "name": "python3"
  },
  "language_info": {
   "codemirror_mode": {
    "name": "ipython",
    "version": 3
   },
   "file_extension": ".py",
   "mimetype": "text/x-python",
   "name": "python",
   "nbconvert_exporter": "python",
   "pygments_lexer": "ipython3",
   "version": "3.7.4"
  }
 },
 "nbformat": 4,
 "nbformat_minor": 2
}
