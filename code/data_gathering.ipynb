{
 "cells": [
  {
   "cell_type": "code",
   "execution_count": 1,
   "metadata": {},
   "outputs": [],
   "source": [
    "import pandas as pd\n",
    "import datetime as dt\n",
    "import time\n",
    "import requests"
   ]
  },
  {
   "cell_type": "code",
   "execution_count": 52,
   "metadata": {},
   "outputs": [],
   "source": [
    "def query_pushshift(subreddit, kind = 'submission', day_window = 50, n = 10):\n",
    "    SUBFIELDS = ['title', 'selftext', 'subreddit', 'created_utc', 'author', 'num_comments', 'score', 'is_self']\n",
    "    \n",
    "    # establish base url and stem\n",
    "    BASE_URL = f\"https://api.pushshift.io/reddit/search/{kind}\" # also known as the \"API endpoint\" \n",
    "    stem = f\"{BASE_URL}?subreddit={subreddit}&size=500\" # always pulling max of 500\n",
    "    \n",
    "    # instantiate empty list for temp storage\n",
    "    posts = []\n",
    "    \n",
    "    # implement for loop with `time.sleep(2)`\n",
    "    for i in range(1, n + 1):\n",
    "        URL = \"{}&after={}d\".format(stem, day_window * i)\n",
    "        print(\"Querying from: \" + URL)\n",
    "        response = requests.get(URL)\n",
    "        assert response.status_code == 200\n",
    "        mine = response.json()['data']\n",
    "        df = pd.DataFrame.from_dict(mine)\n",
    "        posts.append(df)\n",
    "        time.sleep(2)\n",
    "    \n",
    "    # pd.concat storage list\n",
    "    full = pd.concat(posts, sort=False)\n",
    "    \n",
    "    # if submission\n",
    "    if kind == \"submission\":\n",
    "        # select desired columns\n",
    "        full = full[SUBFIELDS]\n",
    "        # drop duplicates\n",
    "        full.drop_duplicates(inplace = True)\n",
    "        # select `is_self` == True\n",
    "        full = full.loc[full['is_self'] == True]\n",
    "\n",
    "    # create `timestamp` column\n",
    "    full['timestamp'] = full[\"created_utc\"].map(dt.date.fromtimestamp)\n",
    "    \n",
    "    print(\"Query Complete!\")    \n",
    "    return full"
   ]
  },
  {
   "cell_type": "code",
   "execution_count": 53,
   "metadata": {},
   "outputs": [
    {
     "name": "stdout",
     "output_type": "stream",
     "text": [
      "Querying from: https://api.pushshift.io/reddit/search/submission?subreddit=Liberal&size=500&after=50d\n",
      "Querying from: https://api.pushshift.io/reddit/search/submission?subreddit=Liberal&size=500&after=100d\n",
      "Querying from: https://api.pushshift.io/reddit/search/submission?subreddit=Liberal&size=500&after=150d\n",
      "Querying from: https://api.pushshift.io/reddit/search/submission?subreddit=Liberal&size=500&after=200d\n",
      "Querying from: https://api.pushshift.io/reddit/search/submission?subreddit=Liberal&size=500&after=250d\n",
      "Querying from: https://api.pushshift.io/reddit/search/submission?subreddit=Liberal&size=500&after=300d\n",
      "Querying from: https://api.pushshift.io/reddit/search/submission?subreddit=Liberal&size=500&after=350d\n",
      "Querying from: https://api.pushshift.io/reddit/search/submission?subreddit=Liberal&size=500&after=400d\n",
      "Querying from: https://api.pushshift.io/reddit/search/submission?subreddit=Liberal&size=500&after=450d\n",
      "Querying from: https://api.pushshift.io/reddit/search/submission?subreddit=Liberal&size=500&after=500d\n",
      "Query Complete!\n"
     ]
    }
   ],
   "source": [
    "liberal_results_df = query_pushshift(\"Liberal\")"
   ]
  },
  {
   "cell_type": "code",
   "execution_count": 54,
   "metadata": {},
   "outputs": [
    {
     "data": {
      "text/plain": [
       "(1742, 9)"
      ]
     },
     "execution_count": 54,
     "metadata": {},
     "output_type": "execute_result"
    }
   ],
   "source": [
    "liberal_results_df.shape"
   ]
  },
  {
   "cell_type": "code",
   "execution_count": 55,
   "metadata": {},
   "outputs": [],
   "source": [
    "liberal_results_df.to_csv('liberal_results_df.csv',index=False)"
   ]
  },
  {
   "cell_type": "code",
   "execution_count": 27,
   "metadata": {},
   "outputs": [],
   "source": [
    "def query_pushshift(subreddit, kind = 'submission', day_window = 50, n = 20):\n",
    "    SUBFIELDS = ['title', 'selftext', 'subreddit', 'created_utc', 'author', 'num_comments', 'score', 'is_self']\n",
    "    \n",
    "    # establish base url and stem\n",
    "    BASE_URL = f\"https://api.pushshift.io/reddit/search/{kind}\" # also known as the \"API endpoint\" \n",
    "    stem = f\"{BASE_URL}?subreddit={subreddit}&size=500\" # always pulling max of 500\n",
    "    \n",
    "    # instantiate empty list for temp storage\n",
    "    posts = []\n",
    "    \n",
    "    # implement for loop with `time.sleep(2)`\n",
    "    for i in range(1, n + 1):\n",
    "        URL = \"{}&after={}d\".format(stem, day_window * i)\n",
    "        print(\"Querying from: \" + URL)\n",
    "        response = requests.get(URL)\n",
    "        assert response.status_code == 200\n",
    "        mine = response.json()['data']\n",
    "        df = pd.DataFrame.from_dict(mine)\n",
    "        posts.append(df)\n",
    "        time.sleep(2)\n",
    "    \n",
    "    # pd.concat storage list\n",
    "    full = pd.concat(posts, sort=False)\n",
    "    \n",
    "    # if submission\n",
    "    if kind == \"submission\":\n",
    "        # select desired columns\n",
    "        full = full[SUBFIELDS]\n",
    "        # drop duplicates\n",
    "        full.drop_duplicates(inplace = True)\n",
    "        # select `is_self` == True\n",
    "        full = full.loc[full['is_self'] == True]\n",
    "\n",
    "    # create `timestamp` column\n",
    "    full['timestamp'] = full[\"created_utc\"].map(dt.date.fromtimestamp)\n",
    "    \n",
    "    print(\"Query Complete!\")    \n",
    "    return full"
   ]
  },
  {
   "cell_type": "code",
   "execution_count": 46,
   "metadata": {},
   "outputs": [
    {
     "name": "stdout",
     "output_type": "stream",
     "text": [
      "Querying from: https://api.pushshift.io/reddit/search/submission?subreddit=Conservative&size=500&after=50d\n",
      "Querying from: https://api.pushshift.io/reddit/search/submission?subreddit=Conservative&size=500&after=100d\n",
      "Querying from: https://api.pushshift.io/reddit/search/submission?subreddit=Conservative&size=500&after=150d\n",
      "Querying from: https://api.pushshift.io/reddit/search/submission?subreddit=Conservative&size=500&after=200d\n",
      "Querying from: https://api.pushshift.io/reddit/search/submission?subreddit=Conservative&size=500&after=250d\n",
      "Querying from: https://api.pushshift.io/reddit/search/submission?subreddit=Conservative&size=500&after=300d\n",
      "Querying from: https://api.pushshift.io/reddit/search/submission?subreddit=Conservative&size=500&after=350d\n",
      "Querying from: https://api.pushshift.io/reddit/search/submission?subreddit=Conservative&size=500&after=400d\n",
      "Querying from: https://api.pushshift.io/reddit/search/submission?subreddit=Conservative&size=500&after=450d\n",
      "Querying from: https://api.pushshift.io/reddit/search/submission?subreddit=Conservative&size=500&after=500d\n",
      "Querying from: https://api.pushshift.io/reddit/search/submission?subreddit=Conservative&size=500&after=550d\n",
      "Querying from: https://api.pushshift.io/reddit/search/submission?subreddit=Conservative&size=500&after=600d\n",
      "Querying from: https://api.pushshift.io/reddit/search/submission?subreddit=Conservative&size=500&after=650d\n",
      "Querying from: https://api.pushshift.io/reddit/search/submission?subreddit=Conservative&size=500&after=700d\n",
      "Querying from: https://api.pushshift.io/reddit/search/submission?subreddit=Conservative&size=500&after=750d\n",
      "Querying from: https://api.pushshift.io/reddit/search/submission?subreddit=Conservative&size=500&after=800d\n",
      "Querying from: https://api.pushshift.io/reddit/search/submission?subreddit=Conservative&size=500&after=850d\n",
      "Querying from: https://api.pushshift.io/reddit/search/submission?subreddit=Conservative&size=500&after=900d\n",
      "Querying from: https://api.pushshift.io/reddit/search/submission?subreddit=Conservative&size=500&after=950d\n",
      "Querying from: https://api.pushshift.io/reddit/search/submission?subreddit=Conservative&size=500&after=1000d\n",
      "Querying from: https://api.pushshift.io/reddit/search/submission?subreddit=Conservative&size=500&after=1050d\n",
      "Querying from: https://api.pushshift.io/reddit/search/submission?subreddit=Conservative&size=500&after=1100d\n",
      "Querying from: https://api.pushshift.io/reddit/search/submission?subreddit=Conservative&size=500&after=1150d\n",
      "Querying from: https://api.pushshift.io/reddit/search/submission?subreddit=Conservative&size=500&after=1200d\n",
      "Querying from: https://api.pushshift.io/reddit/search/submission?subreddit=Conservative&size=500&after=1250d\n",
      "Querying from: https://api.pushshift.io/reddit/search/submission?subreddit=Conservative&size=500&after=1300d\n",
      "Querying from: https://api.pushshift.io/reddit/search/submission?subreddit=Conservative&size=500&after=1350d\n",
      "Querying from: https://api.pushshift.io/reddit/search/submission?subreddit=Conservative&size=500&after=1400d\n",
      "Querying from: https://api.pushshift.io/reddit/search/submission?subreddit=Conservative&size=500&after=1450d\n",
      "Querying from: https://api.pushshift.io/reddit/search/submission?subreddit=Conservative&size=500&after=1500d\n",
      "Query Complete!\n"
     ]
    }
   ],
   "source": [
    "conservative_results_df = query_pushshift(\"Conservative\")"
   ]
  },
  {
   "cell_type": "code",
   "execution_count": 47,
   "metadata": {},
   "outputs": [
    {
     "data": {
      "text/plain": [
       "(1422, 9)"
      ]
     },
     "execution_count": 47,
     "metadata": {},
     "output_type": "execute_result"
    }
   ],
   "source": [
    "conservative_results_df.shape"
   ]
  },
  {
   "cell_type": "code",
   "execution_count": 56,
   "metadata": {},
   "outputs": [],
   "source": [
    "conservative_results_df.to_csv('conservative_results.csv',index=False)"
   ]
  },
  {
   "cell_type": "code",
   "execution_count": null,
   "metadata": {},
   "outputs": [],
   "source": []
  }
 ],
 "metadata": {
  "kernelspec": {
   "display_name": "Python 3",
   "language": "python",
   "name": "python3"
  },
  "language_info": {
   "codemirror_mode": {
    "name": "ipython",
    "version": 3
   },
   "file_extension": ".py",
   "mimetype": "text/x-python",
   "name": "python",
   "nbconvert_exporter": "python",
   "pygments_lexer": "ipython3",
   "version": "3.7.4"
  }
 },
 "nbformat": 4,
 "nbformat_minor": 2
}
